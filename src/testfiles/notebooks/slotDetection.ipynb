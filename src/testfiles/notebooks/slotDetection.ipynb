{
 "cells": [
  {
   "cell_type": "code",
   "execution_count": null,
   "id": "847e22d3",
   "metadata": {},
   "outputs": [],
   "source": [
    "#import tkinter as tk\n",
    "import pandas as pd\n",
    "import math\n",
    "import pandas as pd\n",
    "import numpy as np\n",
    "import cv2\n",
    "import random\n",
    "\n",
    "#import pygetwindow as gw\n",
    "import pyautogui\n",
    "import threading\n",
    "import time\n",
    "\n",
    "from PIL import Image, ImageStat\n",
    "from matplotlib import pyplot as plt\n",
    "from os.path import exists"
   ]
  },
  {
   "cell_type": "markdown",
   "id": "1609ee91",
   "metadata": {},
   "source": [
    "# for inventory item detection"
   ]
  },
  {
   "cell_type": "code",
   "execution_count": null,
   "id": "3810b6f2",
   "metadata": {},
   "outputs": [],
   "source": [
    "def edge_detection(img_np):\n",
    "    img = img_np.copy()\n",
    "    img = cv2.cvtColor(img, cv2.COLOR_BGR2GRAY)\n",
    "    img = cv2.GaussianBlur(img, (3,3), 0)\n",
    "    img = cv2.Canny(img, threshold1=50, threshold2=200, apertureSize=5)\n",
    "    img = cv2.blur(img, (3,3))\n",
    "    return img\n",
    "\n",
    "def inventory_line_detection(img):\n",
    "    global window_scale_factor\n",
    "    img_inventory_edge = edge_detection(img)\n",
    "    \n",
    "    # horizontal and vertical line detection\n",
    "    line_length = (int) (40 * window_scale_factor)\n",
    "    img_horizontal = img_inventory_edge.copy()\n",
    "    img_vertical = img_inventory_edge.copy()\n",
    "\n",
    "    horizontal_struct = cv2.getStructuringElement(cv2.MORPH_RECT, (line_length,1))\n",
    "    vertical_struct = cv2.getStructuringElement(cv2.MORPH_RECT, (1,line_length))\n",
    "    cv2.erode(img_horizontal, horizontal_struct, img_horizontal)\n",
    "    cv2.erode(img_vertical, vertical_struct, img_vertical)\n",
    "    cv2.dilate(img_horizontal, horizontal_struct, img_horizontal)\n",
    "    cv2.dilate(img_vertical, vertical_struct, img_vertical)\n",
    "\n",
    "    result = cv2.add(img_horizontal, img_vertical)\n",
    "    return result\n",
    "\n",
    "def find_slot_locations(inventory_filtered, slot_gray, min_x = 1000):\n",
    "    slot_x_offset = min_x\n",
    "    slot_y_offset = 100\n",
    "    slot_x_max = 2900\n",
    "    slot_y_max = 1300\n",
    "    inv = inventory_filtered[slot_y_offset:slot_y_max, slot_x_offset:slot_x_max].copy()\n",
    "    slot = slot_gray.copy()\n",
    "    \n",
    "    matched_slots = cv2.matchTemplate(inv, slot, cv2.TM_CCORR_NORMED)\n",
    "    \n",
    "    threshold = 0.6\n",
    "    min_distance = 60\n",
    "\n",
    "    slot_locations = []\n",
    "    slot_locations_filtered = []\n",
    "    for y in range(matched_slots.shape[0]):\n",
    "        for x in range(matched_slots.shape[1]):\n",
    "            if matched_slots[y][x] > threshold:\n",
    "                slot_locations.append((x,y))\n",
    "    \n",
    "    # filter number of locations\n",
    "    for x,y in slot_locations:\n",
    "        add_slot = True\n",
    "        for s in slot_locations_filtered:\n",
    "            if abs(s[0]-x) < min_distance and abs(s[1]-y) < min_distance:\n",
    "                add_slot = False\n",
    "                break\n",
    "        if add_slot == True:\n",
    "            slot_locations_filtered.append((x,y))\n",
    "    \n",
    "    # add offset to slot locations\n",
    "    for i in range(len(slot_locations_filtered)):\n",
    "        x,y = slot_locations_filtered[i]\n",
    "        slot_locations_filtered[i] = (x+slot_x_offset, y+slot_y_offset)\n",
    "            \n",
    "    return slot_locations_filtered,matched_slots\n",
    "\n",
    "def draw_slots_on_image(img, slots, color=(255,0,0)):\n",
    "    img_with_slots = img.copy()\n",
    "    for x,y in slots:\n",
    "        img_with_slots = cv2.circle(img_with_slots, (x, y), radius=5, color=color, thickness=-1)\n",
    "    return img_with_slots\n",
    "\n",
    "def get_items_from_inventory(inventory, slots, slot_size_factor=1):\n",
    "    global slot_size\n",
    "    \n",
    "    size = (int) (slot_size*slot_size_factor)\n",
    "    items = []\n",
    "    for s in slots:\n",
    "        items.append(inventory[s[1]:s[1]+size, s[0]:s[0]+size])\n",
    "        \n",
    "    return items"
   ]
  },
  {
   "cell_type": "markdown",
   "id": "53949ef1",
   "metadata": {},
   "source": [
    "# to predict the item image"
   ]
  },
  {
   "cell_type": "code",
   "execution_count": null,
   "id": "3ba2eaa7",
   "metadata": {},
   "outputs": [],
   "source": [
    "def scale_image(image, scale_factor=2, width=-1, height=-1):\n",
    "    if width == -1 or height == -1:\n",
    "        width = (int) (image.shape[1]*scale_factor)\n",
    "        height = (int) (image.shape[0]*scale_factor)\n",
    "    resized = cv2.resize(image, (width,height))\n",
    "    return resized"
   ]
  },
  {
   "cell_type": "code",
   "execution_count": null,
   "id": "4dd448eb",
   "metadata": {},
   "outputs": [],
   "source": [
    "def load_icons_from_disk(verbose=False):\n",
    "    global all_items_df\n",
    "    global path_grid_icons,filename_ending_grid_icon,window_scale_factor\n",
    "    \n",
    "    icons = []\n",
    "    for index,item in all_items_df.iterrows():\n",
    "        filename = path_grid_icons + item['id'] + filename_ending_grid_icon\n",
    "        if not exists(filename):\n",
    "            icons.append([])\n",
    "            if verbose:\n",
    "                print(f\"File {filename} does not exist.\")\n",
    "                continue\n",
    "        else:\n",
    "            width_in_slots = item.loc['width']\n",
    "            height_in_slots = item.loc['height']\n",
    "            icon = np.asarray(Image.open(filename))\n",
    "            icon = scale_image(icon, width=(int) (width_in_slots*slot_size*window_scale_factor)\n",
    "                    , height=(int) (height_in_slots*slot_size*window_scale_factor))\n",
    "            icons.append(icon)\n",
    "        \n",
    "    return icons\n",
    "\n",
    "def run_sift(img, nr_corners=80, nr_selected_corners=999999, auto_threshold=True, verbose=False):\n",
    "    global sift\n",
    "    nr_selected_corners = min(nr_selected_corners, nr_corners)\n",
    "    threshold_step = 2\n",
    "    threshold = -threshold_step\n",
    "    \n",
    "    # adjust threshold to get consistent number of corners\n",
    "    kp = []\n",
    "    while len(kp) > nr_corners or len(kp) == 0:\n",
    "        threshold += 2\n",
    "        fast = cv2.FastFeatureDetector_create(threshold=threshold)\n",
    "        kp = fast.detect(img, None)\n",
    "        \n",
    "        if len(kp) == 0:\n",
    "            return [],None\n",
    "        if not auto_threshold:\n",
    "            break\n",
    "\n",
    "    # histogram for empty slot detection\n",
    "    hist_x = [0] * (img.shape[1])\n",
    "    hist_y = [0] * (img.shape[0])\n",
    "    empty_slot_threshold = 0.2*len(kp)\n",
    "    for k in kp:\n",
    "        hist_x[(int) (k.pt[0])] += 1\n",
    "        hist_y[(int) (k.pt[1])] += 1\n",
    "    if max(hist_x) > empty_slot_threshold or max(hist_y) > empty_slot_threshold:\n",
    "        if verbose:\n",
    "            print(\"I think this is an empty slot...\")\n",
    "        return [],None\n",
    "    \n",
    "    # randomly select kps to get them uniformly distributed\n",
    "    kp_selected = kp\n",
    "    if nr_selected_corners < nr_corners:\n",
    "        kp_selected = []      \n",
    "        for i in range(nr_selected_corners):\n",
    "            rand_kp = kp[random.randint(0,len(kp)-1)]\n",
    "\n",
    "            # filter kp from fir symbol\n",
    "            # TODO: dynamic fir symbol size\n",
    "            if rand_kp.pt[0] > 50 and rand_kp.pt[1] > 50:\n",
    "                continue\n",
    "            kp_selected.append(rand_kp)\n",
    "    \n",
    "    # compute descriptors\n",
    "    kp,des = sift.compute(img, kp_selected)\n",
    "    return kp,des\n",
    "\n",
    "def create_all_descriptors():\n",
    "    global icons,all_items_df\n",
    "\n",
    "    descriptors = []\n",
    "    descriptors_values = []\n",
    "    descriptors_values_length = 0\n",
    "    for i,icon in enumerate(icons):\n",
    "        # no item icon\n",
    "        if len(icon) == 0:\n",
    "            descriptors.append(None)\n",
    "            continue\n",
    "        descriptors.append([])\n",
    "\n",
    "        # descriptors for each item slot\n",
    "        w = all_items_df.loc[i,'width']\n",
    "        h = all_items_df.loc[i,'height']\n",
    "        for x in range(w):\n",
    "            for y in range(h):\n",
    "                icon_slot = icon[y*slot_size:(y+1)*slot_size, x*slot_size:(x+1)*slot_size].copy()\n",
    "                kp,des = run_sift(icon_slot, nr_corners=50)\n",
    "\n",
    "                descriptors[i].append(descriptors_values_length)\n",
    "                descriptors_values.append(des)\n",
    "                descriptors_values_length += 1\n",
    "\n",
    "    return descriptors, descriptors_values\n",
    "\n",
    "def predict_icon(img, verbose=False):\n",
    "    global icons, bf, descriptors, descriptors_values\n",
    "\n",
    "    distances = []\n",
    "    distances_local = []\n",
    "    kp,des = run_sift(img, nr_corners=50, nr_selected_corners=10)\n",
    "\n",
    "    if verbose:\n",
    "        print(f\"nr kp: {len(kp)}\")\n",
    "\n",
    "    for i in range(len(icons)):\n",
    "        # no kp / des found\n",
    "        if descriptors[i] is None:\n",
    "            distances.append(999999)\n",
    "            continue\n",
    "\n",
    "        distances_local = []\n",
    "        max_slots = min(6, len(descriptors[i])) # max slot size of considered items\n",
    "        for j in range(max_slots):\n",
    "            # no kp / des found for specific slot\n",
    "            if descriptors_values[descriptors[i][j]] is None:\n",
    "                distances_local.append(999999)\n",
    "                continue\n",
    "\n",
    "            matches = bf.match(des,descriptors_values[descriptors[i][j]])\n",
    "            matches = sorted(matches, key = lambda x:x.distance)\n",
    "            \n",
    "            # if too few features, abort\n",
    "            if len(matches) < 5:\n",
    "                distances_local.append(999999)\n",
    "                continue\n",
    "\n",
    "            # sum up match distances\n",
    "            distance = 0.0\n",
    "            for match in matches:\n",
    "                distance += match.distance\n",
    "            distance = distance/len(matches)\n",
    "            \n",
    "            distances_local.append(distance)\n",
    "\n",
    "        # return distance of best matching slot\n",
    "        min_distance = min(distances_local)\n",
    "        distances.append(min_distance)\n",
    "\n",
    "    # item with lowest distance is prediction\n",
    "    prediction = np.argmin(distances)\n",
    "    min_distance = min(distances)\n",
    "    \n",
    "    if verbose:\n",
    "        print(f\"distance of prediction item: {min_distance}\")\n",
    "    \n",
    "    return prediction,min_distance\n",
    "\n",
    "def predict_all_icons(images, verbose=False):\n",
    "    predictions = []\n",
    "    distances = []\n",
    "    for i,item in enumerate(images):\n",
    "        if verbose and i%10 == 0:\n",
    "            print(f\"predicting item nr {i}\")\n",
    "        p,d = predict_icon(item)\n",
    "        predictions.append(p)\n",
    "        distances.append(d)\n",
    "    return predictions,distances"
   ]
  },
  {
   "cell_type": "code",
   "execution_count": null,
   "id": "24e66f8b",
   "metadata": {},
   "outputs": [],
   "source": [
    "def draw_keypoints(image, kp=None):\n",
    "    img = image.copy()\n",
    "    if kp is None:\n",
    "        kp,des = run_sift(img)\n",
    "    img = cv2.drawKeypoints(img,kp,img,flags=cv2.DRAW_MATCHES_FLAGS_DRAW_RICH_KEYPOINTS)\n",
    "    return img"
   ]
  },
  {
   "cell_type": "markdown",
   "id": "1464adc9",
   "metadata": {},
   "source": [
    "# find items in inventory"
   ]
  },
  {
   "cell_type": "code",
   "execution_count": null,
   "id": "40f85da7",
   "metadata": {},
   "outputs": [],
   "source": [
    "# paths\n",
    "path_icons = '../../icons/'\n",
    "path_images = '../../images/'\n",
    "path_grid_icons = '../../grid_icons/'\n",
    "path_data = '../../data/'\n",
    "\n",
    "filename_ending_grid_icon = '-grid-image.jpg'\n",
    "\n",
    "matched_slots = []\n",
    "\n",
    "windows = False"
   ]
  },
  {
   "cell_type": "code",
   "execution_count": null,
   "id": "a954a1bb",
   "metadata": {},
   "outputs": [],
   "source": [
    "window_scale_factor = 1.0\n",
    "slot_size = 64\n",
    "\n",
    "# get tarkov window\n",
    "if windows:\n",
    "    window_title_tarkov = 'EscapeFromTarkov'\n",
    "    window_tarkov = gw.getWindowsWithTitle(window_title_tarkov)[0]\n",
    "    window_tarkov_position = window_tarkov.topleft\n",
    "    window_tarkov_size = window_tarkov.size\n",
    "\n",
    "    window_scale_factor = window_tarkov_size[1] / 1080.0\n",
    "    slot_size = (int) (64*window_scale_factor) # in pixels, for FHD resolution\n",
    "    \n",
    "else:\n",
    "    window_scale_factor = 1080 / 1080.0\n",
    "    slot_size = (int) (64*window_scale_factor) "
   ]
  },
  {
   "cell_type": "code",
   "execution_count": null,
   "id": "c6dfd789",
   "metadata": {},
   "outputs": [],
   "source": [
    "use_image = True or not windows\n",
    "\n",
    "# load inventory image\n",
    "img_inventory = None\n",
    "if use_image:\n",
    "    img_inventory = Image.open(path_images + 'inventar4.png')\n",
    "    img_inventory = np.asarray(img_inventory)\n",
    "\n",
    "else:\n",
    "    screenshot = pyautogui.screenshot(region=(window_tarkov_position[0],window_tarkov_position[1]\n",
    "                                              , window_tarkov_size[0], window_tarkov_size[1]))\n",
    "    img_inventory = np.array(screenshot)\n",
    "\n",
    "# filter inventory image\n",
    "t0 = time.time()\n",
    "inventory_filtered = inventory_line_detection(img_inventory)\n",
    "print(f'filtering the inventory took {time.time()-t0} s')"
   ]
  },
  {
   "cell_type": "code",
   "execution_count": null,
   "id": "f001dfeb",
   "metadata": {},
   "outputs": [],
   "source": [
    "# load and filter slot reference image\n",
    "img_slot = Image.open(path_images + 'slot_empty.png')\n",
    "img_slot = np.asarray(img_slot)\n",
    "img_slot = scale_image(img_slot, scale_factor=window_scale_factor)\n",
    "img_slot_gray = cv2.cvtColor(img_slot, cv2.COLOR_BGR2GRAY)"
   ]
  },
  {
   "cell_type": "code",
   "execution_count": null,
   "id": "dd355a79",
   "metadata": {},
   "outputs": [],
   "source": [
    "# find slots in inventory\n",
    "t0 = time.time()\n",
    "slot_locations, matched_slots = find_slot_locations(inventory_filtered, img_slot_gray, min_x=1000)\n",
    "print(f'finding slots took {time.time()-t0} s')"
   ]
  },
  {
   "cell_type": "code",
   "execution_count": null,
   "id": "38e6867e",
   "metadata": {},
   "outputs": [],
   "source": [
    "# draw slots on image\n",
    "img_inventory = draw_slots_on_image(img_inventory, slot_locations)\n",
    "\n",
    "img_inventory = cv2.circle(img_inventory, (1000, 100), radius=10, color=(0,255,0), thickness=-1)\n",
    "img_inventory = cv2.circle(img_inventory, (2900, 1300), radius=10, color=(0,255,0), thickness=-1)\n",
    "\n",
    "Image.fromarray(img_inventory)"
   ]
  },
  {
   "cell_type": "code",
   "execution_count": null,
   "id": "d86683a8",
   "metadata": {},
   "outputs": [],
   "source": [
    "# get item images from inventory\n",
    "item_images = get_items_from_inventory(img_inventory, slot_locations)\n",
    "print(f\"there are {len(item_images)} item slots in the inventory\")"
   ]
  },
  {
   "cell_type": "markdown",
   "id": "2baeafac",
   "metadata": {},
   "source": [
    "# predict items"
   ]
  },
  {
   "cell_type": "code",
   "execution_count": null,
   "id": "40abf011",
   "metadata": {},
   "outputs": [],
   "source": [
    "icons = []\n",
    "descriptors = []\n",
    "descriptors_values = []\n",
    "all_items_df = None\n",
    "predictions = []\n",
    "distances = []\n",
    "\n",
    "sift = cv2.SIFT_create()\n",
    "bf = cv2.BFMatcher()"
   ]
  },
  {
   "cell_type": "code",
   "execution_count": null,
   "id": "84f086d6",
   "metadata": {},
   "outputs": [],
   "source": [
    "# get descriptors of all items\n",
    "print(\"loading item data from disk\")\n",
    "all_items_df = pd.read_csv(path_data + 'all_items.csv')\n",
    "print(\"loading item icons from disk\")\n",
    "icons = load_icons_from_disk()\n",
    "print(\"creating descriptors for item icons\")\n",
    "descriptors, descriptors_values = create_all_descriptors()"
   ]
  },
  {
   "cell_type": "code",
   "execution_count": null,
   "id": "a62e4c27",
   "metadata": {},
   "outputs": [],
   "source": [
    "# predict each item from inventory\n",
    "predictions,distances = predict_all_icons(item_images)\n",
    "predictions_df = pd.DataFrame({'slot_x': 0, 'slot_y': 0, 'predicted_item': predictions, 'distance': distances})\n",
    "\n",
    "# put slot locations in prediction dataframe\n",
    "for i in range(len(predictions_df)):\n",
    "    predictions_df.loc[i,'slot_x'] = slot_locations[i][0]\n",
    "    predictions_df.loc[i,'slot_y'] = slot_locations[i][1]"
   ]
  },
  {
   "cell_type": "code",
   "execution_count": null,
   "id": "a823aff2",
   "metadata": {},
   "outputs": [],
   "source": [
    "# save predictions to file\n",
    "# predictions_df.to_csv(path_data + 'predictions_inventar4.csv', index=False)"
   ]
  },
  {
   "cell_type": "markdown",
   "id": "7ddbcab3",
   "metadata": {},
   "source": [
    "# debugging stuff"
   ]
  },
  {
   "cell_type": "code",
   "execution_count": null,
   "id": "421b4f7c",
   "metadata": {},
   "outputs": [],
   "source": [
    "# item_images"
   ]
  },
  {
   "cell_type": "code",
   "execution_count": null,
   "id": "342e07bc",
   "metadata": {},
   "outputs": [],
   "source": [
    "# threshold = 200000\n",
    "# predictions_filtered = []\n",
    "# for prediction in predictions:\n",
    "#     if prediction[1] > threshold:\n",
    "#         predictions_filtered.append((0, -1))\n",
    "#     else:\n",
    "#         predictions_filtered.append(prediction)"
   ]
  },
  {
   "cell_type": "code",
   "execution_count": null,
   "id": "c26fcbca",
   "metadata": {},
   "outputs": [],
   "source": [
    "predictions_here = predictions\n",
    "\n",
    "fig = plt.figure(figsize=(8, 4))\n",
    "columns = 6\n",
    "rows = 2\n",
    "for i in range(0,columns*rows,2):\n",
    "    img = item_images[(int) (i/2)].copy()\n",
    "    fig.add_subplot(rows, columns, i+1)\n",
    "    kp,des = run_sift(img)\n",
    "    # print(f\"size kp: {len(kp)}\")\n",
    "    img = cv2.drawKeypoints(img,kp,img)\n",
    "    plt.imshow(img)\n",
    "\n",
    "    img = icons[predictions[(int) (i/2)]].copy()\n",
    "    fig.add_subplot(rows, columns, i+2)\n",
    "\n",
    "    # filter invalid predictions\n",
    "    if predictions[(int) (i/2)] == 0:\n",
    "        continue\n",
    "\n",
    "    kp,des = run_sift(img)\n",
    "    img = cv2.drawKeypoints(img,kp,img)\n",
    "    plt.imshow(img)\n",
    "plt.show()"
   ]
  },
  {
   "cell_type": "code",
   "execution_count": null,
   "id": "115062a8",
   "metadata": {
    "scrolled": false
   },
   "outputs": [],
   "source": [
    "fig = plt.figure(figsize=(8, 4))\n",
    "columns = 6\n",
    "rows = 2\n",
    "for i in range(0,columns*rows,1):\n",
    "    img1 = item_images[i].copy()\n",
    "    kp1,des1 = run_sift(img1, nr_corners=50, nr_selected_corners=10)\n",
    "    \n",
    "    img2 = icons[predictions[i]].copy()\n",
    "    kp2,des2 = run_sift(img2)\n",
    "\n",
    "    matches = bf.match(des1,des2)\n",
    "    matches = sorted(matches, key = lambda x:x.distance)\n",
    "                \n",
    "    img3 = cv2.drawMatches(img1, kp1, img2, kp2, matches, None)\n",
    "    \n",
    "    distance = (int) (distances[i])\n",
    "        \n",
    "    fig.add_subplot(rows, columns, i+1, title=f\"{i}: dst={distance}\")\n",
    "    plt.imshow(img3)\n",
    "    \n",
    "plt.show()"
   ]
  },
  {
   "cell_type": "code",
   "execution_count": null,
   "id": "52a372b5",
   "metadata": {},
   "outputs": [],
   "source": []
  },
  {
   "cell_type": "code",
   "execution_count": null,
   "id": "fef82144",
   "metadata": {},
   "outputs": [],
   "source": []
  },
  {
   "cell_type": "code",
   "execution_count": null,
   "id": "30f82c89",
   "metadata": {},
   "outputs": [],
   "source": []
  },
  {
   "cell_type": "code",
   "execution_count": null,
   "id": "14708cfa",
   "metadata": {},
   "outputs": [],
   "source": []
  },
  {
   "cell_type": "code",
   "execution_count": null,
   "id": "766fb8bc",
   "metadata": {},
   "outputs": [],
   "source": []
  },
  {
   "cell_type": "code",
   "execution_count": null,
   "id": "f77f8266",
   "metadata": {},
   "outputs": [],
   "source": []
  },
  {
   "cell_type": "code",
   "execution_count": null,
   "id": "a5f21b4e",
   "metadata": {},
   "outputs": [],
   "source": []
  },
  {
   "cell_type": "code",
   "execution_count": null,
   "id": "fb1f0997",
   "metadata": {},
   "outputs": [],
   "source": [
    "item_images = get_items_from_inventory(img_inventory, slot_locations)"
   ]
  },
  {
   "cell_type": "code",
   "execution_count": null,
   "id": "e53c45ce",
   "metadata": {},
   "outputs": [],
   "source": [
    "img = scale_image(item_images[6]) # 22 is syringe\n",
    "kp_img,des_img = run_sift(img, scale=1)\n",
    "# img2 = draw_keypoints(img, kp=kp_img)\n",
    "# Image.fromarray(img2)\n",
    "\n",
    "img_inv = scale_image(img_inventory)\n",
    "kp_inv,des_inv = run_sift(img_inv, scale=1) # 15secs\n",
    "# inv_kp = draw_keypoints(img_inventory, kp=kp_inv)\n",
    "# Image.fromarray(inv_kp)"
   ]
  },
  {
   "cell_type": "code",
   "execution_count": null,
   "id": "2ea68a1f",
   "metadata": {},
   "outputs": [],
   "source": [
    "img2 = scale_image(icons[200])\n",
    "kp_img2,des_img2 = run_sift(img2, scale=1)\n",
    "\n",
    "Image.fromarray(draw_keypoints(img2, kp=kp_img2, scale=1))"
   ]
  },
  {
   "cell_type": "code",
   "execution_count": null,
   "id": "d3870090",
   "metadata": {},
   "outputs": [],
   "source": [
    "def matches_stats(matches, kp):\n",
    "    x, y = 0, 0\n",
    "    distance = 0\n",
    "    for m in matches:\n",
    "        index = m.queryIdx\n",
    "        point = kp[index].pt\n",
    "        x += point[0]\n",
    "        y += point[1]\n",
    "        distance += m.distance\n",
    "    x /= len(matches)\n",
    "    y /= len(matches)\n",
    "    mean = ((int) (x),(int) (y))\n",
    "    distance = (int) (distance)\n",
    "    return mean,distance\n",
    "\n",
    "img3 = img_inv.copy()\n",
    "\n",
    "for i,d in enumerate(descriptors):\n",
    "    if i%100 == 0:\n",
    "        print(f\"Checking item nr {i}\")\n",
    "    if d is None or len(d) == 0:\n",
    "        continue\n",
    "    \n",
    "    matches = bf.match(des_inv, d)\n",
    "    matches = sorted(matches, key = lambda x:x.distance)\n",
    "    matches = matches[:10]\n",
    "\n",
    "    mean,dist = matches_stats(matches, kp_inv)\n",
    "\n",
    "    if dist < 600:\n",
    "        print(f\"Center of matches: {mean}\", end='\\t-- ')\n",
    "        print(f\"Dist: {dist}\")\n",
    "        img3 = cv2.circle(img3, mean, radius=10, color=(0,0,255), thickness=-1)"
   ]
  },
  {
   "cell_type": "code",
   "execution_count": null,
   "id": "a5e469e8",
   "metadata": {},
   "outputs": [],
   "source": [
    "# img3 = cv2.drawMatches(img_inv, kp_inv, img2, kp_img, matches, None, flags=cv2.DrawMatchesFlags_NOT_DRAW_SINGLE_POINTS)\n",
    "# img3 = cv2.circle(img3, mean, radius=10, color=(0,0,255), thickness=-1)\n",
    "# print(f\"Image shape: {img3.shape}\")\n",
    "Image.fromarray(img3)"
   ]
  },
  {
   "cell_type": "code",
   "execution_count": null,
   "id": "c3c58cb6",
   "metadata": {},
   "outputs": [],
   "source": []
  },
  {
   "cell_type": "code",
   "execution_count": null,
   "id": "1fb3e0a2",
   "metadata": {},
   "outputs": [],
   "source": []
  },
  {
   "cell_type": "markdown",
   "id": "c72d4147",
   "metadata": {},
   "source": [
    "## Fast corners"
   ]
  },
  {
   "cell_type": "code",
   "execution_count": null,
   "id": "31b4f507",
   "metadata": {},
   "outputs": [],
   "source": [
    "item_images = get_items_from_inventory(img_inventory, slot_locations)\n",
    "fast = cv2.FastFeatureDetector_create(threshold=0)\n",
    "global sift"
   ]
  },
  {
   "cell_type": "code",
   "execution_count": null,
   "id": "5be341f2",
   "metadata": {},
   "outputs": [],
   "source": [
    "Image.fromarray(item_images[19])"
   ]
  },
  {
   "cell_type": "code",
   "execution_count": null,
   "id": "18c6236d",
   "metadata": {},
   "outputs": [],
   "source": [
    "img = scale_image(item_images[130], scale_factor=1) # 22,23,24 is syringe\n",
    "kp_img,des_img = run_sift(img, nr_corners=20)\n",
    "print(f\"size kp_img: {len(kp_img)}\")\n",
    "img_kp = cv2.drawKeypoints(img, kp_img, None, color=(0,255,0))\n",
    "\n",
    "print( \"Total Keypoints with nonmaxSuppression: {}\".format(len(kp_img)) )\n",
    "\n",
    "\n",
    "img2 = scale_image(icons[1712], scale_factor=1) # 1712 is syringe\n",
    "kp_img2,kp_des2 = run_fast(img2)\n",
    "\n",
    "# match\n",
    "matches = bf.match(des_img,kp_des2)\n",
    "matches = sorted(matches, key = lambda x:x.distance)\n",
    "\n",
    "print(f\"size matches: {len(matches)}\")\n",
    "\n",
    "# matches = matches[:60]\n",
    "\n",
    "distance = 0\n",
    "for m in matches:\n",
    "    distance += m.distance\n",
    "distance /= len(matches)\n",
    "\n",
    "print(f\"Total Distance: {distance}\")\n",
    "img3 = cv2.drawMatches(img, kp_img, img2, kp_img2, matches, None, flags=cv2.DrawMatchesFlags_NOT_DRAW_SINGLE_POINTS)"
   ]
  },
  {
   "cell_type": "code",
   "execution_count": null,
   "id": "66956bb1",
   "metadata": {},
   "outputs": [],
   "source": [
    "print(len(matches))\n",
    "Image.fromarray(img3)"
   ]
  },
  {
   "cell_type": "code",
   "execution_count": null,
   "id": "c6ad877f",
   "metadata": {},
   "outputs": [],
   "source": [
    "for kp in kp_img:\n",
    "    print(kp.pt)"
   ]
  },
  {
   "cell_type": "code",
   "execution_count": null,
   "metadata": {},
   "outputs": [],
   "source": [
    "df = all_items_df\n",
    "a = df['name'].str.find(\"Sy\")\n",
    "for i,j in enumerate(a):\n",
    "    if j != -1:\n",
    "        print(i, df.loc[i,'name'])"
   ]
  },
  {
   "cell_type": "code",
   "execution_count": null,
   "id": "59bc1b14",
   "metadata": {},
   "outputs": [],
   "source": [
    "img = cv.imread('blox.jpg',0) # `<opencv_root>/samples/data/blox.jpg`\n",
    "# Initiate FAST object with default values\n",
    "fast = cv.FastFeatureDetector_create()\n",
    "# find and draw the keypoints\n",
    "kp = fast.detect(img,None)\n",
    "img2 = cv.drawKeypoints(img, kp, None, color=(255,0,0))\n",
    "# Print all default params\n",
    "print( \"Threshold: {}\".format(fast.getThreshold()) )\n",
    "print( \"nonmaxSuppression:{}\".format(fast.getNonmaxSuppression()) )\n",
    "print( \"neighborhood: {}\".format(fast.getType()) )\n",
    "print( \"Total Keypoints with nonmaxSuppression: {}\".format(len(kp)) )\n",
    "cv.imwrite('fast_true.png', img2)\n",
    "# Disable nonmaxSuppression\n",
    "fast.setNonmaxSuppression(0)\n",
    "kp = fast.detect(img, None)\n",
    "print( \"Total Keypoints without nonmaxSuppression: {}\".format(len(kp)) )\n",
    "img3 = cv.drawKeypoints(img, kp, None, color=(255,0,0))\n",
    "cv.imwrite('fast_false.png', img3)"
   ]
  },
  {
   "cell_type": "code",
   "execution_count": null,
   "id": "e03a869b",
   "metadata": {},
   "outputs": [],
   "source": []
  },
  {
   "cell_type": "code",
   "execution_count": null,
   "id": "1454365a",
   "metadata": {},
   "outputs": [],
   "source": [
    "def run_sift(img):\n",
    "    global sift\n",
    "    gray = cv2.cvtColor(img,cv2.COLOR_BGR2GRAY)\n",
    "#     edge = cv2.Canny(gray, threshold1=50, threshold2=50)\n",
    "#     gray = cv2.blur(gray, (3,3))\n",
    "    kp,des = sift.detectAndCompute(gray,None)\n",
    "    return kp,des"
   ]
  },
  {
   "cell_type": "code",
   "execution_count": null,
   "id": "86e50100",
   "metadata": {},
   "outputs": [],
   "source": [
    "i = 200\n",
    "img1 = icons[i].copy()\n",
    "img1 = cv2.resize(img1, ((int) (img1.shape[0]*window_scale_factor), (int) (img1.shape[1]*window_scale_factor)))\n",
    "kp1,des1 = run_sift(img1)\n",
    "img1 = cv2.drawKeypoints(img1,kp1,img1,flags=cv2.DRAW_MATCHES_FLAGS_DRAW_RICH_KEYPOINTS)\n",
    "\n",
    "Image.fromarray(img1)"
   ]
  },
  {
   "cell_type": "code",
   "execution_count": null,
   "id": "dabda9e3",
   "metadata": {
    "scrolled": false
   },
   "outputs": [],
   "source": [
    "i = 2\n",
    "img2 = item_images[i].copy()\n",
    "kp2,des2 = run_sift(img2)\n",
    "img2 = cv2.drawKeypoints(img2,kp2,img2,flags=cv2.DRAW_MATCHES_FLAGS_DRAW_RICH_KEYPOINTS)\n",
    "\n",
    "Image.fromarray(img2)"
   ]
  },
  {
   "cell_type": "code",
   "execution_count": null,
   "id": "09ef8488",
   "metadata": {
    "scrolled": true
   },
   "outputs": [],
   "source": [
    "matches = bf.match(des1,des2)\n",
    "# Apply ratio test\n",
    "# good = []\n",
    "# for m,n in matches:\n",
    "#     if m.distance < 0.75*n.distance:\n",
    "#         good.append([m])\n",
    "matches = sorted(matches, key = lambda x:x.distance)\n",
    "matches = matches[:20]\n",
    "                \n",
    "img3 = cv2.drawMatches(img1, kp1, img2, kp2, matches, None, flags=cv2.DrawMatchesFlags_NOT_DRAW_SINGLE_POINTS)\n",
    "Image.fromarray(img3)"
   ]
  },
  {
   "cell_type": "code",
   "execution_count": null,
   "id": "67b74510",
   "metadata": {
    "scrolled": true
   },
   "outputs": [],
   "source": [
    "distance = 0.0\n",
    "for match in matches:\n",
    "    distance += match.distance/len(matches)\n",
    "    \n",
    "print(distance)"
   ]
  },
  {
   "cell_type": "code",
   "execution_count": null,
   "id": "5dc95120",
   "metadata": {},
   "outputs": [],
   "source": [
    "predictions"
   ]
  },
  {
   "cell_type": "code",
   "execution_count": null,
   "id": "bd1d72ac",
   "metadata": {},
   "outputs": [],
   "source": [
    "Image.fromarray(inventory_filtered)"
   ]
  },
  {
   "cell_type": "code",
   "execution_count": null,
   "id": "dfa0dca8",
   "metadata": {
    "scrolled": false
   },
   "outputs": [],
   "source": [
    "# Image.fromarray(img_slot_np_edge)\n",
    "# Image.fromarray(res)\n",
    "# plt.imshow(res[3], cmap='gray')\n",
    "Image.fromarray(img_inventory)\n",
    "# Image.fromarray(hough)"
   ]
  },
  {
   "cell_type": "code",
   "execution_count": null,
   "id": "c4494182",
   "metadata": {},
   "outputs": [],
   "source": [
    "downscale = 2\n",
    "img = img_inventory.copy()\n",
    "img = cv2.resize(img, ((int) (img.shape[1]/downscale)\n",
    "                                 , (int) (img.shape[0]/downscale)))\n",
    "\n",
    "img_inventory_edge = edge_detection(img)\n",
    "\n",
    "img_horizontal = img_inventory_edge.copy()\n",
    "img_vertical = img_inventory_edge.copy()\n",
    "\n",
    "line_length = (int) (40/downscale)\n",
    "horizontal_struct = cv2.getStructuringElement(cv2.MORPH_RECT, (line_length,1))\n",
    "vertical_struct = cv2.getStructuringElement(cv2.MORPH_RECT, (1,line_length))\n",
    "\n",
    "cv2.erode(img_horizontal, horizontal_struct, img_horizontal)\n",
    "cv2.dilate(img_horizontal, horizontal_struct, img_horizontal)\n",
    "\n",
    "cv2.erode(img_vertical, vertical_struct, img_vertical)\n",
    "cv2.dilate(img_vertical, vertical_struct, img_vertical)\n",
    "\n",
    "result = cv2.add(img_horizontal, img_vertical)"
   ]
  },
  {
   "cell_type": "code",
   "execution_count": null,
   "id": "6f432d41",
   "metadata": {},
   "outputs": [],
   "source": [
    "img.shape"
   ]
  },
  {
   "cell_type": "code",
   "execution_count": null,
   "id": "88ca2a81",
   "metadata": {},
   "outputs": [],
   "source": [
    "Image.fromarray(result)"
   ]
  },
  {
   "cell_type": "code",
   "execution_count": null,
   "id": "9703e4ab",
   "metadata": {},
   "outputs": [],
   "source": []
  },
  {
   "cell_type": "code",
   "execution_count": null,
   "id": "1a22b80c",
   "metadata": {},
   "outputs": [],
   "source": []
  },
  {
   "cell_type": "markdown",
   "id": "728c65c0",
   "metadata": {},
   "source": [
    "## Flea tax calculation"
   ]
  },
  {
   "cell_type": "code",
   "execution_count": null,
   "id": "f39e6c85",
   "metadata": {},
   "outputs": [],
   "source": [
    "all_items_df = pd.read_csv(path_data + 'all_items.csv')"
   ]
  },
  {
   "cell_type": "code",
   "execution_count": null,
   "id": "c683c41a",
   "metadata": {},
   "outputs": [],
   "source": [
    "base_multipliers = {'therapist': 0.63, 'ragman': 0.62, 'jaeger': 0.6, 'mechanic':0.56\n",
    "        , 'prapor': 0.5, 'skier': 0.49, 'peacekeeper': 0.45, 'fence': 0.4}\n",
    "\n",
    "t_i = 0.05\n",
    "t_r = 0.1\n",
    "100/0.45"
   ]
  },
  {
   "cell_type": "code",
   "execution_count": null,
   "id": "0606e3b9",
   "metadata": {},
   "outputs": [],
   "source": [
    "def tax(itemindex, price_rubels):\n",
    "    global all_items_df\n",
    "\n",
    "    if price_rubels == 0:\n",
    "        return 0\n",
    "\n",
    "    baseprice = all_items_df.loc[itemindex, 'basePrice']\n",
    "    quantity = 1\n",
    "    quantity_factor = 1\n",
    "    v_o = baseprice * quantity / quantity_factor\n",
    "    if v_o == 0:\n",
    "        return 0\n",
    "    v_r = price_rubels # value of requirements\n",
    "    p_o = np.log10(v_o / v_r)\n",
    "    p_r = np.log10(v_r / v_o)\n",
    "\n",
    "    tax = v_o * t_i * (4**p_o) * quantity_factor + v_r * t_r * (4**p_r) * quantity_factor\n",
    "    return tax\n",
    "\n",
    "itemindex = 1000\n",
    "price = 10000 # in rubels\n",
    "\n",
    "tax = tax(1000, 10000)\n",
    "\n",
    "print(f\"tax is: {tax} \\t-- Profit: {price - tax}\")"
   ]
  },
  {
   "cell_type": "code",
   "execution_count": null,
   "id": "eaa3fc22",
   "metadata": {},
   "outputs": [],
   "source": [
    "print(all_items_df[all_items_df['name'].str.contains(\"USD\")])"
   ]
  },
  {
   "cell_type": "code",
   "execution_count": null,
   "metadata": {},
   "outputs": [],
   "source": [
    "all_items_df\n"
   ]
  },
  {
   "cell_type": "markdown",
   "id": "d356716b",
   "metadata": {},
   "source": []
  },
  {
   "cell_type": "markdown",
   "id": "381c3b0d",
   "metadata": {},
   "source": [
    "## Direct item matching"
   ]
  },
  {
   "cell_type": "code",
   "execution_count": null,
   "id": "2b0fa6ea",
   "metadata": {},
   "outputs": [],
   "source": [
    "from PIL import Image\n",
    "import numpy as np"
   ]
  },
  {
   "cell_type": "code",
   "execution_count": null,
   "id": "a192dd2f",
   "metadata": {},
   "outputs": [],
   "source": [
    "print(\"loading item data from disk\")\n",
    "all_items_df = pd.read_csv(path_data + 'all_items.csv')\n",
    "print(\"loading item icons from disk\")\n",
    "icons = load_icons_from_disk()"
   ]
  },
  {
   "cell_type": "code",
   "execution_count": null,
   "id": "f9421311",
   "metadata": {},
   "outputs": [],
   "source": [
    "img_inventory = Image.open(path_images + 'inventar4.png')\n",
    "img_inventory = np.asarray(img_inventory)\n",
    "res = img_inventory.copy()\n",
    "Image.fromarray(img_inventory)"
   ]
  },
  {
   "cell_type": "code",
   "execution_count": null,
   "id": "7a1a671b",
   "metadata": {},
   "outputs": [],
   "source": [
    "item = icons[1712] # 200 blue tape, 1712 syringe\n",
    "print(item.shape)\n",
    "Image.fromarray(item)"
   ]
  },
  {
   "cell_type": "code",
   "execution_count": null,
   "id": "f7e64cb6",
   "metadata": {},
   "outputs": [],
   "source": [
    "def gray(img):\n",
    "    return cv2.cvtColor(img, cv2.COLOR_RGB2GRAY)\n",
    "\n",
    "inv_gray = gray(img_inventory)\n",
    "item_gray = gray(item)\n",
    "inv_gray=inv_gray[:,1000:]\n",
    "\n",
    "scale=0.5\n",
    "inv_gray = scale_image(inv_gray, scale_factor=scale)\n",
    "item_gray = scale_image(item_gray, scale_factor=scale)\n"
   ]
  },
  {
   "cell_type": "code",
   "execution_count": null,
   "id": "dc5f1aef",
   "metadata": {},
   "outputs": [],
   "source": [
    "t0 = time.time()\n",
    "matched = cv2.matchTemplate(inv_gray, item_gray, cv2.TM_CCOEFF_NORMED)\n",
    "print(f\"took {time.time()-t0}s\")"
   ]
  },
  {
   "cell_type": "code",
   "execution_count": null,
   "id": "4454dcb1",
   "metadata": {},
   "outputs": [],
   "source": [
    "fig = plt.figure(figsize=(8, 4))\n",
    "plt.imshow(matched)\n",
    "plt.show()"
   ]
  },
  {
   "cell_type": "code",
   "execution_count": null,
   "id": "57e46ecc",
   "metadata": {},
   "outputs": [],
   "source": [
    "matched"
   ]
  },
  {
   "cell_type": "code",
   "execution_count": null,
   "id": "8fe2978d",
   "metadata": {},
   "outputs": [],
   "source": [
    "res = scale_image(img_inventory.copy()[:,1000:], scale_factor=scale)\n",
    "threshold = 0.8\n",
    "rect_size = (int) (64 * scale)\n",
    "t0 = time.time()\n",
    "loc = np.where( matched >= threshold)\n",
    "for pt in zip(*loc[::-1]):\n",
    "    cv2.rectangle(res, pt, (pt[0] + rect_size, pt[1] + rect_size), (0,0,255), 2)\n",
    "print(f\"took {time.time()-t0}s\")\n",
    "\n",
    "# Image.fromarray(res)\n",
    "fig = plt.figure(figsize=(8, 4))\n",
    "plt.imshow(res)\n",
    "plt.show()"
   ]
  },
  {
   "cell_type": "code",
   "execution_count": null,
   "id": "54be4e20",
   "metadata": {},
   "outputs": [],
   "source": [
    "0.0045*2000"
   ]
  },
  {
   "cell_type": "code",
   "execution_count": null,
   "id": "ed7f9e51",
   "metadata": {},
   "outputs": [],
   "source": []
  },
  {
   "cell_type": "markdown",
   "id": "613dbe90",
   "metadata": {},
   "source": [
    "### match item images to items"
   ]
  },
  {
   "cell_type": "code",
   "execution_count": null,
   "id": "8b1d1481",
   "metadata": {},
   "outputs": [],
   "source": [
    "item_images = get_items_from_inventory(img_inventory, slot_locations, slot_size_factor=1.2)\n",
    "print(len(item_images))"
   ]
  },
  {
   "cell_type": "code",
   "execution_count": null,
   "id": "4af3016b",
   "metadata": {},
   "outputs": [],
   "source": [
    "item = item_images[100]\n",
    "item = scale_image(item,scale_factor=0.5)\n",
    "\n",
    "# item = gray(item)\n",
    "\n",
    "print(item.shape)\n",
    "print(icons[0].shape)\n",
    "t0 = time.time()\n",
    "matches = []\n",
    "match = []\n",
    "for icon in icons:\n",
    "    if icon is None or len(icon) == 0:\n",
    "        matches.append(0)\n",
    "        continue\n",
    "    cv2.matchTemplate(item, scale_image(icon[0:64,0:64],scale_factor=0.5), cv2.TM_CCOEFF_NORMED)\n",
    "    min_val, max_val, min_loc, max_loc = cv2.minMaxLoc(match)\n",
    "    matches.append(max_val)\n",
    "print(f\"took {time.time()-t0}s\")\n",
    "\n"
   ]
  },
  {
   "cell_type": "code",
   "execution_count": null,
   "id": "2282fbf2",
   "metadata": {},
   "outputs": [],
   "source": [
    "max_value = np.max(matches)\n",
    "i = np.argmax(matches)\n",
    "print(f\"predict item {i} with value {max_value}\")"
   ]
  },
  {
   "cell_type": "code",
   "execution_count": null,
   "id": "5e7d9e4d",
   "metadata": {},
   "outputs": [],
   "source": [
    "fig = plt.figure(figsize=(8, 4))\n",
    "fig.add_subplot(1,2,1)\n",
    "plt.imshow(item)\n",
    "fig.add_subplot(1,2,2)\n",
    "plt.imshow(icons[i])\n",
    "plt.show()"
   ]
  },
  {
   "cell_type": "code",
   "execution_count": null,
   "id": "d5ed548a",
   "metadata": {},
   "outputs": [],
   "source": [
    "# Image.fromarray(item)\n",
    "fig = plt.figure(figsize=(8, 4))\n",
    "plt.imshow(match)\n",
    "plt.show()\n",
    "match"
   ]
  },
  {
   "cell_type": "code",
   "execution_count": null,
   "id": "145b836a",
   "metadata": {},
   "outputs": [],
   "source": [
    "match[0][0]"
   ]
  },
  {
   "cell_type": "code",
   "execution_count": null,
   "id": "e9ac6812",
   "metadata": {},
   "outputs": [],
   "source": []
  }
 ],
 "metadata": {
  "kernelspec": {
   "display_name": "Python 3.10.6 ('.venv': venv)",
   "language": "python",
   "name": "python3"
  },
  "language_info": {
   "codemirror_mode": {
    "name": "ipython",
    "version": 3
   },
   "file_extension": ".py",
   "mimetype": "text/x-python",
   "name": "python",
   "nbconvert_exporter": "python",
   "pygments_lexer": "ipython3",
   "version": "3.10.6"
  },
  "vscode": {
   "interpreter": {
    "hash": "97f7d08f8752477030260364a67c5a9ea0118c47e0d57b26f29d8b154a10369f"
   }
  }
 },
 "nbformat": 4,
 "nbformat_minor": 5
}
