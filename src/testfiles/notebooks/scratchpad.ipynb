{
 "cells": [
  {
   "cell_type": "code",
   "execution_count": null,
   "id": "cb21a28a",
   "metadata": {},
   "outputs": [],
   "source": [
    "from time import sleep\n",
    "import pandas as pd\n",
    "import tkinter as tk\n",
    "import requests\n",
    "import numpy as np\n",
    "\n",
    "import pyautogui"
   ]
  },
  {
   "cell_type": "code",
   "execution_count": null,
   "id": "07e550f6",
   "metadata": {},
   "outputs": [],
   "source": [
    "def run_query(query):\n",
    "    response = requests.post('https://api.tarkov.dev/graphql', json={'query': query})\n",
    "    if response.status_code == 200:\n",
    "        return response.json()\n",
    "    else:\n",
    "        raise Exception(\"Query failed to run by returning code of {}. {}\".format(response.status_code, query))\n",
    "\n",
    "# lists all items\n",
    "query_all_items_prices = \"\"\"\n",
    "{\n",
    "    items {\n",
    "        shortName\n",
    "        id\n",
    "        width\n",
    "        height\n",
    "        avg24hPrice\n",
    "        changeLast48hPercent\n",
    "        basePrice\n",
    "        sellFor {\n",
    "            price\n",
    "            source\n",
    "        }\n",
    "    }\n",
    "}\n",
    "\"\"\"\n",
    "\n",
    "def getAllItemsPrices():\n",
    "    result = run_query(query_all_items_prices)\n",
    "    #result = run_query(water_query)\n",
    "    return result['data']['items']"
   ]
  },
  {
   "cell_type": "code",
   "execution_count": null,
   "id": "d578a1c0",
   "metadata": {},
   "outputs": [],
   "source": [
    "path_data = './data/'"
   ]
  },
  {
   "cell_type": "code",
   "execution_count": null,
   "id": "efddcefe",
   "metadata": {},
   "outputs": [],
   "source": [
    "def items_dict_to_df(all_items):\n",
    "    all_items_df = pd.DataFrame(columns=['name', 'id', 'width', 'height', 'icon_width', 'icon_height', 'features', 'fleaMarket', 'flea_avg48', 'flea_ch48percent', 'prapor', 'therapist', 'fence', 'skier', 'peacekeeper', 'mechanic', 'ragman', 'jaeger', 'basePrice'], index=range(len(all_items)))\n",
    "\n",
    "    # iterate over all items\n",
    "    for index in range(len(all_items)):\n",
    "        all_items_df.iloc[index]['name'] = all_items[index].get('shortName')\n",
    "        all_items_df.iloc[index]['id'] = all_items[index].get('id')\n",
    "        all_items_df.iloc[index]['width'] = all_items[index].get('width')\n",
    "        all_items_df.iloc[index]['height'] = all_items[index].get('height')\n",
    "        all_items_df.iloc[index]['flea_avg48'] = all_items[index].get('avg24hPrice')\n",
    "        all_items_df.iloc[index]['flea_ch48percent'] = all_items[index].get('changeLast48hPercent')\n",
    "        all_items_df.iloc[index]['basePrice'] = all_items[index].get('basePrice')\n",
    "\n",
    "        # iterate over all traders that can buy the item\n",
    "        for offer in all_items[index].get('sellFor'):\n",
    "            trader = offer.get('source')\n",
    "            price  = offer.get('price')\n",
    "            all_items_df.iloc[index][trader] = price\n",
    "    \n",
    "    return all_items_df\n"
   ]
  },
  {
   "cell_type": "code",
   "execution_count": null,
   "id": "36736806",
   "metadata": {},
   "outputs": [],
   "source": [
    "# create the items dataframe\n",
    "all_items_dict = getAllItemsPrices()"
   ]
  },
  {
   "cell_type": "code",
   "execution_count": null,
   "id": "e720219f",
   "metadata": {},
   "outputs": [],
   "source": [
    "all_items_df   = items_dict_to_df(all_items_dict)"
   ]
  },
  {
   "cell_type": "code",
   "execution_count": null,
   "id": "99da2e66",
   "metadata": {},
   "outputs": [],
   "source": [
    "# save dataframe as csv\n",
    "all_items_df.to_csv('../../' + path_data + 'all_items.csv', index=False)"
   ]
  },
  {
   "cell_type": "code",
   "execution_count": null,
   "id": "b2f70a98",
   "metadata": {
    "scrolled": false
   },
   "outputs": [],
   "source": [
    "# load dataframe from csv\n",
    "all_items_df = pd.read_csv('../../' + path_data + 'all_items.csv')"
   ]
  },
  {
   "cell_type": "code",
   "execution_count": null,
   "id": "6c71a9de",
   "metadata": {},
   "outputs": [],
   "source": [
    "a = all_items_df.loc[1000, 'prapor':'jaeger'].copy()\n",
    "a['peacekeeper'] = 10\n",
    "a"
   ]
  },
  {
   "cell_type": "code",
   "execution_count": null,
   "id": "d5410f1d",
   "metadata": {},
   "outputs": [],
   "source": [
    "item"
   ]
  },
  {
   "cell_type": "code",
   "execution_count": null,
   "id": "2c2af298",
   "metadata": {},
   "outputs": [],
   "source": [
    "item = all_items_df.loc[100]\n",
    "price_traders = item.loc['prapor':'jaeger']\n",
    "price_max = np.nanmax(price_traders)\n",
    "trader = np.nanargmax(price_traders)\n",
    "trader"
   ]
  },
  {
   "cell_type": "code",
   "execution_count": null,
   "id": "29c28f0c",
   "metadata": {},
   "outputs": [],
   "source": [
    "# all_items_df"
   ]
  },
  {
   "cell_type": "code",
   "execution_count": null,
   "id": "161157ad",
   "metadata": {},
   "outputs": [],
   "source": [
    "# all_items_dict"
   ]
  },
  {
   "cell_type": "code",
   "execution_count": null,
   "id": "ac15484b",
   "metadata": {},
   "outputs": [],
   "source": []
  },
  {
   "cell_type": "code",
   "execution_count": null,
   "id": "b9727b07",
   "metadata": {},
   "outputs": [],
   "source": []
  },
  {
   "cell_type": "markdown",
   "id": "9f060472",
   "metadata": {},
   "source": [
    "## Pyautogui and keyboard"
   ]
  },
  {
   "cell_type": "code",
   "execution_count": null,
   "id": "f68fd438",
   "metadata": {},
   "outputs": [],
   "source": [
    "import keyboard\n",
    "from time import sleep\n",
    "import pyautogui\n",
    "from PIL import Image, ImageStat"
   ]
  },
  {
   "cell_type": "code",
   "execution_count": null,
   "id": "ea98aab7",
   "metadata": {},
   "outputs": [],
   "source": [
    "def get_image_around_mouse(position):\n",
    "    slot_size = 64 * 1.2\n",
    "    x = (int) (position[0] - 0.5*slot_size)\n",
    "    y = (int) (position[1] - 0.5*slot_size)\n",
    "    screenshot = pyautogui.screenshot(region=(x,y,slot_size,slot_size))\n",
    "    screenshot = np.array(screenshot)\n",
    "    return screenshot\n",
    "\n",
    "def predict_item_under_mouse():\n",
    "    mouse_pos = pyautogui.position()\n",
    "    item = get_image_around_mouse(mouse_pos)\n",
    "    prediction,distance = predict_icon(item)\n",
    "    "
   ]
  },
  {
   "cell_type": "code",
   "execution_count": null,
   "id": "1b60ae44",
   "metadata": {},
   "outputs": [],
   "source": [
    "img = None\n",
    "key = 'm'\n",
    "while True:\n",
    "    if keyboard.is_pressed(key):\n",
    "        mouse_pos = pyautogui.position()\n",
    "        print(f\"Mouse Position: {mouse_pos}\")\n",
    "        img = get_image_around_mouse(mouse_pos)\n",
    "        break\n",
    "    if keyboard.is_pressed('escape'):\n",
    "        break\n",
    "        \n",
    "Image.fromarray(img)"
   ]
  },
  {
   "cell_type": "code",
   "execution_count": null,
   "id": "b5617461",
   "metadata": {},
   "outputs": [],
   "source": []
  },
  {
   "cell_type": "markdown",
   "id": "a804d57a",
   "metadata": {},
   "source": [
    "## JSON test"
   ]
  },
  {
   "cell_type": "code",
   "execution_count": null,
   "id": "d05c5809",
   "metadata": {},
   "outputs": [],
   "source": [
    "import json"
   ]
  },
  {
   "cell_type": "code",
   "execution_count": null,
   "id": "b23a31cf",
   "metadata": {},
   "outputs": [],
   "source": [
    "file = open('../../config.jsonc')\n"
   ]
  },
  {
   "cell_type": "code",
   "execution_count": null,
   "id": "3e486434",
   "metadata": {},
   "outputs": [],
   "source": [
    "data = json.load(file)"
   ]
  },
  {
   "cell_type": "code",
   "execution_count": null,
   "id": "f4fad624",
   "metadata": {},
   "outputs": [],
   "source": [
    "for v in data:\n",
    "    print(v + ',', end='')"
   ]
  },
  {
   "cell_type": "code",
   "execution_count": null,
   "id": "e3ef83a3",
   "metadata": {},
   "outputs": [],
   "source": [
    "data"
   ]
  },
  {
   "cell_type": "code",
   "execution_count": null,
   "id": "eda9d0df",
   "metadata": {},
   "outputs": [],
   "source": []
  },
  {
   "cell_type": "code",
   "execution_count": null,
   "id": "f4246c9d",
   "metadata": {},
   "outputs": [],
   "source": []
  },
  {
   "cell_type": "code",
   "execution_count": null,
   "id": "c6c88879",
   "metadata": {},
   "outputs": [],
   "source": []
  },
  {
   "cell_type": "code",
   "execution_count": null,
   "id": "3129720f",
   "metadata": {},
   "outputs": [],
   "source": [
    "a = [1,2,3,4,1,6]\n",
    "d = pd.DataFrame(a)"
   ]
  },
  {
   "cell_type": "code",
   "execution_count": null,
   "id": "cbadfbeb",
   "metadata": {},
   "outputs": [],
   "source": [
    "b = d[0].nsmallest(3)"
   ]
  },
  {
   "cell_type": "code",
   "execution_count": null,
   "id": "b785df45",
   "metadata": {},
   "outputs": [],
   "source": [
    "max(b)"
   ]
  },
  {
   "cell_type": "code",
   "execution_count": null,
   "id": "36bd153e",
   "metadata": {},
   "outputs": [],
   "source": []
  }
 ],
 "metadata": {
  "kernelspec": {
   "display_name": "Python 3 (ipykernel)",
   "language": "python",
   "name": "python3"
  },
  "language_info": {
   "codemirror_mode": {
    "name": "ipython",
    "version": 3
   },
   "file_extension": ".py",
   "mimetype": "text/x-python",
   "name": "python",
   "nbconvert_exporter": "python",
   "pygments_lexer": "ipython3",
   "version": "3.10.6"
  },
  "vscode": {
   "interpreter": {
    "hash": "97f7d08f8752477030260364a67c5a9ea0118c47e0d57b26f29d8b154a10369f"
   }
  }
 },
 "nbformat": 4,
 "nbformat_minor": 5
}
