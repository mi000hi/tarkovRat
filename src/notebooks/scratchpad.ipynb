{
 "cells": [
  {
   "cell_type": "code",
   "execution_count": 6,
   "id": "cb21a28a",
   "metadata": {},
   "outputs": [
    {
     "ename": "DisplayConnectionError",
     "evalue": "Can't connect to display \":0\": b'No protocol specified\\n'",
     "output_type": "error",
     "traceback": [
      "\u001b[0;31m---------------------------------------------------------------------------\u001b[0m",
      "\u001b[0;31mDisplayConnectionError\u001b[0m                    Traceback (most recent call last)",
      "Cell \u001b[0;32mIn [6], line 7\u001b[0m\n\u001b[1;32m      4\u001b[0m \u001b[38;5;28;01mimport\u001b[39;00m \u001b[38;5;21;01mrequests\u001b[39;00m\n\u001b[1;32m      5\u001b[0m \u001b[38;5;28;01mimport\u001b[39;00m \u001b[38;5;21;01mnumpy\u001b[39;00m \u001b[38;5;28;01mas\u001b[39;00m \u001b[38;5;21;01mnp\u001b[39;00m\n\u001b[0;32m----> 7\u001b[0m \u001b[38;5;28;01mimport\u001b[39;00m \u001b[38;5;21;01mpyautogui\u001b[39;00m\n",
      "File \u001b[0;32m/home/michael/Documents/Github/tarkovRat/.venv/lib64/python3.10/site-packages/pyautogui/__init__.py:249\u001b[0m\n\u001b[1;32m    245\u001b[0m     screenshot \u001b[38;5;241m=\u001b[39m _couldNotImportPyScreeze\n\u001b[1;32m    248\u001b[0m \u001b[38;5;28;01mtry\u001b[39;00m:\n\u001b[0;32m--> 249\u001b[0m     \u001b[38;5;28;01mimport\u001b[39;00m \u001b[38;5;21;01mmouseinfo\u001b[39;00m\n\u001b[1;32m    251\u001b[0m     \u001b[38;5;28;01mdef\u001b[39;00m \u001b[38;5;21mmouseInfo\u001b[39m():\n\u001b[1;32m    252\u001b[0m         \u001b[38;5;124;03m\"\"\"\u001b[39;00m\n\u001b[1;32m    253\u001b[0m \u001b[38;5;124;03m        Launches the MouseInfo app. This application provides mouse coordinate information which can be useful when\u001b[39;00m\n\u001b[1;32m    254\u001b[0m \u001b[38;5;124;03m        planning GUI automation tasks. This function blocks until the application is closed.\u001b[39;00m\n\u001b[1;32m    255\u001b[0m \u001b[38;5;124;03m        \"\"\"\u001b[39;00m\n",
      "File \u001b[0;32m/home/michael/Documents/Github/tarkovRat/.venv/lib64/python3.10/site-packages/mouseinfo/__init__.py:223\u001b[0m\n\u001b[1;32m    220\u001b[0m     \u001b[38;5;28;01melse\u001b[39;00m:\n\u001b[1;32m    221\u001b[0m         \u001b[38;5;28;01mraise\u001b[39;00m\n\u001b[0;32m--> 223\u001b[0m _display \u001b[38;5;241m=\u001b[39m \u001b[43mDisplay\u001b[49m\u001b[43m(\u001b[49m\u001b[43mos\u001b[49m\u001b[38;5;241;43m.\u001b[39;49m\u001b[43menviron\u001b[49m\u001b[43m[\u001b[49m\u001b[38;5;124;43m'\u001b[39;49m\u001b[38;5;124;43mDISPLAY\u001b[39;49m\u001b[38;5;124;43m'\u001b[39;49m\u001b[43m]\u001b[49m\u001b[43m)\u001b[49m\n\u001b[1;32m    225\u001b[0m \u001b[38;5;28;01mdef\u001b[39;00m \u001b[38;5;21m_linuxPosition\u001b[39m():\n\u001b[1;32m    226\u001b[0m     coord \u001b[38;5;241m=\u001b[39m _display\u001b[38;5;241m.\u001b[39mscreen()\u001b[38;5;241m.\u001b[39mroot\u001b[38;5;241m.\u001b[39mquery_pointer()\u001b[38;5;241m.\u001b[39m_data\n",
      "File \u001b[0;32m/home/michael/Documents/Github/tarkovRat/.venv/lib64/python3.10/site-packages/Xlib/display.py:80\u001b[0m, in \u001b[0;36mDisplay.__init__\u001b[0;34m(self, display)\u001b[0m\n\u001b[1;32m     79\u001b[0m \u001b[38;5;28;01mdef\u001b[39;00m \u001b[38;5;21m__init__\u001b[39m(\u001b[38;5;28mself\u001b[39m, display \u001b[38;5;241m=\u001b[39m \u001b[38;5;28;01mNone\u001b[39;00m):\n\u001b[0;32m---> 80\u001b[0m     \u001b[38;5;28mself\u001b[39m\u001b[38;5;241m.\u001b[39mdisplay \u001b[38;5;241m=\u001b[39m \u001b[43m_BaseDisplay\u001b[49m\u001b[43m(\u001b[49m\u001b[43mdisplay\u001b[49m\u001b[43m)\u001b[49m\n\u001b[1;32m     82\u001b[0m     \u001b[38;5;66;03m# Create the keymap cache\u001b[39;00m\n\u001b[1;32m     83\u001b[0m     \u001b[38;5;28mself\u001b[39m\u001b[38;5;241m.\u001b[39m_keymap_codes \u001b[38;5;241m=\u001b[39m [()] \u001b[38;5;241m*\u001b[39m \u001b[38;5;241m256\u001b[39m\n",
      "File \u001b[0;32m/home/michael/Documents/Github/tarkovRat/.venv/lib64/python3.10/site-packages/Xlib/display.py:62\u001b[0m, in \u001b[0;36m_BaseDisplay.__init__\u001b[0;34m(self, *args, **keys)\u001b[0m\n\u001b[1;32m     61\u001b[0m \u001b[38;5;28;01mdef\u001b[39;00m \u001b[38;5;21m__init__\u001b[39m(\u001b[38;5;28mself\u001b[39m, \u001b[38;5;241m*\u001b[39margs, \u001b[38;5;241m*\u001b[39m\u001b[38;5;241m*\u001b[39mkeys):\n\u001b[0;32m---> 62\u001b[0m     \u001b[43mdisplay\u001b[49m\u001b[38;5;241;43m.\u001b[39;49m\u001b[43mDisplay\u001b[49m\u001b[38;5;241;43m.\u001b[39;49m\u001b[38;5;21;43m__init__\u001b[39;49m\u001b[43m(\u001b[49m\u001b[38;5;241;43m*\u001b[39;49m\u001b[43m(\u001b[49m\u001b[38;5;28;43mself\u001b[39;49m\u001b[43m,\u001b[49m\u001b[43m \u001b[49m\u001b[43m)\u001b[49m\u001b[43m \u001b[49m\u001b[38;5;241;43m+\u001b[39;49m\u001b[43m \u001b[49m\u001b[43margs\u001b[49m\u001b[43m,\u001b[49m\u001b[43m \u001b[49m\u001b[38;5;241;43m*\u001b[39;49m\u001b[38;5;241;43m*\u001b[39;49m\u001b[43mkeys\u001b[49m\u001b[43m)\u001b[49m\n\u001b[1;32m     63\u001b[0m     \u001b[38;5;28mself\u001b[39m\u001b[38;5;241m.\u001b[39m_atom_cache \u001b[38;5;241m=\u001b[39m {}\n",
      "File \u001b[0;32m/home/michael/Documents/Github/tarkovRat/.venv/lib64/python3.10/site-packages/Xlib/protocol/display.py:129\u001b[0m, in \u001b[0;36mDisplay.__init__\u001b[0;34m(self, display)\u001b[0m\n\u001b[1;32m    127\u001b[0m \u001b[38;5;66;03m# Did connection fail?\u001b[39;00m\n\u001b[1;32m    128\u001b[0m \u001b[38;5;28;01mif\u001b[39;00m r\u001b[38;5;241m.\u001b[39mstatus \u001b[38;5;241m!=\u001b[39m \u001b[38;5;241m1\u001b[39m:\n\u001b[0;32m--> 129\u001b[0m     \u001b[38;5;28;01mraise\u001b[39;00m error\u001b[38;5;241m.\u001b[39mDisplayConnectionError(\u001b[38;5;28mself\u001b[39m\u001b[38;5;241m.\u001b[39mdisplay_name, r\u001b[38;5;241m.\u001b[39mreason)\n\u001b[1;32m    131\u001b[0m \u001b[38;5;66;03m# Set up remaining info\u001b[39;00m\n\u001b[1;32m    132\u001b[0m \u001b[38;5;28mself\u001b[39m\u001b[38;5;241m.\u001b[39minfo \u001b[38;5;241m=\u001b[39m r\n",
      "\u001b[0;31mDisplayConnectionError\u001b[0m: Can't connect to display \":0\": b'No protocol specified\\n'"
     ]
    }
   ],
   "source": [
    "from time import sleep\n",
    "import pandas as pd\n",
    "import tkinter as tk\n",
    "import requests\n",
    "import numpy as np\n",
    "\n",
    "import pyautogui"
   ]
  },
  {
   "cell_type": "code",
   "execution_count": 7,
   "id": "07e550f6",
   "metadata": {},
   "outputs": [],
   "source": [
    "def run_query(query):\n",
    "    response = requests.post('https://api.tarkov.dev/graphql', json={'query': query})\n",
    "    if response.status_code == 200:\n",
    "        return response.json()\n",
    "    else:\n",
    "        raise Exception(\"Query failed to run by returning code of {}. {}\".format(response.status_code, query))\n",
    "\n",
    "# lists all items\n",
    "query_all_items_prices = \"\"\"\n",
    "{\n",
    "    items {\n",
    "        shortName\n",
    "        id\n",
    "        width\n",
    "        height\n",
    "        avg24hPrice\n",
    "        changeLast48hPercent\n",
    "        basePrice\n",
    "        sellFor {\n",
    "            price\n",
    "            source\n",
    "        }\n",
    "    }\n",
    "}\n",
    "\"\"\"\n",
    "\n",
    "def getAllItemsPrices():\n",
    "    result = run_query(query_all_items_prices)\n",
    "    #result = run_query(water_query)\n",
    "    return result['data']['items']"
   ]
  },
  {
   "cell_type": "code",
   "execution_count": 8,
   "id": "d578a1c0",
   "metadata": {},
   "outputs": [],
   "source": [
    "path_data = './data/'"
   ]
  },
  {
   "cell_type": "code",
   "execution_count": 9,
   "id": "efddcefe",
   "metadata": {},
   "outputs": [],
   "source": [
    "def items_dict_to_df(all_items):\n",
    "    all_items_df = pd.DataFrame(columns=['name', 'id', 'width', 'height', 'icon_width', 'icon_height', 'features', 'fleaMarket', 'flea_avg48', 'flea_ch48percent', 'prapor', 'therapist', 'fence', 'skier', 'peacekeeper', 'mechanic', 'ragman', 'jaeger', 'basePrice'], index=range(len(all_items)))\n",
    "\n",
    "    # iterate over all items\n",
    "    for index in range(len(all_items)):\n",
    "        all_items_df.iloc[index]['name'] = all_items[index].get('shortName')\n",
    "        all_items_df.iloc[index]['id'] = all_items[index].get('id')\n",
    "        all_items_df.iloc[index]['width'] = all_items[index].get('width')\n",
    "        all_items_df.iloc[index]['height'] = all_items[index].get('height')\n",
    "        all_items_df.iloc[index]['flea_avg48'] = all_items[index].get('avg24hPrice')\n",
    "        all_items_df.iloc[index]['flea_ch48percent'] = all_items[index].get('changeLast48hPercent')\n",
    "        all_items_df.iloc[index]['basePrice'] = all_items[index].get('basePrice')\n",
    "\n",
    "        # iterate over all traders that can buy the item\n",
    "        for offer in all_items[index].get('sellFor'):\n",
    "            trader = offer.get('source')\n",
    "            price  = offer.get('price')\n",
    "            all_items_df.iloc[index][trader] = price\n",
    "    \n",
    "    return all_items_df\n"
   ]
  },
  {
   "cell_type": "code",
   "execution_count": 10,
   "id": "36736806",
   "metadata": {},
   "outputs": [],
   "source": [
    "# create the items dataframe\n",
    "all_items_dict = getAllItemsPrices()"
   ]
  },
  {
   "cell_type": "code",
   "execution_count": 11,
   "id": "e720219f",
   "metadata": {},
   "outputs": [],
   "source": [
    "all_items_df   = items_dict_to_df(all_items_dict)"
   ]
  },
  {
   "cell_type": "code",
   "execution_count": 13,
   "id": "99da2e66",
   "metadata": {},
   "outputs": [],
   "source": [
    "# save dataframe as csv\n",
    "all_items_df.to_csv('../../' + path_data + 'all_items.csv', index=False)"
   ]
  },
  {
   "cell_type": "code",
   "execution_count": 15,
   "id": "b2f70a98",
   "metadata": {
    "scrolled": false
   },
   "outputs": [],
   "source": [
    "# load dataframe from csv\n",
    "all_items_df = pd.read_csv('../../' + path_data + 'all_items.csv')"
   ]
  },
  {
   "cell_type": "code",
   "execution_count": 16,
   "id": "6c71a9de",
   "metadata": {},
   "outputs": [
    {
     "data": {
      "text/html": [
       "<div>\n",
       "<style scoped>\n",
       "    .dataframe tbody tr th:only-of-type {\n",
       "        vertical-align: middle;\n",
       "    }\n",
       "\n",
       "    .dataframe tbody tr th {\n",
       "        vertical-align: top;\n",
       "    }\n",
       "\n",
       "    .dataframe thead th {\n",
       "        text-align: right;\n",
       "    }\n",
       "</style>\n",
       "<table border=\"1\" class=\"dataframe\">\n",
       "  <thead>\n",
       "    <tr style=\"text-align: right;\">\n",
       "      <th></th>\n",
       "      <th>name</th>\n",
       "      <th>id</th>\n",
       "      <th>width</th>\n",
       "      <th>height</th>\n",
       "      <th>icon_width</th>\n",
       "      <th>icon_height</th>\n",
       "      <th>features</th>\n",
       "      <th>fleaMarket</th>\n",
       "      <th>flea_avg48</th>\n",
       "      <th>flea_ch48percent</th>\n",
       "      <th>prapor</th>\n",
       "      <th>therapist</th>\n",
       "      <th>fence</th>\n",
       "      <th>skier</th>\n",
       "      <th>peacekeeper</th>\n",
       "      <th>mechanic</th>\n",
       "      <th>ragman</th>\n",
       "      <th>jaeger</th>\n",
       "      <th>basePrice</th>\n",
       "    </tr>\n",
       "  </thead>\n",
       "  <tbody>\n",
       "    <tr>\n",
       "      <th>0</th>\n",
       "      <td>M4A1</td>\n",
       "      <td>5447a9cd4bdc2dbd208b4567</td>\n",
       "      <td>1</td>\n",
       "      <td>1</td>\n",
       "      <td>NaN</td>\n",
       "      <td>NaN</td>\n",
       "      <td>NaN</td>\n",
       "      <td>49995.0</td>\n",
       "      <td>76102</td>\n",
       "      <td>-51.03</td>\n",
       "      <td>9198.0</td>\n",
       "      <td>NaN</td>\n",
       "      <td>7358.0</td>\n",
       "      <td>NaN</td>\n",
       "      <td>83.0</td>\n",
       "      <td>10302.0</td>\n",
       "      <td>NaN</td>\n",
       "      <td>NaN</td>\n",
       "      <td>18397</td>\n",
       "    </tr>\n",
       "    <tr>\n",
       "      <th>1</th>\n",
       "      <td>M855</td>\n",
       "      <td>5447ac644bdc2d6c208b4567</td>\n",
       "      <td>1</td>\n",
       "      <td>1</td>\n",
       "      <td>NaN</td>\n",
       "      <td>NaN</td>\n",
       "      <td>NaN</td>\n",
       "      <td>2000.0</td>\n",
       "      <td>0</td>\n",
       "      <td>0.00</td>\n",
       "      <td>NaN</td>\n",
       "      <td>NaN</td>\n",
       "      <td>400.0</td>\n",
       "      <td>NaN</td>\n",
       "      <td>NaN</td>\n",
       "      <td>NaN</td>\n",
       "      <td>NaN</td>\n",
       "      <td>NaN</td>\n",
       "      <td>1000</td>\n",
       "    </tr>\n",
       "    <tr>\n",
       "      <th>2</th>\n",
       "      <td>Factory</td>\n",
       "      <td>5448ba0b4bdc2d02308b456c</td>\n",
       "      <td>1</td>\n",
       "      <td>1</td>\n",
       "      <td>NaN</td>\n",
       "      <td>NaN</td>\n",
       "      <td>NaN</td>\n",
       "      <td>88000.0</td>\n",
       "      <td>87753</td>\n",
       "      <td>8.61</td>\n",
       "      <td>25000.0</td>\n",
       "      <td>31500.0</td>\n",
       "      <td>NaN</td>\n",
       "      <td>NaN</td>\n",
       "      <td>NaN</td>\n",
       "      <td>NaN</td>\n",
       "      <td>NaN</td>\n",
       "      <td>NaN</td>\n",
       "      <td>50000</td>\n",
       "    </tr>\n",
       "    <tr>\n",
       "      <th>3</th>\n",
       "      <td>PM</td>\n",
       "      <td>5448bd6b4bdc2dfc2f8b4569</td>\n",
       "      <td>2</td>\n",
       "      <td>1</td>\n",
       "      <td>NaN</td>\n",
       "      <td>NaN</td>\n",
       "      <td>NaN</td>\n",
       "      <td>5000.0</td>\n",
       "      <td>7122</td>\n",
       "      <td>-15.80</td>\n",
       "      <td>2548.0</td>\n",
       "      <td>NaN</td>\n",
       "      <td>2038.0</td>\n",
       "      <td>NaN</td>\n",
       "      <td>23.0</td>\n",
       "      <td>2854.0</td>\n",
       "      <td>NaN</td>\n",
       "      <td>NaN</td>\n",
       "      <td>5097</td>\n",
       "    </tr>\n",
       "    <tr>\n",
       "      <th>4</th>\n",
       "      <td>RGD-5</td>\n",
       "      <td>5448be9a4bdc2dfd2f8b456a</td>\n",
       "      <td>1</td>\n",
       "      <td>1</td>\n",
       "      <td>NaN</td>\n",
       "      <td>NaN</td>\n",
       "      <td>NaN</td>\n",
       "      <td>10420.0</td>\n",
       "      <td>13492</td>\n",
       "      <td>-4.76</td>\n",
       "      <td>3615.0</td>\n",
       "      <td>NaN</td>\n",
       "      <td>2892.0</td>\n",
       "      <td>3542.0</td>\n",
       "      <td>NaN</td>\n",
       "      <td>NaN</td>\n",
       "      <td>NaN</td>\n",
       "      <td>NaN</td>\n",
       "      <td>7230</td>\n",
       "    </tr>\n",
       "    <tr>\n",
       "      <th>...</th>\n",
       "      <td>...</td>\n",
       "      <td>...</td>\n",
       "      <td>...</td>\n",
       "      <td>...</td>\n",
       "      <td>...</td>\n",
       "      <td>...</td>\n",
       "      <td>...</td>\n",
       "      <td>...</td>\n",
       "      <td>...</td>\n",
       "      <td>...</td>\n",
       "      <td>...</td>\n",
       "      <td>...</td>\n",
       "      <td>...</td>\n",
       "      <td>...</td>\n",
       "      <td>...</td>\n",
       "      <td>...</td>\n",
       "      <td>...</td>\n",
       "      <td>...</td>\n",
       "      <td>...</td>\n",
       "    </tr>\n",
       "    <tr>\n",
       "      <th>2718</th>\n",
       "      <td>Batwolf</td>\n",
       "      <td>62a61c988ec41a51b34758d5</td>\n",
       "      <td>2</td>\n",
       "      <td>1</td>\n",
       "      <td>NaN</td>\n",
       "      <td>NaN</td>\n",
       "      <td>NaN</td>\n",
       "      <td>23000.0</td>\n",
       "      <td>26425</td>\n",
       "      <td>0.50</td>\n",
       "      <td>NaN</td>\n",
       "      <td>NaN</td>\n",
       "      <td>7200.0</td>\n",
       "      <td>8820.0</td>\n",
       "      <td>81.0</td>\n",
       "      <td>NaN</td>\n",
       "      <td>11160.0</td>\n",
       "      <td>NaN</td>\n",
       "      <td>18000</td>\n",
       "    </tr>\n",
       "    <tr>\n",
       "      <th>2719</th>\n",
       "      <td>Barrack</td>\n",
       "      <td>62a9cb937377a65d7b070cef</td>\n",
       "      <td>1</td>\n",
       "      <td>1</td>\n",
       "      <td>NaN</td>\n",
       "      <td>NaN</td>\n",
       "      <td>NaN</td>\n",
       "      <td>33330.0</td>\n",
       "      <td>34076</td>\n",
       "      <td>-23.68</td>\n",
       "      <td>20000.0</td>\n",
       "      <td>25200.0</td>\n",
       "      <td>NaN</td>\n",
       "      <td>NaN</td>\n",
       "      <td>NaN</td>\n",
       "      <td>NaN</td>\n",
       "      <td>NaN</td>\n",
       "      <td>NaN</td>\n",
       "      <td>40000</td>\n",
       "    </tr>\n",
       "    <tr>\n",
       "      <th>2720</th>\n",
       "      <td>Dogtag</td>\n",
       "      <td>customdogtags12345678910</td>\n",
       "      <td>1</td>\n",
       "      <td>1</td>\n",
       "      <td>NaN</td>\n",
       "      <td>NaN</td>\n",
       "      <td>NaN</td>\n",
       "      <td>NaN</td>\n",
       "      <td>0</td>\n",
       "      <td>NaN</td>\n",
       "      <td>300.0</td>\n",
       "      <td>378.0</td>\n",
       "      <td>240.0</td>\n",
       "      <td>294.0</td>\n",
       "      <td>NaN</td>\n",
       "      <td>NaN</td>\n",
       "      <td>NaN</td>\n",
       "      <td>NaN</td>\n",
       "      <td>600</td>\n",
       "    </tr>\n",
       "    <tr>\n",
       "      <th>2721</th>\n",
       "      <td>Glock 17 PS9</td>\n",
       "      <td>glock17ps900000000000001</td>\n",
       "      <td>2</td>\n",
       "      <td>1</td>\n",
       "      <td>NaN</td>\n",
       "      <td>NaN</td>\n",
       "      <td>NaN</td>\n",
       "      <td>NaN</td>\n",
       "      <td>0</td>\n",
       "      <td>0.00</td>\n",
       "      <td>29554.0</td>\n",
       "      <td>NaN</td>\n",
       "      <td>23643.0</td>\n",
       "      <td>NaN</td>\n",
       "      <td>266.0</td>\n",
       "      <td>33100.0</td>\n",
       "      <td>NaN</td>\n",
       "      <td>NaN</td>\n",
       "      <td>59108</td>\n",
       "    </tr>\n",
       "    <tr>\n",
       "      <th>2722</th>\n",
       "      <td>Mosin (Sniper) PU</td>\n",
       "      <td>mosinscopedbarter0000001</td>\n",
       "      <td>6</td>\n",
       "      <td>1</td>\n",
       "      <td>NaN</td>\n",
       "      <td>NaN</td>\n",
       "      <td>NaN</td>\n",
       "      <td>NaN</td>\n",
       "      <td>0</td>\n",
       "      <td>0.00</td>\n",
       "      <td>20255.0</td>\n",
       "      <td>NaN</td>\n",
       "      <td>16204.0</td>\n",
       "      <td>NaN</td>\n",
       "      <td>182.0</td>\n",
       "      <td>22686.0</td>\n",
       "      <td>NaN</td>\n",
       "      <td>24306.0</td>\n",
       "      <td>40511</td>\n",
       "    </tr>\n",
       "  </tbody>\n",
       "</table>\n",
       "<p>2723 rows × 19 columns</p>\n",
       "</div>"
      ],
      "text/plain": [
       "                   name                        id  width  height  icon_width  \\\n",
       "0                  M4A1  5447a9cd4bdc2dbd208b4567      1       1         NaN   \n",
       "1                  M855  5447ac644bdc2d6c208b4567      1       1         NaN   \n",
       "2               Factory  5448ba0b4bdc2d02308b456c      1       1         NaN   \n",
       "3                    PM  5448bd6b4bdc2dfc2f8b4569      2       1         NaN   \n",
       "4                 RGD-5  5448be9a4bdc2dfd2f8b456a      1       1         NaN   \n",
       "...                 ...                       ...    ...     ...         ...   \n",
       "2718            Batwolf  62a61c988ec41a51b34758d5      2       1         NaN   \n",
       "2719            Barrack  62a9cb937377a65d7b070cef      1       1         NaN   \n",
       "2720             Dogtag  customdogtags12345678910      1       1         NaN   \n",
       "2721       Glock 17 PS9  glock17ps900000000000001      2       1         NaN   \n",
       "2722  Mosin (Sniper) PU  mosinscopedbarter0000001      6       1         NaN   \n",
       "\n",
       "      icon_height  features  fleaMarket  flea_avg48  flea_ch48percent  \\\n",
       "0             NaN       NaN     49995.0       76102            -51.03   \n",
       "1             NaN       NaN      2000.0           0              0.00   \n",
       "2             NaN       NaN     88000.0       87753              8.61   \n",
       "3             NaN       NaN      5000.0        7122            -15.80   \n",
       "4             NaN       NaN     10420.0       13492             -4.76   \n",
       "...           ...       ...         ...         ...               ...   \n",
       "2718          NaN       NaN     23000.0       26425              0.50   \n",
       "2719          NaN       NaN     33330.0       34076            -23.68   \n",
       "2720          NaN       NaN         NaN           0               NaN   \n",
       "2721          NaN       NaN         NaN           0              0.00   \n",
       "2722          NaN       NaN         NaN           0              0.00   \n",
       "\n",
       "       prapor  therapist    fence   skier  peacekeeper  mechanic   ragman  \\\n",
       "0      9198.0        NaN   7358.0     NaN         83.0   10302.0      NaN   \n",
       "1         NaN        NaN    400.0     NaN          NaN       NaN      NaN   \n",
       "2     25000.0    31500.0      NaN     NaN          NaN       NaN      NaN   \n",
       "3      2548.0        NaN   2038.0     NaN         23.0    2854.0      NaN   \n",
       "4      3615.0        NaN   2892.0  3542.0          NaN       NaN      NaN   \n",
       "...       ...        ...      ...     ...          ...       ...      ...   \n",
       "2718      NaN        NaN   7200.0  8820.0         81.0       NaN  11160.0   \n",
       "2719  20000.0    25200.0      NaN     NaN          NaN       NaN      NaN   \n",
       "2720    300.0      378.0    240.0   294.0          NaN       NaN      NaN   \n",
       "2721  29554.0        NaN  23643.0     NaN        266.0   33100.0      NaN   \n",
       "2722  20255.0        NaN  16204.0     NaN        182.0   22686.0      NaN   \n",
       "\n",
       "       jaeger  basePrice  \n",
       "0         NaN      18397  \n",
       "1         NaN       1000  \n",
       "2         NaN      50000  \n",
       "3         NaN       5097  \n",
       "4         NaN       7230  \n",
       "...       ...        ...  \n",
       "2718      NaN      18000  \n",
       "2719      NaN      40000  \n",
       "2720      NaN        600  \n",
       "2721      NaN      59108  \n",
       "2722  24306.0      40511  \n",
       "\n",
       "[2723 rows x 19 columns]"
      ]
     },
     "execution_count": 16,
     "metadata": {},
     "output_type": "execute_result"
    }
   ],
   "source": [
    "all_items_df"
   ]
  },
  {
   "cell_type": "code",
   "execution_count": 26,
   "id": "d5410f1d",
   "metadata": {},
   "outputs": [
    {
     "data": {
      "text/plain": [
       "name                               6P20 0-20\n",
       "id                  5649aa744bdc2ded0b8b457e\n",
       "width                                      1\n",
       "height                                     1\n",
       "icon_width                               NaN\n",
       "icon_height                              NaN\n",
       "features                                 NaN\n",
       "fleaMarket                              3000\n",
       "flea_avg48                              6700\n",
       "flea_ch48percent                      -41.16\n",
       "prapor                                   NaN\n",
       "therapist                                NaN\n",
       "fence                                    277\n",
       "skier                                    340\n",
       "peacekeeper                                3\n",
       "mechanic                                 388\n",
       "ragman                                   NaN\n",
       "jaeger                                   NaN\n",
       "Name: 100, dtype: object"
      ]
     },
     "execution_count": 26,
     "metadata": {},
     "output_type": "execute_result"
    }
   ],
   "source": [
    "item"
   ]
  },
  {
   "cell_type": "code",
   "execution_count": 29,
   "id": "2c2af298",
   "metadata": {},
   "outputs": [
    {
     "data": {
      "text/plain": [
       "5"
      ]
     },
     "execution_count": 29,
     "metadata": {},
     "output_type": "execute_result"
    }
   ],
   "source": [
    "item = all_items_df.loc[100]\n",
    "price_traders = item.loc['prapor':'jaeger']\n",
    "price_max = np.nanmax(price_traders)\n",
    "trader = np.nanargmax(price_traders)\n",
    "trader"
   ]
  },
  {
   "cell_type": "code",
   "execution_count": null,
   "id": "29c28f0c",
   "metadata": {},
   "outputs": [],
   "source": [
    "# all_items_df"
   ]
  },
  {
   "cell_type": "code",
   "execution_count": null,
   "id": "161157ad",
   "metadata": {},
   "outputs": [],
   "source": [
    "# all_items_dict"
   ]
  },
  {
   "cell_type": "code",
   "execution_count": null,
   "id": "ac15484b",
   "metadata": {},
   "outputs": [],
   "source": []
  },
  {
   "cell_type": "code",
   "execution_count": null,
   "id": "b9727b07",
   "metadata": {},
   "outputs": [],
   "source": []
  },
  {
   "cell_type": "markdown",
   "id": "9f060472",
   "metadata": {},
   "source": [
    "## Pyautogui and keyboard"
   ]
  },
  {
   "cell_type": "code",
   "execution_count": 2,
   "id": "f68fd438",
   "metadata": {},
   "outputs": [],
   "source": [
    "import keyboard\n",
    "from time import sleep\n",
    "import pyautogui\n",
    "from PIL import Image, ImageStat"
   ]
  },
  {
   "cell_type": "code",
   "execution_count": 3,
   "id": "ea98aab7",
   "metadata": {},
   "outputs": [],
   "source": [
    "def get_image_around_mouse(position):\n",
    "    slot_size = 64 * 1.2\n",
    "    x = (int) (position[0] - 0.5*slot_size)\n",
    "    y = (int) (position[1] - 0.5*slot_size)\n",
    "    screenshot = pyautogui.screenshot(region=(x,y,slot_size,slot_size))\n",
    "    screenshot = np.array(screenshot)\n",
    "    return screenshot\n",
    "\n",
    "def predict_item_under_mouse():\n",
    "    mouse_pos = pyautogui.position()\n",
    "    item = get_image_around_mouse(mouse_pos)\n",
    "    prediction,distance = predict_icon(item)\n",
    "    "
   ]
  },
  {
   "cell_type": "code",
   "execution_count": 4,
   "id": "1b60ae44",
   "metadata": {},
   "outputs": [
    {
     "ename": "ImportError",
     "evalue": "You must be root to use this library on linux.",
     "output_type": "error",
     "traceback": [
      "\u001b[0;31m---------------------------------------------------------------------------\u001b[0m",
      "\u001b[0;31mImportError\u001b[0m                               Traceback (most recent call last)",
      "Cell \u001b[0;32mIn [4], line 4\u001b[0m\n\u001b[1;32m      2\u001b[0m key \u001b[38;5;241m=\u001b[39m \u001b[38;5;124m'\u001b[39m\u001b[38;5;124mm\u001b[39m\u001b[38;5;124m'\u001b[39m\n\u001b[1;32m      3\u001b[0m \u001b[38;5;28;01mwhile\u001b[39;00m \u001b[38;5;28;01mTrue\u001b[39;00m:\n\u001b[0;32m----> 4\u001b[0m     \u001b[38;5;28;01mif\u001b[39;00m \u001b[43mkeyboard\u001b[49m\u001b[38;5;241;43m.\u001b[39;49m\u001b[43mis_pressed\u001b[49m\u001b[43m(\u001b[49m\u001b[43mkey\u001b[49m\u001b[43m)\u001b[49m:\n\u001b[1;32m      5\u001b[0m         mouse_pos \u001b[38;5;241m=\u001b[39m pyautogui\u001b[38;5;241m.\u001b[39mposition()\n\u001b[1;32m      6\u001b[0m         \u001b[38;5;28mprint\u001b[39m(\u001b[38;5;124mf\u001b[39m\u001b[38;5;124m\"\u001b[39m\u001b[38;5;124mMouse Position: \u001b[39m\u001b[38;5;132;01m{\u001b[39;00mmouse_pos\u001b[38;5;132;01m}\u001b[39;00m\u001b[38;5;124m\"\u001b[39m)\n",
      "File \u001b[0;32m~/Documents/Github/tarkovRat/.venv/lib64/python3.10/site-packages/keyboard/__init__.py:410\u001b[0m, in \u001b[0;36mis_pressed\u001b[0;34m(hotkey)\u001b[0m\n\u001b[1;32m    402\u001b[0m \u001b[39mdef\u001b[39;00m \u001b[39mis_pressed\u001b[39m(hotkey):\n\u001b[1;32m    403\u001b[0m     \u001b[39m\"\"\"\u001b[39;00m\n\u001b[1;32m    404\u001b[0m \u001b[39m    Returns True if the key is pressed.\u001b[39;00m\n\u001b[1;32m    405\u001b[0m \n\u001b[0;32m   (...)\u001b[0m\n\u001b[1;32m    408\u001b[0m \u001b[39m        is_pressed('ctrl+space') #-> True\u001b[39;00m\n\u001b[1;32m    409\u001b[0m \u001b[39m    \"\"\"\u001b[39;00m\n\u001b[0;32m--> 410\u001b[0m     _listener\u001b[39m.\u001b[39;49mstart_if_necessary()\n\u001b[1;32m    412\u001b[0m     \u001b[39mif\u001b[39;00m _is_number(hotkey):\n\u001b[1;32m    413\u001b[0m         \u001b[39m# Shortcut.\u001b[39;00m\n\u001b[1;32m    414\u001b[0m         \u001b[39mwith\u001b[39;00m _pressed_events_lock:\n",
      "File \u001b[0;32m~/Documents/Github/tarkovRat/.venv/lib64/python3.10/site-packages/keyboard/_generic.py:35\u001b[0m, in \u001b[0;36mGenericListener.start_if_necessary\u001b[0;34m(self)\u001b[0m\n\u001b[1;32m     33\u001b[0m \u001b[39mtry\u001b[39;00m:\n\u001b[1;32m     34\u001b[0m     \u001b[39mif\u001b[39;00m \u001b[39mnot\u001b[39;00m \u001b[39mself\u001b[39m\u001b[39m.\u001b[39mlistening:\n\u001b[0;32m---> 35\u001b[0m         \u001b[39mself\u001b[39;49m\u001b[39m.\u001b[39;49minit()\n\u001b[1;32m     37\u001b[0m         \u001b[39mself\u001b[39m\u001b[39m.\u001b[39mlistening \u001b[39m=\u001b[39m \u001b[39mTrue\u001b[39;00m\n\u001b[1;32m     38\u001b[0m         \u001b[39mself\u001b[39m\u001b[39m.\u001b[39mlistening_thread \u001b[39m=\u001b[39m Thread(target\u001b[39m=\u001b[39m\u001b[39mself\u001b[39m\u001b[39m.\u001b[39mlisten)\n",
      "File \u001b[0;32m~/Documents/Github/tarkovRat/.venv/lib64/python3.10/site-packages/keyboard/__init__.py:196\u001b[0m, in \u001b[0;36m_KeyboardListener.init\u001b[0;34m(self)\u001b[0m\n\u001b[1;32m    195\u001b[0m \u001b[39mdef\u001b[39;00m \u001b[39minit\u001b[39m(\u001b[39mself\u001b[39m):\n\u001b[0;32m--> 196\u001b[0m     _os_keyboard\u001b[39m.\u001b[39;49minit()\n\u001b[1;32m    198\u001b[0m     \u001b[39mself\u001b[39m\u001b[39m.\u001b[39mactive_modifiers \u001b[39m=\u001b[39m \u001b[39mset\u001b[39m()\n\u001b[1;32m    199\u001b[0m     \u001b[39mself\u001b[39m\u001b[39m.\u001b[39mblocking_hooks \u001b[39m=\u001b[39m []\n",
      "File \u001b[0;32m~/Documents/Github/tarkovRat/.venv/lib64/python3.10/site-packages/keyboard/_nixkeyboard.py:113\u001b[0m, in \u001b[0;36minit\u001b[0;34m()\u001b[0m\n\u001b[1;32m    112\u001b[0m \u001b[39mdef\u001b[39;00m \u001b[39minit\u001b[39m():\n\u001b[0;32m--> 113\u001b[0m     build_device()\n\u001b[1;32m    114\u001b[0m     build_tables()\n",
      "File \u001b[0;32m~/Documents/Github/tarkovRat/.venv/lib64/python3.10/site-packages/keyboard/_nixkeyboard.py:109\u001b[0m, in \u001b[0;36mbuild_device\u001b[0;34m()\u001b[0m\n\u001b[1;32m    107\u001b[0m \u001b[39mglobal\u001b[39;00m device\n\u001b[1;32m    108\u001b[0m \u001b[39mif\u001b[39;00m device: \u001b[39mreturn\u001b[39;00m\n\u001b[0;32m--> 109\u001b[0m ensure_root()\n\u001b[1;32m    110\u001b[0m device \u001b[39m=\u001b[39m aggregate_devices(\u001b[39m'\u001b[39m\u001b[39mkbd\u001b[39m\u001b[39m'\u001b[39m)\n",
      "File \u001b[0;32m~/Documents/Github/tarkovRat/.venv/lib64/python3.10/site-packages/keyboard/_nixcommon.py:174\u001b[0m, in \u001b[0;36mensure_root\u001b[0;34m()\u001b[0m\n\u001b[1;32m    172\u001b[0m \u001b[39mdef\u001b[39;00m \u001b[39mensure_root\u001b[39m():\n\u001b[1;32m    173\u001b[0m     \u001b[39mif\u001b[39;00m os\u001b[39m.\u001b[39mgeteuid() \u001b[39m!=\u001b[39m \u001b[39m0\u001b[39m:\n\u001b[0;32m--> 174\u001b[0m         \u001b[39mraise\u001b[39;00m \u001b[39mImportError\u001b[39;00m(\u001b[39m'\u001b[39m\u001b[39mYou must be root to use this library on linux.\u001b[39m\u001b[39m'\u001b[39m)\n",
      "\u001b[0;31mImportError\u001b[0m: You must be root to use this library on linux."
     ]
    }
   ],
   "source": [
    "img = None\n",
    "key = 'm'\n",
    "while True:\n",
    "    if keyboard.is_pressed(key):\n",
    "        mouse_pos = pyautogui.position()\n",
    "        print(f\"Mouse Position: {mouse_pos}\")\n",
    "        img = get_image_around_mouse(mouse_pos)\n",
    "        break\n",
    "    if keyboard.is_pressed('escape'):\n",
    "        break\n",
    "        \n",
    "Image.fromarray(img)"
   ]
  },
  {
   "cell_type": "code",
   "execution_count": null,
   "id": "b5617461",
   "metadata": {},
   "outputs": [],
   "source": []
  },
  {
   "cell_type": "markdown",
   "id": "a804d57a",
   "metadata": {},
   "source": [
    "## JSON test"
   ]
  },
  {
   "cell_type": "code",
   "execution_count": 1,
   "id": "d05c5809",
   "metadata": {},
   "outputs": [],
   "source": [
    "import json"
   ]
  },
  {
   "cell_type": "code",
   "execution_count": 2,
   "id": "b23a31cf",
   "metadata": {},
   "outputs": [],
   "source": [
    "file = open('../../config.jsonc')\n"
   ]
  },
  {
   "cell_type": "code",
   "execution_count": 3,
   "id": "3e486434",
   "metadata": {},
   "outputs": [],
   "source": [
    "data = json.load(file)"
   ]
  },
  {
   "cell_type": "code",
   "execution_count": 4,
   "id": "f4fad624",
   "metadata": {},
   "outputs": [
    {
     "name": "stdout",
     "output_type": "stream",
     "text": [
      "slot_locations_min_x,slot_locations_min_y,slot_locations_max_x,slot_locations_max_y,slot_locations_threshold,slot_locations_min_distance,tax_t_i,tax_t_r,tax_quantity,tax_quantity_factor,fast_nr_corners,fast_threshold_step,fast_empty_slot_threshold_factor,fast_fir_factor,fast_all_item_nr_corners,fast_all_item_nr_selected_corners,fast_all_item_auto_threshold,fast_predict_improved_nr_corners,fast_predict_improved_nr_selected_corners,fast_predict_nr_corners,fast_predict_nr_selected_corners,predict_max_nr_slots,predict_min_nr_matched_features,slot_size_around_mouse_factor,items_flea_market_update_interval_mins,thread_prediction_sleep_interval_secs,overlay_update_interval_msecs,label_y_offset,key_manual_predict,max_items_to_predict,predictions_threshold,window_title_tarkov,font_label_item_size,font_label_manual_item_size,overlay_border_size,"
     ]
    }
   ],
   "source": [
    "for v in data:\n",
    "    print(v + ',', end='')"
   ]
  },
  {
   "cell_type": "code",
   "execution_count": 5,
   "id": "e3ef83a3",
   "metadata": {},
   "outputs": [
    {
     "data": {
      "text/plain": [
       "{'slot_locations_min_x': 1000,\n",
       " 'slot_locations_min_y': 100,\n",
       " 'slot_locations_max_x': 2900,\n",
       " 'slot_locations_max_y': 1300,\n",
       " 'slot_locations_threshold': 0.6,\n",
       " 'slot_locations_min_distance': 60,\n",
       " 'tax_t_i': 0.05,\n",
       " 'tax_t_r': 0.1,\n",
       " 'tax_quantity': 1,\n",
       " 'tax_quantity_factor': 1,\n",
       " 'fast_nr_corners': 100,\n",
       " 'fast_threshold_step': 2,\n",
       " 'fast_empty_slot_threshold_factor': 0.2,\n",
       " 'fast_fir_factor': 0.7,\n",
       " 'fast_all_item_nr_corners': 110,\n",
       " 'fast_all_item_nr_selected_corners': 100,\n",
       " 'fast_all_item_auto_threshold': False,\n",
       " 'fast_predict_improved_nr_corners': 100,\n",
       " 'fast_predict_improved_nr_selected_corners': 30,\n",
       " 'fast_predict_nr_corners': 50,\n",
       " 'fast_predict_nr_selected_corners': 10,\n",
       " 'predict_max_nr_slots': 6,\n",
       " 'predict_min_nr_matched_features': 5,\n",
       " 'slot_size_around_mouse_factor': 1.2,\n",
       " 'items_flea_market_update_interval_mins': 10,\n",
       " 'thread_prediction_sleep_interval_secs': 1,\n",
       " 'overlay_update_interval_msecs': 200,\n",
       " 'label_y_offset': 20,\n",
       " 'key_manual_predict': 'm',\n",
       " 'max_items_to_predict': 300,\n",
       " 'predictions_threshold': 300,\n",
       " 'window_title_tarkov': 'EscapeFromTarkov',\n",
       " 'font_label_item_size': 10,\n",
       " 'font_label_manual_item_size': 16,\n",
       " 'overlay_border_size': 5}"
      ]
     },
     "execution_count": 5,
     "metadata": {},
     "output_type": "execute_result"
    }
   ],
   "source": [
    "data"
   ]
  },
  {
   "cell_type": "code",
   "execution_count": null,
   "id": "eda9d0df",
   "metadata": {},
   "outputs": [],
   "source": []
  }
 ],
 "metadata": {
  "kernelspec": {
   "display_name": "Python 3 (ipykernel)",
   "language": "python",
   "name": "python3"
  },
  "language_info": {
   "codemirror_mode": {
    "name": "ipython",
    "version": 3
   },
   "file_extension": ".py",
   "mimetype": "text/x-python",
   "name": "python",
   "nbconvert_exporter": "python",
   "pygments_lexer": "ipython3",
   "version": "3.10.6"
  },
  "vscode": {
   "interpreter": {
    "hash": "97f7d08f8752477030260364a67c5a9ea0118c47e0d57b26f29d8b154a10369f"
   }
  }
 },
 "nbformat": 4,
 "nbformat_minor": 5
}
