{
 "cells": [
  {
   "cell_type": "code",
   "execution_count": null,
   "id": "cb21a28a",
   "metadata": {},
   "outputs": [],
   "source": [
    "import apiRequestTest as api\n",
    "\n",
    "from time import sleep\n",
    "import pandas as pd\n",
    "import tkinter as tk"
   ]
  },
  {
   "cell_type": "code",
   "execution_count": null,
   "id": "d578a1c0",
   "metadata": {},
   "outputs": [],
   "source": [
    "path_data = './data/'"
   ]
  },
  {
   "cell_type": "code",
   "execution_count": null,
   "id": "efddcefe",
   "metadata": {},
   "outputs": [],
   "source": [
    "def items_dict_to_df(all_items):\n",
    "    all_items_df = pd.DataFrame(columns=['name', 'id', 'width', 'height', 'icon_width', 'icon_height', 'features', 'fleaMarket', 'flea_avg48', 'flea_ch48percent', 'prapor', 'therapist', 'fence', 'skier', 'peacekeeper', 'mechanic', 'ragman', 'jaeger'], index=range(len(all_items)))\n",
    "\n",
    "    # iterate over all items\n",
    "    for index in range(len(all_items)):\n",
    "        all_items_df.iloc[index]['name'] = all_items[index].get('shortName')\n",
    "        all_items_df.iloc[index]['id'] = all_items[index].get('id')\n",
    "        all_items_df.iloc[index]['width'] = all_items[index].get('width')\n",
    "        all_items_df.iloc[index]['height'] = all_items[index].get('height')\n",
    "        all_items_df.iloc[index]['flea_avg48'] = all_items[index].get('avg24hPrice')\n",
    "        all_items_df.iloc[index]['flea_ch48percent'] = all_items[index].get('changeLast48hPercent')\n",
    "\n",
    "        # iterate over all traders that can buy the item\n",
    "        for offer in all_items[index].get('sellFor'):\n",
    "            trader = offer.get('source')\n",
    "            price  = offer.get('price')\n",
    "            all_items_df.iloc[index][trader] = price\n",
    "    \n",
    "    return all_items_df\n"
   ]
  },
  {
   "cell_type": "code",
   "execution_count": null,
   "id": "36736806",
   "metadata": {},
   "outputs": [],
   "source": [
    "# create the items dataframe\n",
    "all_items_dict = api.getAllItemsPrices()"
   ]
  },
  {
   "cell_type": "code",
   "execution_count": null,
   "id": "e720219f",
   "metadata": {},
   "outputs": [],
   "source": [
    "all_items_df   = items_dict_to_df(all_items_dict)"
   ]
  },
  {
   "cell_type": "code",
   "execution_count": null,
   "id": "99da2e66",
   "metadata": {},
   "outputs": [],
   "source": [
    "# save dataframe as csv\n",
    "all_items_df.to_csv(path_data + 'all_items.csv', index=False)"
   ]
  },
  {
   "cell_type": "code",
   "execution_count": null,
   "id": "b2f70a98",
   "metadata": {
    "scrolled": false
   },
   "outputs": [],
   "source": [
    "# load dataframe from csv\n",
    "all_items_df = pd.read_csv(path_data + 'all_items.csv')"
   ]
  },
  {
   "cell_type": "code",
   "execution_count": null,
   "id": "6c71a9de",
   "metadata": {},
   "outputs": [],
   "source": []
  },
  {
   "cell_type": "code",
   "execution_count": null,
   "id": "d5410f1d",
   "metadata": {},
   "outputs": [],
   "source": []
  },
  {
   "cell_type": "code",
   "execution_count": null,
   "id": "2c2af298",
   "metadata": {},
   "outputs": [],
   "source": [
    "all_items_df"
   ]
  },
  {
   "cell_type": "code",
   "execution_count": null,
   "id": "29c28f0c",
   "metadata": {},
   "outputs": [],
   "source": [
    "# all_items_df"
   ]
  },
  {
   "cell_type": "code",
   "execution_count": null,
   "id": "161157ad",
   "metadata": {},
   "outputs": [],
   "source": [
    "# all_items_dict"
   ]
  },
  {
   "cell_type": "code",
   "execution_count": null,
   "id": "ac15484b",
   "metadata": {},
   "outputs": [],
   "source": []
  },
  {
   "cell_type": "code",
   "execution_count": null,
   "id": "b9727b07",
   "metadata": {},
   "outputs": [],
   "source": []
  },
  {
   "cell_type": "code",
   "execution_count": null,
   "id": "1b60ae44",
   "metadata": {},
   "outputs": [],
   "source": []
  }
 ],
 "metadata": {
  "kernelspec": {
   "display_name": "Python 3.10.6 ('.venv': venv)",
   "language": "python",
   "name": "python3"
  },
  "language_info": {
   "codemirror_mode": {
    "name": "ipython",
    "version": 3
   },
   "file_extension": ".py",
   "mimetype": "text/x-python",
   "name": "python",
   "nbconvert_exporter": "python",
   "pygments_lexer": "ipython3",
   "version": "3.10.6"
  },
  "vscode": {
   "interpreter": {
    "hash": "1779cdae3a29ee9a5c57c6b3a5915ae7369a69329681eccccf229cff71b67abc"
   }
  }
 },
 "nbformat": 4,
 "nbformat_minor": 5
}
