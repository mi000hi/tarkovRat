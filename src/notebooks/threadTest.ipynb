{
 "cells": [
  {
   "cell_type": "code",
   "execution_count": null,
   "id": "2412583e",
   "metadata": {},
   "outputs": [],
   "source": [
    "import threading\n",
    "import time"
   ]
  },
  {
   "cell_type": "code",
   "execution_count": null,
   "id": "a6a7c7a2",
   "metadata": {},
   "outputs": [],
   "source": [
    "def foo(items, b):\n",
    "    for i in range(10):\n",
    "        items.append(i)\n",
    "        time.sleep(1)\n",
    "        if i%2 == 0:\n",
    "            b.append(i)\n",
    "            \n",
    "def create_threads(items, b):\n",
    "    thread = threading.Thread(target=foo, args=(items,b))\n",
    "    thread.start()\n",
    "    \n",
    "def foo2():\n",
    "    for i in range(10):\n",
    "        print(\"heyy\")\n",
    "        time.sleep(0.5)"
   ]
  },
  {
   "cell_type": "code",
   "execution_count": null,
   "id": "373d45cb",
   "metadata": {},
   "outputs": [],
   "source": [
    "thread = threading.Thread(target=foo2)\n",
    "\n",
    "thread.start()\n",
    "\n",
    "thread.join()\n",
    "thread.start()"
   ]
  },
  {
   "cell_type": "code",
   "execution_count": null,
   "id": "4f1f8413",
   "metadata": {},
   "outputs": [],
   "source": [
    "items = []\n",
    "b = []\n",
    "create_threads(items, b)\n",
    "\n",
    "# while len(items) < 10:\n",
    "#     print('waiting')\n",
    "#     time.sleep(0.5)\n",
    "    \n",
    "items"
   ]
  },
  {
   "cell_type": "code",
   "execution_count": null,
   "id": "23bf147e",
   "metadata": {},
   "outputs": [],
   "source": [
    "while len(items) < 10:\n",
    "    print(items)\n",
    "    time.sleep(0.5)"
   ]
  },
  {
   "cell_type": "code",
   "execution_count": null,
   "id": "5689d177",
   "metadata": {},
   "outputs": [],
   "source": [
    "b"
   ]
  },
  {
   "cell_type": "code",
   "execution_count": null,
   "id": "60479534",
   "metadata": {},
   "outputs": [],
   "source": []
  }
 ],
 "metadata": {
  "kernelspec": {
   "display_name": "Python 3 (ipykernel)",
   "language": "python",
   "name": "python3"
  },
  "language_info": {
   "codemirror_mode": {
    "name": "ipython",
    "version": 3
   },
   "file_extension": ".py",
   "mimetype": "text/x-python",
   "name": "python",
   "nbconvert_exporter": "python",
   "pygments_lexer": "ipython3",
   "version": "3.10.6"
  }
 },
 "nbformat": 4,
 "nbformat_minor": 5
}
