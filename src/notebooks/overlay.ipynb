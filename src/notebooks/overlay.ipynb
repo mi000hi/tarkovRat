{
 "cells": [
  {
   "cell_type": "code",
   "execution_count": null,
   "id": "7dc8f9fd",
   "metadata": {},
   "outputs": [],
   "source": [
    "import tkinter as tk\n",
    "import pandas as pd\n",
    "import math\n",
    "import pandas as pd\n",
    "import numpy as np\n",
    "import cv2\n",
    "\n",
    "import pygetwindow as gw\n",
    "import pyautogui\n",
    "import threading\n",
    "import time\n",
    "\n",
    "from PIL import Image, ImageStat, ImageTk\n",
    "from matplotlib import pyplot as plt\n",
    "from os.path import exists"
   ]
  },
  {
   "cell_type": "code",
   "execution_count": null,
   "id": "1d5a2d80",
   "metadata": {},
   "outputs": [],
   "source": [
    "### INVENTORY ITEM DETECTION ###\n",
    "\n",
    "def edge_detection(img_np):\n",
    "    img = cv2.cvtColor(img_np, cv2.COLOR_BGR2GRAY)\n",
    "#     img = cv2.blur(img, (3,3))\n",
    "    img = cv2.GaussianBlur(img, (3,3), 0)\n",
    "    img = cv2.Canny(img, threshold1=50, threshold2=200, apertureSize=5)\n",
    "#     img = cv2.blur(img, (2,2))\n",
    "    img = cv2.blur(img, (3,3))\n",
    "    return img\n",
    "\n",
    "def inventory_line_detection(img):\n",
    "    img_inventory_edge = edge_detection(img)\n",
    "    \n",
    "    img_horizontal = img_inventory_edge.copy()\n",
    "    img_vertical = img_inventory_edge.copy()\n",
    "\n",
    "    line_length = 50 #(int) (50 * window_scale_factor)\n",
    "    horizontal_struct = cv2.getStructuringElement(cv2.MORPH_RECT, (line_length,1))\n",
    "    vertical_struct = cv2.getStructuringElement(cv2.MORPH_RECT, (1,line_length))\n",
    "\n",
    "    cv2.erode(img_horizontal, horizontal_struct, img_horizontal)\n",
    "    cv2.dilate(img_horizontal, horizontal_struct, img_horizontal)\n",
    "\n",
    "    cv2.erode(img_vertical, vertical_struct, img_vertical)\n",
    "    cv2.dilate(img_vertical, vertical_struct, img_vertical)\n",
    "\n",
    "    result = cv2.add(img_horizontal, img_vertical)\n",
    "    return result\n",
    "\n",
    "def find_slot_locations(inventory_filtered, slot_gray):\n",
    "    global slot_locations, nr_valid_predictions\n",
    "    \n",
    "    matched_slots = cv2.matchTemplate(inventory_filtered, slot_gray, cv2.TM_CCORR_NORMED)\n",
    "    # matched_slots = inventory_filtered\n",
    "    \n",
    "    threshold = 0.7\n",
    "    # threshold = 150\n",
    "    slots_min_x = (int) (1920/3)\n",
    "    min_distance = 50\n",
    "    slots = []\n",
    "    \n",
    "    for y in range(matched_slots.shape[0]):\n",
    "        for x in range(matched_slots.shape[1]):\n",
    "            if matched_slots[y][x] > threshold:\n",
    "                if x > slots_min_x:\n",
    "                    slots.append((x,y))\n",
    "    \n",
    "    # filter number of locations\n",
    "    valid_slots = 0\n",
    "    for i,new_slot in enumerate(slots):\n",
    "        if valid_slots >= len(slot_locations):\n",
    "            break\n",
    "        add_slot = True\n",
    "        x = new_slot[0]\n",
    "        y = new_slot[1]\n",
    "        for j in range(valid_slots):\n",
    "            s = slot_locations[j]\n",
    "            if abs(s[0]-x) < min_distance and abs(s[1]-y) < min_distance:\n",
    "                add_slot = False\n",
    "                break\n",
    "        if add_slot == True:\n",
    "            slot_locations[valid_slots] = (x,y)\n",
    "            valid_slots += 1\n",
    "    \n",
    "    nr_valid_predictions = valid_slots\n",
    "\n",
    "def draw_slots_on_image(img, slots):\n",
    "    img_with_slots = img.copy()\n",
    "    for x,y in slots:\n",
    "        img_with_slots = cv2.circle(img_with_slots, (x, y), radius=5, color=(255,0,0), thickness=-1)\n",
    "    return img_with_slots\n",
    "\n",
    "def get_item_images_from_inventory(inventory):\n",
    "    global item_images, max_items_to_predict, item_images_updated\n",
    "    global slot_locations, nr_valid_predictions, slot_size\n",
    "    \n",
    "    for i in range(nr_valid_predictions):\n",
    "        s = slot_locations[i]\n",
    "        item_images[i] = inventory[s[1]:s[1]+slot_size, s[0]:s[0]+slot_size]\n",
    "        \n",
    "    item_images_updated = True\n",
    "\n",
    "\n",
    "\n",
    "### ITEM PREDICTION ###\n",
    "\n",
    "def load_icons_from_disk(verbose=False):\n",
    "    global all_items_df\n",
    "    \n",
    "    icons = []\n",
    "    for index,item in all_items_df.iterrows():\n",
    "        filename = path_grid_icons + item['id'] + filename_ending_grid_icon\n",
    "        if exists(filename):\n",
    "            img = np.asarray(Image.open(filename))\n",
    "            img = cv2.resize(img, ((int) (img.shape[0]*window_scale_factor)\n",
    "                                   , (int) (img.shape[1]*window_scale_factor)))\n",
    "            icons.append(img)\n",
    "        else:\n",
    "            icons.append([])\n",
    "            if verbose:\n",
    "                print(f\"File {filename} does not exist.\")\n",
    "    return icons\n",
    "\n",
    "def run_sift(img):\n",
    "    global sift\n",
    "    gray = cv2.cvtColor(img,cv2.COLOR_BGR2GRAY)\n",
    "    kp,des = sift.detectAndCompute(gray,None)\n",
    "    return kp,des\n",
    "\n",
    "def create_all_descriptors():\n",
    "    global icons\n",
    "    descriptors = []\n",
    "    for icon in icons:\n",
    "        if len(icon) == 0:\n",
    "            descriptors.append(None)\n",
    "            continue\n",
    "        icon = icon[0:slot_size, 0:slot_size]\n",
    "        kp,des = run_sift(icon)\n",
    "        descriptors.append(des)\n",
    "    return descriptors\n",
    "\n",
    "def predict_icon(img):\n",
    "    global icons, bf, descriptors\n",
    "    distances = []\n",
    "\n",
    "    kp,des = run_sift(img)\n",
    "\n",
    "    for i in range(len(icons)):\n",
    "        if descriptors[i] is None:\n",
    "            distances.append(999999)\n",
    "            continue\n",
    "\n",
    "        matches = bf.match(des,descriptors[i])\n",
    "        matches = sorted(matches, key = lambda x:x.distance)\n",
    "        matches = matches[:30]\n",
    "        \n",
    "        if len(matches) == 0:\n",
    "            distances.append(999999)\n",
    "            continue\n",
    "\n",
    "        distance = 0.0\n",
    "        for match in matches:\n",
    "            distance += match.distance/len(matches)\n",
    "            \n",
    "        distances.append(distance)\n",
    "\n",
    "    prediction = np.argmin(distances)\n",
    "    min_distance = min(distances)\n",
    "    return prediction,min_distance\n",
    "\n",
    "def predict_all_icons(images, predictions, distances):\n",
    "    for item in images:\n",
    "        p,d = predict_icon(item)\n",
    "        predictions.append(p)\n",
    "        distances.append(d)\n",
    "        \n",
    "def predict_current_inventory(predictions_df):\n",
    "    global root\n",
    "    \n",
    "    # hide all tkinter\n",
    "    if not root is None:\n",
    "        root.withdraw()\n",
    "    \n",
    "    # get inventory\n",
    "    screenshot = pyautogui.screenshot(region=(window_tarkov_position[0],window_tarkov_position[1]\n",
    "                                              , window_tarkov_size[0], window_tarkov_size[1]))\n",
    "    screenshot = np.array(screenshot)\n",
    "    \n",
    "    # show all tkinter again\n",
    "    if not root is None:\n",
    "        root.deiconify()\n",
    "    \n",
    "    # get items from screenshot\n",
    "    get_predictions_from_inventory(screenshot)"
   ]
  },
  {
   "cell_type": "code",
   "execution_count": null,
   "id": "2e3ec69a",
   "metadata": {},
   "outputs": [],
   "source": [
    "def threaded_prediction(items):\n",
    "    global item_images_updated, nr_valid_predictions, predictions_updated\n",
    "    global predictions_df, slot_locations\n",
    "    global predictions, distances, prediction_threshold\n",
    "    \n",
    "    while True:\n",
    "        if not item_images_updated:\n",
    "            time.sleep(1)\n",
    "#             print(\"Thread running...\")\n",
    "        else:\n",
    "            print(f\"we have {nr_valid_predictions} new predictions\")\n",
    "            for i in range(nr_valid_predictions):\n",
    "                item = item_images[i]\n",
    "                \n",
    "                # update prediction information\n",
    "                p,d = predict_icon(item)\n",
    "                predictions[i] = p\n",
    "                distances[i] = d\n",
    "\n",
    "                # update prediction dataframe\n",
    "                predictions_df.loc[i,'slot_x'] = slot_locations[i][0]\n",
    "                predictions_df.loc[i,'slot_y'] = slot_locations[i][1]\n",
    "\n",
    "                predictions_df.loc[i,'predicted_item'] = predictions[i]\n",
    "                predictions_df.loc[i,'distance'] = distances[i]\n",
    "                \n",
    "                predictions_updated = True\n",
    "\n",
    "            item_images_updated = False\n",
    "        \n",
    "# def threaded_prediction_df_update(predictions_df, predictions, distances):\n",
    "#     length = 0\n",
    "#     while length < len(predictions_df):\n",
    "#         for i in range(length):\n",
    "#             if not predictions_df.loc[i,'predicted_item'] is None:\n",
    "#                 continue\n",
    "#             predictions_df.loc[i,'predicted_item'] = predictions[i]\n",
    "#             predictions_df.loc[i,'distance'] = distances[i]\n",
    "#         time.sleep(0.1)\n",
    "#         length = min(len(predictions),len(distances))\n",
    "                 \n",
    "#     # check if all values are written\n",
    "#     for i in range(len(predictions_df)):\n",
    "#         if not predictions_df.loc[i,'predicted_item'] is None:\n",
    "#             continue\n",
    "#         predictions_df.loc[i,'predicted_item'] = predictions[i]\n",
    "#         predictions_df.loc[i,'distance'] = distances[i]"
   ]
  },
  {
   "cell_type": "code",
   "execution_count": null,
   "id": "e11a4ba4",
   "metadata": {},
   "outputs": [],
   "source": [
    "def get_predictions_from_inventory(inventory):\n",
    "    global img_slot_gray\n",
    "    global thread_predict\n",
    "    \n",
    "    # get item images\n",
    "    t0 = time.time()\n",
    "    inventory_filtered = inventory_line_detection(inventory)\n",
    "    find_slot_locations(inventory_filtered, img_slot_gray)\n",
    "    get_item_images_from_inventory(inventory)\n",
    "    t1 = time.time()\n",
    "    print(f'inventory took {t1-t0} s')\n",
    "    \n",
    "    # predict each item from inventory\n",
    "    ## thread is already doing this\n",
    "\n",
    "    t2 = time.time()\n",
    "    print(f'item predictions took {t2-t1} s')\n",
    "    return predictions_df"
   ]
  },
  {
   "cell_type": "code",
   "execution_count": null,
   "id": "d7f472c4",
   "metadata": {},
   "outputs": [],
   "source": []
  },
  {
   "cell_type": "markdown",
   "id": "aad0742d",
   "metadata": {},
   "source": [
    "# setup items, icons and descriptors"
   ]
  },
  {
   "cell_type": "code",
   "execution_count": null,
   "id": "0c26f93c",
   "metadata": {},
   "outputs": [],
   "source": [
    "# paths\n",
    "path_icons = './icons/'\n",
    "path_images = './images/'\n",
    "path_grid_icons = './grid_icons/'\n",
    "path_data = './data/'\n",
    "\n",
    "filename_ending_grid_icon = '-grid-image.jpg'\n",
    "\n",
    "window_title_tarkov = 'EscapeFromTarkov'"
   ]
  },
  {
   "cell_type": "code",
   "execution_count": null,
   "id": "2c191aad",
   "metadata": {},
   "outputs": [],
   "source": [
    "icons = []\n",
    "descriptors = []\n",
    "all_items_df = None\n",
    "\n",
    "max_items_to_predict = 300\n",
    "nr_valid_predictions = 0\n",
    "predictions_threshold = 300\n",
    "predictions_df = None\n",
    "item_images = []\n",
    "predictions = []\n",
    "distances = []\n",
    "slot_locations = []\n",
    "\n",
    "img_slot_gray = None\n",
    "\n",
    "root = None\n",
    "price_labels = []\n",
    "labels_visible = True\n",
    "\n",
    "item_images_updated = False\n",
    "predictions_updated = False\n",
    "thread_predict = threading.Thread(target=threaded_prediction, args=(item_images,))\n",
    "\n",
    "sift = cv2.SIFT_create()\n",
    "bf = cv2.BFMatcher()\n",
    "\n",
    "window_scale_factor = 1"
   ]
  },
  {
   "cell_type": "code",
   "execution_count": null,
   "id": "fde923e5",
   "metadata": {},
   "outputs": [],
   "source": [
    "# get tarkov window\n",
    "window_tarkov = gw.getWindowsWithTitle(window_title_tarkov)[0]\n",
    "window_tarkov_position = window_tarkov.topleft\n",
    "window_tarkov_size = window_tarkov.size\n",
    "\n",
    "window_scale_factor = window_tarkov_size[1] / 1080.0\n",
    "slot_size = (int) (64 * window_scale_factor) # in pixels, for FHD resolution"
   ]
  },
  {
   "cell_type": "code",
   "execution_count": null,
   "id": "0c0e3cc8",
   "metadata": {},
   "outputs": [],
   "source": [
    "# get needed data\n",
    "all_items_df = pd.read_csv(path_data + 'all_items.csv')\n",
    "icons = load_icons_from_disk()\n",
    "descriptors = create_all_descriptors()"
   ]
  },
  {
   "cell_type": "code",
   "execution_count": null,
   "id": "7cda5caf",
   "metadata": {},
   "outputs": [],
   "source": [
    "# load and filter slot reference image\n",
    "img_slot = Image.open(path_images + 'slot_empty.png')\n",
    "img_slot = np.asarray(img_slot)\n",
    "img_slot = cv2.resize(img_slot, ((int) (img_slot.shape[0]*window_scale_factor)\n",
    "                                 , (int) (img_slot.shape[1]*window_scale_factor)))\n",
    "img_slot_gray = cv2.cvtColor(img_slot, cv2.COLOR_BGR2GRAY)"
   ]
  },
  {
   "cell_type": "code",
   "execution_count": null,
   "id": "3b49cb39",
   "metadata": {},
   "outputs": [],
   "source": [
    "# initialize arrays\n",
    "predictions_df = pd.DataFrame({'slot_x': [0] * max_items_to_predict, 'slot_y': [0] * max_items_to_predict\n",
    "        , 'predicted_item': [-1] * max_items_to_predict, 'distance': [0] * max_items_to_predict})\n",
    "price_labels = [None] * max_items_to_predict\n",
    "item_images = [None] * max_items_to_predict\n",
    "predictions = [-1] * max_items_to_predict\n",
    "distances = [0] * max_items_to_predict\n",
    "slot_locations = [(0,0)] * max_items_to_predict"
   ]
  },
  {
   "cell_type": "code",
   "execution_count": null,
   "id": "655d0d68",
   "metadata": {},
   "outputs": [],
   "source": [
    "# start prediction thread\n",
    "thread_predict.start()"
   ]
  },
  {
   "cell_type": "markdown",
   "id": "a7d42e95",
   "metadata": {},
   "source": [
    "# get inventory from tarkov"
   ]
  },
  {
   "cell_type": "code",
   "execution_count": null,
   "id": "45455cb8",
   "metadata": {},
   "outputs": [],
   "source": []
  },
  {
   "cell_type": "code",
   "execution_count": null,
   "id": "e7d11c34",
   "metadata": {},
   "outputs": [],
   "source": [
    "# get items from screenshot\n",
    "predict_current_inventory(predictions_df)"
   ]
  },
  {
   "cell_type": "code",
   "execution_count": null,
   "id": "a93f0ab1",
   "metadata": {},
   "outputs": [],
   "source": []
  },
  {
   "cell_type": "code",
   "execution_count": null,
   "id": "f71240bd",
   "metadata": {},
   "outputs": [],
   "source": []
  },
  {
   "cell_type": "markdown",
   "id": "dc68ed66",
   "metadata": {},
   "source": [
    "# create overlay with predictions"
   ]
  },
  {
   "cell_type": "code",
   "execution_count": null,
   "id": "6268be5c",
   "metadata": {},
   "outputs": [],
   "source": [
    "def place_label(text, x, y, index):\n",
    "    global root\n",
    "\n",
    "    label = tk.Label(root, text=text, font=(\"helvetica\", 10), fg='white', bg='black')\n",
    "    label.place(x=x, y=y+20, anchor = 'nw')\n",
    "    \n",
    "    # remove old label\n",
    "    if index < len(price_labels):\n",
    "        if not price_labels[index] is None:\n",
    "            price_labels[index].destroy()\n",
    "        price_labels[index] = label\n",
    "    else:\n",
    "        price_labels.append(label)\n",
    "    \n",
    "def create_overlay():\n",
    "    root = tk.Tk()\n",
    "    root.title(\"window title\")\n",
    "    root.geometry(\"%dx%d+%d+%d\" % (window_width,window_height,x_window,y_window))\n",
    "    root.attributes('-topmost', True)\n",
    "    root.overrideredirect(True)\n",
    "    root.configure(bg='red')\n",
    "\n",
    "    # make color red transparent\n",
    "    root.wm_attributes('-transparentcolor', 'black')\n",
    "    return root\n",
    "\n",
    "def update_price_labels():\n",
    "    remove_price_labels()\n",
    "    add_price_labels()\n",
    "\n",
    "def add_price_labels():\n",
    "    global nr_valid_predictions, predictions_df, price_labels, all_items_df\n",
    "    global predictions_threshold\n",
    "    \n",
    "    for i in range(nr_valid_predictions):\n",
    "        prediction = predictions_df.loc[i]\n",
    "        index = prediction[2]\n",
    "        distance = prediction[3]\n",
    "        if index == -1 or distance > predictions_threshold:\n",
    "            if not price_labels[i] is None:\n",
    "                price_labels[i].destroy()\n",
    "                price_labels[i] = None\n",
    "            continue\n",
    "            \n",
    "        x = prediction[0]\n",
    "        y = prediction[1]\n",
    "        price_flea = all_items_df.loc[index, 'fleaMarket']\n",
    "        price_traders = all_items_df.loc[index, 'prapor':'jaeger']\n",
    "        price_traders_max = max(price_traders)\n",
    "        price_max = max(price_flea, price_traders_max)\n",
    "\n",
    "        if math.isnan(price_max):\n",
    "            continue\n",
    "        price = (int) (price_max/1000)\n",
    "        price_string = str(price) + 'k'\n",
    "        name = all_items_df.loc[index][0]\n",
    "        text = name + '\\n' + price_string\n",
    "        place_label(text, x, y, i)\n",
    "    \n",
    "    # remove other labels\n",
    "    for i in range(nr_valid_predictions, len(price_labels)):\n",
    "        if price_labels[i] is None:\n",
    "            break\n",
    "        price_labels[i].destroy()\n",
    "\n",
    "def remove_price_labels():\n",
    "    for label in price_labels:\n",
    "        if not label is None:\n",
    "            label.destroy()\n",
    "        \n",
    "def update():\n",
    "    global root,canvas\n",
    "    \n",
    "    if labels_visible:\n",
    "        update_price_labels()\n",
    "    \n",
    "    # run itself again after 100 ms\n",
    "    root.after(100, update)\n",
    "    \n",
    "def update_predictions():\n",
    "    global predictions_df\n",
    "    predict_current_inventory(predictions_df)\n",
    "    \n",
    "def show_hide_labels():\n",
    "    global price_labels, labels_visible\n",
    "    \n",
    "    if labels_visible:\n",
    "        for i in range(len(price_labels)):\n",
    "            if not price_labels[i] is None:\n",
    "                price_labels[i].destroy()\n",
    "                price_labels[i] = None\n",
    "        labels_visible = False\n",
    "    else:\n",
    "        add_price_labels()\n",
    "        labels_visible = True"
   ]
  },
  {
   "cell_type": "code",
   "execution_count": null,
   "id": "f89e58ae",
   "metadata": {},
   "outputs": [],
   "source": []
  },
  {
   "cell_type": "code",
   "execution_count": null,
   "id": "cb71286e",
   "metadata": {},
   "outputs": [],
   "source": []
  },
  {
   "cell_type": "code",
   "execution_count": null,
   "id": "dcf00643",
   "metadata": {},
   "outputs": [],
   "source": []
  },
  {
   "cell_type": "code",
   "execution_count": null,
   "id": "4ce2760c",
   "metadata": {},
   "outputs": [],
   "source": []
  },
  {
   "cell_type": "code",
   "execution_count": null,
   "id": "8fd4983c",
   "metadata": {},
   "outputs": [],
   "source": []
  },
  {
   "cell_type": "code",
   "execution_count": null,
   "id": "a0760dd9",
   "metadata": {},
   "outputs": [],
   "source": [
    "# find overlay position\n",
    "x_window = window_tarkov_position[0]\n",
    "y_window = window_tarkov_position[1]\n",
    "window_width = window_tarkov_size[0]\n",
    "window_height = window_tarkov_size[1]\n",
    "\n",
    "# create the window\n",
    "root = create_overlay()\n",
    "\n",
    "# create a transparent frame to make a border\n",
    "my_frame = tk.Frame(root, width=window_width-20, height=window_height-20, bg='black')\n",
    "my_frame.place(x=10,y=10)"
   ]
  },
  {
   "cell_type": "code",
   "execution_count": null,
   "id": "b7336eb6",
   "metadata": {},
   "outputs": [],
   "source": [
    "# add a button\n",
    "button1 = tk.Button(root, text='Update predictions', fg='blue', command=update_predictions)\n",
    "button1.pack()\n",
    "button2 = tk.Button(root, text='show/hide labels', fg='blue', command=show_hide_labels)\n",
    "button2.pack()\n",
    "\n",
    "labels_visible = True\n",
    "\n",
    "update()"
   ]
  },
  {
   "cell_type": "code",
   "execution_count": null,
   "id": "6c7eeb71",
   "metadata": {
    "scrolled": true
   },
   "outputs": [],
   "source": [
    "# show the window and take focus\n",
    "root.focus_force()\n",
    "root.bind('<Escape>', lambda e: root.destroy())\n",
    "root.mainloop()"
   ]
  },
  {
   "cell_type": "code",
   "execution_count": null,
   "id": "aa4e5dd8",
   "metadata": {
    "scrolled": true
   },
   "outputs": [],
   "source": [
    "len(item_images)"
   ]
  },
  {
   "cell_type": "code",
   "execution_count": null,
   "id": "a506f2f1",
   "metadata": {
    "scrolled": false
   },
   "outputs": [],
   "source": [
    "w = 10\n",
    "h = 10\n",
    "fig = plt.figure(figsize=(8, 8))\n",
    "columns = 10\n",
    "rows = 10\n",
    "for i in range(0,columns*rows,2):\n",
    "    distance = (int) (distances[(int) (i/2)])\n",
    "    if distance > 300:\n",
    "        continue\n",
    "        \n",
    "    img = item_images[(int) (i/2)].copy()\n",
    "    fig.add_subplot(rows, columns, i+1)\n",
    "    plt.imshow(img)\n",
    "    img = icons[predictions[(int) (i/2)]].copy()\n",
    "    fig.add_subplot(rows, columns, i+2, title=distance)\n",
    "    plt.imshow(img)\n",
    "plt.show()"
   ]
  },
  {
   "cell_type": "code",
   "execution_count": null,
   "id": "b06eb00d",
   "metadata": {},
   "outputs": [],
   "source": [
    "all_items_df.loc[10, 'fleamarket', 'prapor':'jaeger']"
   ]
  },
  {
   "cell_type": "code",
   "execution_count": null,
   "id": "66b73896",
   "metadata": {},
   "outputs": [],
   "source": []
  },
  {
   "cell_type": "code",
   "execution_count": null,
   "id": "e2d730e7",
   "metadata": {},
   "outputs": [],
   "source": [
    "predictions_df"
   ]
  },
  {
   "cell_type": "code",
   "execution_count": null,
   "id": "c11a9993",
   "metadata": {
    "scrolled": true
   },
   "outputs": [],
   "source": [
    "price_labels = []"
   ]
  },
  {
   "cell_type": "code",
   "execution_count": null,
   "id": "8003c04a",
   "metadata": {},
   "outputs": [],
   "source": [
    "Image.fromarray(screenshot)"
   ]
  },
  {
   "cell_type": "code",
   "execution_count": null,
   "id": "b91a634e",
   "metadata": {},
   "outputs": [],
   "source": [
    "import cv2\n",
    "img = cv2.imread(\"./grid_icons/5a0ec6d286f7742c0b518fb5-grid-image.jpg\")\n",
    "cv2.imwrite(\"./5a0ec6d286f7742c0b518fb5-grid-image.pgn\", img)"
   ]
  },
  {
   "cell_type": "code",
   "execution_count": null,
   "id": "aa6cfa24",
   "metadata": {},
   "outputs": [],
   "source": [
    "#Import the required Libraries\n",
    "from tkinter import *\n",
    "from PIL import Image,ImageTk\n",
    "#Create an instance of tkinter frame\n",
    "win = Tk()\n",
    "#Set the geometry of tkinter frame\n",
    "win.geometry(\"750x270\")\n",
    "\n",
    "#Load an image in the script\n",
    "filename = \"\"\n",
    "img = Image.open(\"./5a0ec6d286f7742c0b518fb5-grid-image.pgn\")\n",
    "img2 = ImageTk.PhotoImage(img)\n",
    "#Add image to the Canvas Items\n",
    "canvas.create_image(10,10,anchor=NW,image=img2)\n",
    "# win.mainloop()"
   ]
  },
  {
   "cell_type": "code",
   "execution_count": null,
   "id": "c689342d",
   "metadata": {},
   "outputs": [],
   "source": []
  },
  {
   "cell_type": "code",
   "execution_count": null,
   "id": "534c0105",
   "metadata": {},
   "outputs": [],
   "source": [
    "text_index = 1\n",
    "texts = ['This is a label.', 'New text.']\n",
    "\n",
    "def changeText():\n",
    "    global text_index\n",
    "    label['text'] = texts[text_index]\n",
    "    text_index = -text_index + 1"
   ]
  },
  {
   "cell_type": "code",
   "execution_count": null,
   "id": "640c082d",
   "metadata": {},
   "outputs": [],
   "source": []
  },
  {
   "cell_type": "code",
   "execution_count": null,
   "id": "169d1bb7",
   "metadata": {},
   "outputs": [],
   "source": [
    "a = [1,2,3,4]\n",
    "for i,b in enumerate(a):\n",
    "    print(i,b)"
   ]
  },
  {
   "cell_type": "code",
   "execution_count": null,
   "id": "0fb38db7",
   "metadata": {},
   "outputs": [],
   "source": []
  },
  {
   "cell_type": "code",
   "execution_count": null,
   "id": "08dfc353",
   "metadata": {},
   "outputs": [],
   "source": []
  },
  {
   "cell_type": "code",
   "execution_count": null,
   "id": "db27ed39",
   "metadata": {},
   "outputs": [],
   "source": [
    "\n",
    "\n",
    "\n",
    "\n",
    "# # add a label\n",
    "# label = tk.Label(root, text=\"This is a label.\", font=(\"helvetica\", 30), fg='white', bg='black')\n",
    "# label.place(x=50, y=50, anchor = 'nw')\n",
    "\n",
    "# # add a button\n",
    "# button = tk.Button(root, text='Change the text', command=changeText)\n",
    "# button.pack()\n",
    "\n",
    "\n",
    "\n",
    "\n",
    "\n"
   ]
  },
  {
   "cell_type": "code",
   "execution_count": null,
   "id": "852c4a2a",
   "metadata": {},
   "outputs": [],
   "source": [
    "all_items_df.loc[1384]"
   ]
  },
  {
   "cell_type": "code",
   "execution_count": null,
   "id": "6a9e12a7",
   "metadata": {},
   "outputs": [],
   "source": []
  },
  {
   "cell_type": "code",
   "execution_count": null,
   "id": "53715ef0",
   "metadata": {},
   "outputs": [],
   "source": [
    "gw.getWindowsWithTitle(window_title_tarkov)[0]"
   ]
  },
  {
   "cell_type": "code",
   "execution_count": null,
   "id": "1f886188",
   "metadata": {},
   "outputs": [],
   "source": [
    "gw.getAllTitles()"
   ]
  },
  {
   "cell_type": "code",
   "execution_count": null,
   "id": "e04b525f",
   "metadata": {},
   "outputs": [],
   "source": [
    "gw.getAllWindows()"
   ]
  },
  {
   "cell_type": "code",
   "execution_count": null,
   "id": "ba159171",
   "metadata": {},
   "outputs": [],
   "source": []
  },
  {
   "cell_type": "code",
   "execution_count": null,
   "id": "7fbded71",
   "metadata": {},
   "outputs": [],
   "source": []
  },
  {
   "cell_type": "code",
   "execution_count": null,
   "id": "b967514c",
   "metadata": {},
   "outputs": [],
   "source": []
  },
  {
   "cell_type": "code",
   "execution_count": null,
   "id": "447e9151",
   "metadata": {},
   "outputs": [],
   "source": []
  },
  {
   "cell_type": "code",
   "execution_count": null,
   "id": "a50e04cc",
   "metadata": {},
   "outputs": [],
   "source": [
    "all_items_df"
   ]
  },
  {
   "cell_type": "code",
   "execution_count": null,
   "id": "6ed91c2d",
   "metadata": {},
   "outputs": [],
   "source": []
  }
 ],
 "metadata": {
  "kernelspec": {
   "display_name": "Python 3.10.6 ('.venv': venv)",
   "language": "python",
   "name": "python3"
  },
  "language_info": {
   "codemirror_mode": {
    "name": "ipython",
    "version": 3
   },
   "file_extension": ".py",
   "mimetype": "text/x-python",
   "name": "python",
   "nbconvert_exporter": "python",
   "pygments_lexer": "ipython3",
   "version": "3.10.6"
  },
  "vscode": {
   "interpreter": {
    "hash": "1779cdae3a29ee9a5c57c6b3a5915ae7369a69329681eccccf229cff71b67abc"
   }
  }
 },
 "nbformat": 4,
 "nbformat_minor": 5
}
