{
 "cells": [
  {
   "cell_type": "code",
   "execution_count": null,
   "id": "a4a8b2df",
   "metadata": {},
   "outputs": [],
   "source": [
    "import pandas as pd\n",
    "import numpy as np\n",
    "import random as rand\n",
    "import matplotlib.pyplot as plt\n",
    "import math\n",
    "\n",
    "from PIL import Image, ImageStat\n",
    "from os.path import exists"
   ]
  },
  {
   "cell_type": "code",
   "execution_count": null,
   "id": "3e7481ca",
   "metadata": {},
   "outputs": [],
   "source": [
    "def get_icon_from_item(item):\n",
    "    filename = path_grid_icons + item['id'] + filename_ending_grid_icon\n",
    "    if exists(filename):\n",
    "        return np.asarray(Image.open(filename))\n",
    "    else:\n",
    "        print(f\"File {filename} does not exist.\")\n",
    "    return []\n",
    "\n",
    "def get_rand_item_slot():\n",
    "    global all_items_df\n",
    "    \n",
    "    icon = []\n",
    "    while len(icon) == 0:\n",
    "        index = rand.randrange(len(all_items_df)) # TODO change\n",
    "        item = all_items_df.iloc[index]\n",
    "        icon = get_icon_from_item(item)\n",
    "    \n",
    "    w_index = rand.randrange(item['width'])\n",
    "    h_index = rand.randrange(item['height'])\n",
    "    slot_width = (int) (item['icon_width'])\n",
    "    slot_height = (int) (item['icon_height'])\n",
    "    \n",
    "    subicon = icon[h_index*slot_height:(h_index+1)*slot_height, w_index*slot_width:(w_index+1)*slot_width]\n",
    "    return index,subicon\n",
    "    \n",
    "def get_feature_from_img(img):\n",
    "    width = img.shape[1]\n",
    "    height = img.shape[0]\n",
    "    r = 0;\n",
    "    g = 0;\n",
    "    b = 0;\n",
    "    for x in range(width):\n",
    "        for y in range(height):\n",
    "            r += (icon[y][x])[0]\n",
    "            g += (icon[y][x])[1]\n",
    "            b += (icon[y][x])[2]\n",
    "    r = (int) (r / (width*height))\n",
    "    g = (int) (g / (width*height))\n",
    "    b = (int) (b / (width*height))\n",
    "    return (r,g,b)"
   ]
  },
  {
   "cell_type": "code",
   "execution_count": null,
   "id": "fcff0da2",
   "metadata": {},
   "outputs": [],
   "source": [
    "# paths\n",
    "path_icons = './icons/'\n",
    "path_data = './data/'\n",
    "path_grid_icons = './grid_icons/'\n",
    "\n",
    "filename_ending_grid_icon = '-grid-image.jpg'"
   ]
  },
  {
   "cell_type": "code",
   "execution_count": null,
   "id": "b3d1b1f8",
   "metadata": {},
   "outputs": [],
   "source": [
    "# load data from csv\n",
    "sigma = 20\n",
    "all_items_df = pd.read_csv(path_data + 'all_items.csv')\n",
    "feature_dict_r = pd.read_csv(path_data + 'all_features_r_sigma_' + str(sigma) + '.csv')\n",
    "feature_dict_g = pd.read_csv(path_data + 'all_features_g_sigma_' + str(sigma) + '.csv')\n",
    "feature_dict_b = pd.read_csv(path_data + 'all_features_b_sigma_' + str(sigma) + '.csv')"
   ]
  },
  {
   "cell_type": "code",
   "execution_count": null,
   "id": "babf631d",
   "metadata": {},
   "outputs": [],
   "source": [
    "# get random icon\n",
    "true_index,icon = get_rand_item_slot()\n",
    "feature = get_feature_from_img(icon)\n",
    "\n",
    "# create voting vector\n",
    "voting = []\n",
    "for i in range(len(all_items_df)):\n",
    "    voting.append(0)\n",
    "    \n",
    "# vote\n",
    "sigma = 1\n",
    "max_index = len(all_items_df)-1\n",
    "# for c in feature:\n",
    "#     print(c)\n",
    "li = (feature_dict_r.iloc[feature[0]]['features']).strip('][').split(', ')\n",
    "for index in li:\n",
    "    for i in range(-sigma,sigma,1):\n",
    "        if int(index)+i < 0 or int(index)+i > max_index:\n",
    "            continue\n",
    "        voting[int(index)+i] += 1\n",
    "li = (feature_dict_g.iloc[feature[1]]['features']).strip('][').split(', ')\n",
    "for index in li:\n",
    "    for i in range(-sigma,sigma,1):\n",
    "        if int(index)+i < 0 or int(index)+i > max_index:\n",
    "            continue\n",
    "        voting[int(index)+i] += 1\n",
    "li = (feature_dict_b.iloc[feature[2]]['features']).strip('][').split(', ')\n",
    "for index in li:\n",
    "    for i in range(-sigma,sigma,1):\n",
    "        if int(index)+i < 0 or int(index)+i > max_index:\n",
    "            continue\n",
    "        voting[int(index)+i] += 1"
   ]
  },
  {
   "cell_type": "code",
   "execution_count": null,
   "id": "a93cc78a",
   "metadata": {},
   "outputs": [],
   "source": [
    "# li"
   ]
  },
  {
   "cell_type": "code",
   "execution_count": null,
   "id": "90f4f233",
   "metadata": {},
   "outputs": [],
   "source": [
    "Image.fromarray(icon)"
   ]
  },
  {
   "cell_type": "code",
   "execution_count": null,
   "id": "a8df1933",
   "metadata": {},
   "outputs": [],
   "source": [
    "# feature_dict.iloc[100]['features']"
   ]
  },
  {
   "cell_type": "code",
   "execution_count": null,
   "id": "2f29c36c",
   "metadata": {},
   "outputs": [],
   "source": [
    "indexes = []\n",
    "value = 0\n",
    "total = 0\n",
    "# find max value\n",
    "for i in range(len(voting)):\n",
    "    if voting[i] > value:\n",
    "        value = voting[i]\n",
    "        index = i\n",
    "# find all indexes with max value\n",
    "for i in range(len(voting)):\n",
    "    if voting[i] == value:\n",
    "        total += 1\n",
    "        indexes.append(i)\n",
    "        \n",
    "print(f\"Predicted index {index} with voting {value}, total {total}\")\n",
    "print(f\"True index is {true_index}\")\n",
    "print(f\"Indexes: {indexes}\")"
   ]
  },
  {
   "cell_type": "code",
   "execution_count": null,
   "id": "a613e9fa",
   "metadata": {},
   "outputs": [],
   "source": [
    "w = 10\n",
    "h = 10\n",
    "fig = plt.figure(figsize=(8, 8))\n",
    "columns = 4\n",
    "rows = math.ceil(len(indexes)/4)\n",
    "for i in range(len(indexes)):\n",
    "    img = get_icon_from_item(all_items_df.iloc[indexes[i]])\n",
    "    fig.add_subplot(rows, columns, i+1)\n",
    "    plt.imshow(img)\n",
    "plt.show()"
   ]
  },
  {
   "cell_type": "code",
   "execution_count": null,
   "id": "0567979c",
   "metadata": {},
   "outputs": [],
   "source": []
  },
  {
   "cell_type": "code",
   "execution_count": null,
   "id": "2d410377",
   "metadata": {},
   "outputs": [],
   "source": []
  }
 ],
 "metadata": {
  "kernelspec": {
   "display_name": "Python 3 (ipykernel)",
   "language": "python",
   "name": "python3"
  },
  "language_info": {
   "codemirror_mode": {
    "name": "ipython",
    "version": 3
   },
   "file_extension": ".py",
   "mimetype": "text/x-python",
   "name": "python",
   "nbconvert_exporter": "python",
   "pygments_lexer": "ipython3",
   "version": "3.10.6"
  }
 },
 "nbformat": 4,
 "nbformat_minor": 5
}
