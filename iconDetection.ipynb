{
 "cells": [
  {
   "cell_type": "code",
   "execution_count": 1,
   "id": "a4a8b2df",
   "metadata": {},
   "outputs": [],
   "source": [
    "import pandas as pd\n",
    "import numpy as np\n",
    "import random as rand\n",
    "\n",
    "from PIL import Image, ImageStat\n",
    "from os.path import exists"
   ]
  },
  {
   "cell_type": "code",
   "execution_count": 2,
   "id": "3e7481ca",
   "metadata": {},
   "outputs": [],
   "source": [
    "def get_icon_from_item(item):\n",
    "    filename = path_grid_icons + item['id'] + filename_ending_grid_icon\n",
    "    if exists(filename):\n",
    "        return np.asarray(Image.open(filename))\n",
    "    else:\n",
    "        print(f\"File {filename} does not exist.\")\n",
    "    return []\n",
    "\n",
    "def get_rand_item_slot():\n",
    "    global all_items_df\n",
    "    \n",
    "    icon = []\n",
    "    while len(icon) == 0:\n",
    "        index = rand.randrange(len(all_items_df)) # TODO change\n",
    "        item = all_items_df.iloc[index]\n",
    "        icon = get_icon_from_item(item)\n",
    "    \n",
    "    w_index = rand.randrange(item['width'])\n",
    "    h_index = rand.randrange(item['height'])\n",
    "    slot_width = (int) (item['icon_width'])\n",
    "    slot_height = (int) (item['icon_height'])\n",
    "    \n",
    "    subicon = icon[h_index*slot_height:(h_index+1)*slot_height, w_index*slot_width:(w_index+1)*slot_width]\n",
    "    return index,subicon\n",
    "    \n",
    "def get_feature_from_img(img):\n",
    "    width = img.shape[1]\n",
    "    height = img.shape[0]\n",
    "    r = 0;\n",
    "    g = 0;\n",
    "    b = 0;\n",
    "    for x in range(width):\n",
    "        for y in range(height):\n",
    "            r += (icon[y][x])[0]\n",
    "            g += (icon[y][x])[1]\n",
    "            b += (icon[y][x])[2]\n",
    "    r = (int) (r / (width*height))\n",
    "    g = (int) (g / (width*height))\n",
    "    b = (int) (b / (width*height))\n",
    "    return (r,g,b)"
   ]
  },
  {
   "cell_type": "code",
   "execution_count": 3,
   "id": "fcff0da2",
   "metadata": {},
   "outputs": [],
   "source": [
    "# paths\n",
    "path_icons = './icons/'\n",
    "path_data = './data/'\n",
    "path_grid_icons = './grid_icons/'\n",
    "\n",
    "filename_ending_grid_icon = '-grid-image.jpg'"
   ]
  },
  {
   "cell_type": "code",
   "execution_count": 4,
   "id": "b3d1b1f8",
   "metadata": {},
   "outputs": [],
   "source": [
    "# load data from csv\n",
    "all_items_df = pd.read_csv(path_data + 'all_items.csv')\n",
    "feature_dict = pd.read_csv(path_data + 'all_features.csv')"
   ]
  },
  {
   "cell_type": "code",
   "execution_count": 13,
   "id": "babf631d",
   "metadata": {},
   "outputs": [],
   "source": [
    "# get random icon\n",
    "true_index,icon = get_rand_item_slot()\n",
    "feature = get_feature_from_img(icon)\n",
    "\n",
    "# create voting vector\n",
    "voting = []\n",
    "for i in range(len(all_items_df)):\n",
    "    voting.append(0)\n",
    "    \n",
    "# vote\n",
    "for c in feature:\n",
    "#     print(c)\n",
    "    li = (feature_dict.iloc[c]['features']).strip('][').split(', ')\n",
    "    for index in li:\n",
    "        voting[int(index)] += 1"
   ]
  },
  {
   "cell_type": "code",
   "execution_count": 14,
   "id": "90f4f233",
   "metadata": {},
   "outputs": [
    {
     "data": {
      "image/png": "[encoded data removed]",
      "text/plain": [
       "<PIL.Image.Image image mode=RGB size=63x64>"
      ]
     },
     "execution_count": 14,
     "metadata": {},
     "output_type": "execute_result"
    }
   ],
   "source": [
    "Image.fromarray(icon)"
   ]
  },
  {
   "cell_type": "code",
   "execution_count": 15,
   "id": "a8df1933",
   "metadata": {},
   "outputs": [
    {
     "data": {
      "text/plain": [
       "'[119, 290, 491, 492, 644, 945, 1126, 1242, 1367, 1373, 1385, 1410, 1433, 1710, 1722, 2096, 2253, 2500, 2703, 2711]'"
      ]
     },
     "execution_count": 15,
     "metadata": {},
     "output_type": "execute_result"
    }
   ],
   "source": [
    "feature_dict.iloc[100]['features']"
   ]
  },
  {
   "cell_type": "code",
   "execution_count": 16,
   "id": "2f29c36c",
   "metadata": {},
   "outputs": [
    {
     "name": "stdout",
     "output_type": "stream",
     "text": [
      "Predicted index 19 with voting 3\n",
      "True index is 1042\n"
     ]
    }
   ],
   "source": [
    "index = 0\n",
    "value = 0\n",
    "total = 0\n",
    "for i in range(len(voting)):\n",
    "    if voting[i] == value:\n",
    "        total += 1\n",
    "    if voting[i] > value:\n",
    "        index = i\n",
    "        value = voting[i]\n",
    "        \n",
    "print(f\"Predicted index {index} with voting {value}, \")\n",
    "print(f\"True index is {true_index}\")"
   ]
  },
  {
   "cell_type": "code",
   "execution_count": null,
   "id": "a613e9fa",
   "metadata": {},
   "outputs": [],
   "source": []
  },
  {
   "cell_type": "code",
   "execution_count": null,
   "id": "0567979c",
   "metadata": {},
   "outputs": [],
   "source": []
  }
 ],
 "metadata": {
  "kernelspec": {
   "display_name": "Python 3 (ipykernel)",
   "language": "python",
   "name": "python3"
  },
  "language_info": {
   "codemirror_mode": {
    "name": "ipython",
    "version": 3
   },
   "file_extension": ".py",
   "mimetype": "text/x-python",
   "name": "python",
   "nbconvert_exporter": "python",
   "pygments_lexer": "ipython3",
   "version": "3.10.6"
  }
 },
 "nbformat": 4,
 "nbformat_minor": 5
}
