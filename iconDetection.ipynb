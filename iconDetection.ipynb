{
 "cells": [
  {
   "cell_type": "code",
   "execution_count": 19,
   "id": "a4a8b2df",
   "metadata": {},
   "outputs": [],
   "source": [
    "import pandas as pd\n",
    "import numpy as np\n",
    "\n",
    "from PIL import Image, ImageStat"
   ]
  },
  {
   "cell_type": "code",
   "execution_count": 4,
   "id": "fcff0da2",
   "metadata": {},
   "outputs": [],
   "source": [
    "# paths\n",
    "path_icons = './icons/'"
   ]
  },
  {
   "cell_type": "code",
   "execution_count": 20,
   "id": "b3d1b1f8",
   "metadata": {},
   "outputs": [],
   "source": [
    "def reduce_img_to_np(img):\n",
    "    means = ImageStat.Stat(img)\n",
    "    img_reduced = np.array((width/factor,width/factor,3))\n",
    "    "
   ]
  },
  {
   "cell_type": "code",
   "execution_count": 21,
   "id": "babf631d",
   "metadata": {},
   "outputs": [
    {
     "ename": "NameError",
     "evalue": "name 'width' is not defined",
     "output_type": "error",
     "traceback": [
      "\u001b[0;31m---------------------------------------------------------------------------\u001b[0m",
      "\u001b[0;31mNameError\u001b[0m                                 Traceback (most recent call last)",
      "Input \u001b[0;32mIn [21]\u001b[0m, in \u001b[0;36m<cell line: 8>\u001b[0;34m()\u001b[0m\n\u001b[1;32m      7\u001b[0m images_np \u001b[38;5;241m=\u001b[39m []\n\u001b[1;32m      8\u001b[0m \u001b[38;5;28;01mfor\u001b[39;00m img \u001b[38;5;129;01min\u001b[39;00m images:\n\u001b[0;32m----> 9\u001b[0m     images_np\u001b[38;5;241m.\u001b[39mappend(\u001b[43mreduce_img_to_np\u001b[49m\u001b[43m(\u001b[49m\u001b[43mimg\u001b[49m\u001b[43m)\u001b[49m)\n",
      "Input \u001b[0;32mIn [20]\u001b[0m, in \u001b[0;36mreduce_img_to_np\u001b[0;34m(img)\u001b[0m\n\u001b[1;32m      1\u001b[0m \u001b[38;5;28;01mdef\u001b[39;00m \u001b[38;5;21mreduce_img_to_np\u001b[39m(img):\n\u001b[1;32m      2\u001b[0m     means \u001b[38;5;241m=\u001b[39m ImageStat\u001b[38;5;241m.\u001b[39mStat(img)\n\u001b[0;32m----> 3\u001b[0m     img_reduced \u001b[38;5;241m=\u001b[39m np\u001b[38;5;241m.\u001b[39marray((\u001b[43mwidth\u001b[49m\u001b[38;5;241m/\u001b[39mfactor,width\u001b[38;5;241m/\u001b[39mfactor,\u001b[38;5;241m3\u001b[39m))\n",
      "\u001b[0;31mNameError\u001b[0m: name 'width' is not defined"
     ]
    }
   ],
   "source": [
    "# load images\n",
    "images = []\n",
    "images.append(Image.open(path_icons + '5447ac644bdc2d6c208b4567-icon.jpg'))\n",
    "images.append(Image.open(path_icons + '54527ac44bdc2d36668b4567-icon.jpg'))\n",
    "\n",
    "# convert images to array\n",
    "images_np = []\n",
    "for img in images:\n",
    "    images_np.append(reduce_img_to_np(img))"
   ]
  },
  {
   "cell_type": "code",
   "execution_count": 16,
   "id": "90f4f233",
   "metadata": {},
   "outputs": [
    {
     "data": {
      "text/plain": [
       "array([1, 1, 3])"
      ]
     },
     "execution_count": 16,
     "metadata": {},
     "output_type": "execute_result"
    }
   ],
   "source": [
    "np.array((1,1,3))"
   ]
  },
  {
   "cell_type": "code",
   "execution_count": 18,
   "id": "a8df1933",
   "metadata": {},
   "outputs": [
    {
     "ename": "NameError",
     "evalue": "name 'ImageStat' is not defined",
     "output_type": "error",
     "traceback": [
      "\u001b[0;31m---------------------------------------------------------------------------\u001b[0m",
      "\u001b[0;31mNameError\u001b[0m                                 Traceback (most recent call last)",
      "Input \u001b[0;32mIn [18]\u001b[0m, in \u001b[0;36m<cell line: 1>\u001b[0;34m()\u001b[0m\n\u001b[0;32m----> 1\u001b[0m means \u001b[38;5;241m=\u001b[39m \u001b[43mImageStat\u001b[49m\u001b[38;5;241m.\u001b[39mStat(images[\u001b[38;5;241m0\u001b[39m])\n",
      "\u001b[0;31mNameError\u001b[0m: name 'ImageStat' is not defined"
     ]
    }
   ],
   "source": [
    "means = ImageStat.Stat(images[0])"
   ]
  },
  {
   "cell_type": "code",
   "execution_count": null,
   "id": "2f29c36c",
   "metadata": {},
   "outputs": [],
   "source": []
  }
 ],
 "metadata": {
  "kernelspec": {
   "display_name": "Python 3 (ipykernel)",
   "language": "python",
   "name": "python3"
  },
  "language_info": {
   "codemirror_mode": {
    "name": "ipython",
    "version": 3
   },
   "file_extension": ".py",
   "mimetype": "text/x-python",
   "name": "python",
   "nbconvert_exporter": "python",
   "pygments_lexer": "ipython3",
   "version": "3.10.6"
  }
 },
 "nbformat": 4,
 "nbformat_minor": 5
}
