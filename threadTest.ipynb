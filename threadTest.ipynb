{
 "cells": [
  {
   "cell_type": "code",
   "execution_count": 2,
   "id": "2412583e",
   "metadata": {},
   "outputs": [],
   "source": [
    "import threading\n",
    "import time"
   ]
  },
  {
   "cell_type": "code",
   "execution_count": 24,
   "id": "a6a7c7a2",
   "metadata": {},
   "outputs": [],
   "source": [
    "def foo(items, b):\n",
    "    for i in range(10):\n",
    "        items.append(i)\n",
    "        time.sleep(1)\n",
    "        if i%2 == 0:\n",
    "            b.append(i)\n",
    "            \n",
    "def create_threads(items, b):\n",
    "    thread = threading.Thread(target=foo, args=(items,b))\n",
    "    thread.start()\n",
    "    \n",
    "def foo2():\n",
    "    for i in range(10):\n",
    "        print(\"heyy\")\n",
    "        time.sleep(0.5)"
   ]
  },
  {
   "cell_type": "code",
   "execution_count": 26,
   "id": "373d45cb",
   "metadata": {},
   "outputs": [
    {
     "name": "stdout",
     "output_type": "stream",
     "text": [
      "heyy\n",
      "heyy\n",
      "heyy\n",
      "heyy\n",
      "heyy\n",
      "heyy\n",
      "heyy\n",
      "heyy\n",
      "heyy\n",
      "heyy\n"
     ]
    },
    {
     "ename": "RuntimeError",
     "evalue": "threads can only be started once",
     "output_type": "error",
     "traceback": [
      "\u001b[1;31m---------------------------------------------------------------------------\u001b[0m",
      "\u001b[1;31mRuntimeError\u001b[0m                              Traceback (most recent call last)",
      "Input \u001b[1;32mIn [26]\u001b[0m, in \u001b[0;36m<cell line: 6>\u001b[1;34m()\u001b[0m\n\u001b[0;32m      3\u001b[0m thread\u001b[38;5;241m.\u001b[39mstart()\n\u001b[0;32m      5\u001b[0m thread\u001b[38;5;241m.\u001b[39mjoin()\n\u001b[1;32m----> 6\u001b[0m \u001b[43mthread\u001b[49m\u001b[38;5;241;43m.\u001b[39;49m\u001b[43mstart\u001b[49m\u001b[43m(\u001b[49m\u001b[43m)\u001b[49m\n",
      "File \u001b[1;32m~\\AppData\\Local\\Programs\\Python\\Python310\\lib\\threading.py:930\u001b[0m, in \u001b[0;36mThread.start\u001b[1;34m(self)\u001b[0m\n\u001b[0;32m    927\u001b[0m     \u001b[38;5;28;01mraise\u001b[39;00m \u001b[38;5;167;01mRuntimeError\u001b[39;00m(\u001b[38;5;124m\"\u001b[39m\u001b[38;5;124mthread.__init__() not called\u001b[39m\u001b[38;5;124m\"\u001b[39m)\n\u001b[0;32m    929\u001b[0m \u001b[38;5;28;01mif\u001b[39;00m \u001b[38;5;28mself\u001b[39m\u001b[38;5;241m.\u001b[39m_started\u001b[38;5;241m.\u001b[39mis_set():\n\u001b[1;32m--> 930\u001b[0m     \u001b[38;5;28;01mraise\u001b[39;00m \u001b[38;5;167;01mRuntimeError\u001b[39;00m(\u001b[38;5;124m\"\u001b[39m\u001b[38;5;124mthreads can only be started once\u001b[39m\u001b[38;5;124m\"\u001b[39m)\n\u001b[0;32m    932\u001b[0m \u001b[38;5;28;01mwith\u001b[39;00m _active_limbo_lock:\n\u001b[0;32m    933\u001b[0m     _limbo[\u001b[38;5;28mself\u001b[39m] \u001b[38;5;241m=\u001b[39m \u001b[38;5;28mself\u001b[39m\n",
      "\u001b[1;31mRuntimeError\u001b[0m: threads can only be started once"
     ]
    }
   ],
   "source": [
    "thread = threading.Thread(target=foo2)\n",
    "\n",
    "thread.start()\n",
    "\n",
    "thread.join()\n",
    "thread.start()"
   ]
  },
  {
   "cell_type": "code",
   "execution_count": 22,
   "id": "4f1f8413",
   "metadata": {},
   "outputs": [
    {
     "data": {
      "text/plain": [
       "[0]"
      ]
     },
     "execution_count": 22,
     "metadata": {},
     "output_type": "execute_result"
    }
   ],
   "source": [
    "items = []\n",
    "b = []\n",
    "create_threads(items, b)\n",
    "\n",
    "# while len(items) < 10:\n",
    "#     print('waiting')\n",
    "#     time.sleep(0.5)\n",
    "    \n",
    "items"
   ]
  },
  {
   "cell_type": "code",
   "execution_count": 23,
   "id": "23bf147e",
   "metadata": {},
   "outputs": [
    {
     "name": "stdout",
     "output_type": "stream",
     "text": [
      "[0]\n",
      "[0]\n",
      "[0, 1]\n",
      "[0, 1]\n",
      "[0, 1, 2]\n",
      "[0, 1, 2]\n",
      "[0, 1, 2, 3]\n",
      "[0, 1, 2, 3]\n",
      "[0, 1, 2, 3, 4]\n",
      "[0, 1, 2, 3, 4]\n",
      "[0, 1, 2, 3, 4, 5]\n",
      "[0, 1, 2, 3, 4, 5]\n",
      "[0, 1, 2, 3, 4, 5, 6]\n",
      "[0, 1, 2, 3, 4, 5, 6]\n",
      "[0, 1, 2, 3, 4, 5, 6, 7]\n",
      "[0, 1, 2, 3, 4, 5, 6, 7]\n",
      "[0, 1, 2, 3, 4, 5, 6, 7, 8]\n",
      "[0, 1, 2, 3, 4, 5, 6, 7, 8]\n"
     ]
    }
   ],
   "source": [
    "while len(items) < 10:\n",
    "    print(items)\n",
    "    time.sleep(0.5)"
   ]
  },
  {
   "cell_type": "code",
   "execution_count": 14,
   "id": "5689d177",
   "metadata": {},
   "outputs": [
    {
     "data": {
      "text/plain": [
       "[0, 2, 4, 6, 8]"
      ]
     },
     "execution_count": 14,
     "metadata": {},
     "output_type": "execute_result"
    }
   ],
   "source": [
    "b"
   ]
  },
  {
   "cell_type": "code",
   "execution_count": null,
   "id": "60479534",
   "metadata": {},
   "outputs": [],
   "source": []
  }
 ],
 "metadata": {
  "kernelspec": {
   "display_name": "Python 3 (ipykernel)",
   "language": "python",
   "name": "python3"
  },
  "language_info": {
   "codemirror_mode": {
    "name": "ipython",
    "version": 3
   },
   "file_extension": ".py",
   "mimetype": "text/x-python",
   "name": "python",
   "nbconvert_exporter": "python",
   "pygments_lexer": "ipython3",
   "version": "3.10.6"
  }
 },
 "nbformat": 4,
 "nbformat_minor": 5
}
