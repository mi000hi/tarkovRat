{
 "cells": [
  {
   "cell_type": "code",
   "execution_count": 3,
   "id": "46ccf244",
   "metadata": {},
   "outputs": [],
   "source": [
    "import pandas as pd\n",
    "import numpy as np\n",
    "import cv2\n",
    "import requests\n",
    "import random as rand\n",
    "import shutil # save query image locally\n",
    "\n",
    "from PIL import Image, ImageStat\n",
    "from os.path import exists"
   ]
  },
  {
   "cell_type": "code",
   "execution_count": 4,
   "id": "6696e214",
   "metadata": {},
   "outputs": [],
   "source": [
    "def run_query(query):\n",
    "    response = requests.post('https://api.tarkov.dev/graphql', json={'query': query})\n",
    "    if response.status_code == 200:\n",
    "        return response.json()\n",
    "    else:\n",
    "        raise Exception(\"Query failed to run by returning code of {}. {}\".format(response.status_code, query))\n",
    "        \n",
    "def load_icons_from_disk(verbose=False):\n",
    "    global all_items_df\n",
    "    \n",
    "    icons = []\n",
    "    for index,item in all_items_df.iterrows():\n",
    "        filename = path_grid_icons + item['id'] + filename_ending_grid_icon\n",
    "        if exists(filename):\n",
    "            icons.append(np.asarray(Image.open(filename)))\n",
    "        else:\n",
    "            icons.append([])\n",
    "            if verbose:\n",
    "                print(f\"File {filename} does not exist.\")\n",
    "    return icons\n",
    "\n",
    "def run_sift(img):\n",
    "    global sift\n",
    "    gray = cv2.cvtColor(img,cv2.COLOR_BGR2GRAY)\n",
    "    kp,des = sift.detectAndCompute(gray,None)\n",
    "    return kp,des\n",
    "\n",
    "def create_all_descriptors():\n",
    "    global icons\n",
    "    descriptors = []\n",
    "    for icon in icons:\n",
    "        if len(icon) == 0:\n",
    "            descriptors.append(None)\n",
    "            continue\n",
    "        kp,des = run_sift(icon)\n",
    "        descriptors.append(des)\n",
    "    return descriptors\n",
    "\n",
    "def predict_icon(img):\n",
    "    global icons, bf, descriptors\n",
    "    distances = []\n",
    "    \n",
    "    kp,des = run_sift(img)\n",
    "\n",
    "    for i in range(len(icons)):\n",
    "        if descriptors[i] is None:\n",
    "            distances.append(99999)\n",
    "            continue\n",
    "\n",
    "        matches = bf.match(des, descriptors[i])\n",
    "\n",
    "        distance = 0\n",
    "        for match in matches:\n",
    "            distance += match.distance\n",
    "        distances.append(distance)\n",
    "\n",
    "    prediction = np.argmin(distances)\n",
    "    return prediction"
   ]
  },
  {
   "cell_type": "code",
   "execution_count": 5,
   "id": "0cf1a8cd",
   "metadata": {},
   "outputs": [],
   "source": [
    "# paths\n",
    "path_icons = './icons/'\n",
    "path_grid_icons = './grid_icons/'\n",
    "path_data = './data/'\n",
    "\n",
    "filename_ending_grid_icon = '-grid-image.jpg'"
   ]
  },
  {
   "cell_type": "code",
   "execution_count": 6,
   "id": "af5d68d2",
   "metadata": {},
   "outputs": [],
   "source": [
    "icons = []\n",
    "descriptors = []\n",
    "all_items_df = None\n",
    "\n",
    "sift = cv2.SIFT_create()\n",
    "bf = cv2.BFMatcher()"
   ]
  },
  {
   "cell_type": "markdown",
   "id": "aeadf157",
   "metadata": {},
   "source": [
    "# Download all item icons"
   ]
  },
  {
   "cell_type": "code",
   "execution_count": 8,
   "id": "474d1372",
   "metadata": {
    "scrolled": true
   },
   "outputs": [],
   "source": [
    "get_all_items = \"\"\"\n",
    "{\n",
    "    items {\n",
    "        id\n",
    "        gridImageLink\n",
    "    }\n",
    "}\n",
    "\"\"\"\n",
    "query_result = run_query(get_all_items)['data']['items']\n",
    "\n",
    "# Set up the image URL and filename\n",
    "\n",
    "# for i in query_result:\n",
    "#     item_id = i['id']\n",
    "#     image_url = i['gridImageLink']\n",
    "#     filename = image_url.split(\"/\")[-1]\n",
    "\n",
    "#     # Open the url image, set stream to True, this will return the stream content.\n",
    "#     r = requests.get(image_url, stream = True)\n",
    "\n",
    "#     # Check if the image was retrieved successfully\n",
    "#     if r.status_code == 200:\n",
    "#         # Set decode_content value to True, otherwise the downloaded image file's size will be zero.\n",
    "#         r.raw.decode_content = True\n",
    "\n",
    "#         # Open a local file with wb ( write binary ) permission.\n",
    "#         with open(filename,'wb') as f:\n",
    "#             shutil.copyfileobj(r.raw, f)\n",
    "\n",
    "#         print('Image sucessfully Downloaded: ',filename)\n",
    "#     else:\n",
    "#         print('Image Couldn\\'t be retreived')"
   ]
  },
  {
   "cell_type": "markdown",
   "id": "c45bbcd9",
   "metadata": {},
   "source": [
    "# Create SIFT features"
   ]
  },
  {
   "cell_type": "code",
   "execution_count": 9,
   "id": "60a73c51",
   "metadata": {
    "scrolled": true
   },
   "outputs": [],
   "source": [
    "# get image data\n",
    "all_items_df = pd.read_csv(path_data + 'all_items.csv')"
   ]
  },
  {
   "cell_type": "code",
   "execution_count": 10,
   "id": "635564ae",
   "metadata": {
    "scrolled": true
   },
   "outputs": [],
   "source": [
    "# read icons from disk\n",
    "icons = load_icons_from_disk()"
   ]
  },
  {
   "cell_type": "code",
   "execution_count": 11,
   "id": "fc869bc7",
   "metadata": {},
   "outputs": [],
   "source": [
    "# create descriptors for each icon\n",
    "descriptors = create_all_descriptors()"
   ]
  },
  {
   "cell_type": "code",
   "execution_count": null,
   "id": "0a6b10f4",
   "metadata": {},
   "outputs": [],
   "source": [
    "# save descriptors\n"
   ]
  },
  {
   "cell_type": "markdown",
   "id": "9db07d09",
   "metadata": {},
   "source": [
    "## check sift features on random item"
   ]
  },
  {
   "cell_type": "code",
   "execution_count": 12,
   "id": "d51d087c",
   "metadata": {},
   "outputs": [
    {
     "data": {
      "image/png": "[encoded data removed]",
      "text/plain": [
       "<PIL.Image.Image image mode=RGB size=64x64>"
      ]
     },
     "execution_count": 12,
     "metadata": {},
     "output_type": "execute_result"
    }
   ],
   "source": [
    "# sift\n",
    "index = rand.randrange(2500)\n",
    "Image.fromarray(icons[index])\n",
    "img = icons[index]\n",
    "kp,des = run_sift(img)\n",
    "img_sift = cv2.drawKeypoints(img,kp,img,flags=cv2.DRAW_MATCHES_FLAGS_DRAW_RICH_KEYPOINTS)\n",
    "Image.fromarray(img_sift)\n"
   ]
  },
  {
   "cell_type": "markdown",
   "id": "95057a5f",
   "metadata": {},
   "source": [
    "## predict random item"
   ]
  },
  {
   "cell_type": "code",
   "execution_count": 15,
   "id": "7b20112a",
   "metadata": {},
   "outputs": [
    {
     "name": "stdout",
     "output_type": "stream",
     "text": [
      "Predicted: 923\n",
      "True:      923\n"
     ]
    },
    {
     "data": {
      "image/png": "[encoded data removed]",
      "text/plain": [
       "<PIL.Image.Image image mode=RGB size=127x127>"
      ]
     },
     "execution_count": 15,
     "metadata": {},
     "output_type": "execute_result"
    }
   ],
   "source": [
    "index = rand.randrange(2500)\n",
    "\n",
    "to_find = icons[index]\n",
    "\n",
    "prediction = predict_icon(to_find)\n",
    "\n",
    "print(f\"Predicted: {prediction}\")\n",
    "print(f\"True:      {index}\")\n",
    "\n",
    "Image.fromarray(to_find)"
   ]
  },
  {
   "cell_type": "code",
   "execution_count": null,
   "id": "3a61f7d5",
   "metadata": {},
   "outputs": [],
   "source": []
  }
 ],
 "metadata": {
  "kernelspec": {
   "display_name": "Python 3 (ipykernel)",
   "language": "python",
   "name": "python3"
  },
  "language_info": {
   "codemirror_mode": {
    "name": "ipython",
    "version": 3
   },
   "file_extension": ".py",
   "mimetype": "text/x-python",
   "name": "python",
   "nbconvert_exporter": "python",
   "pygments_lexer": "ipython3",
   "version": "3.10.6"
  }
 },
 "nbformat": 4,
 "nbformat_minor": 5
}
