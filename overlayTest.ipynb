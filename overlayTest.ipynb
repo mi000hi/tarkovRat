{
 "cells": [
  {
   "cell_type": "code",
   "execution_count": 1,
   "id": "7dc8f9fd",
   "metadata": {},
   "outputs": [],
   "source": [
    "import tkinter as tk"
   ]
  },
  {
   "cell_type": "code",
   "execution_count": 14,
   "id": "534c0105",
   "metadata": {},
   "outputs": [],
   "source": [
    "text_index = 1\n",
    "texts = ['This is a label.', 'New text.']\n",
    "\n",
    "def changeText():\n",
    "    global text_index\n",
    "    label['text'] = texts[text_index]\n",
    "    text_index = -text_index + 1"
   ]
  },
  {
   "cell_type": "code",
   "execution_count": 15,
   "id": "db27ed39",
   "metadata": {},
   "outputs": [],
   "source": [
    "# create the window\n",
    "root = tk.Tk()\n",
    "root.title(\"window title\")\n",
    "root.geometry(\"300x300\")\n",
    "root.attributes('-topmost', True)\n",
    "root.overrideredirect(True)\n",
    "\n",
    "# make color red transparent\n",
    "root.wm_attributes('-transparentcolor', 'white')\n",
    "\n",
    "# create a transparent frame\n",
    "my_frame = tk.Frame(root, width=200, height=200, bg='red')\n",
    "my_frame.pack()\n",
    "\n",
    "# add a label\n",
    "label = tk.Label(root, text=\"This is a label.\", font=(\"helvetica\", 20), bg='white')\n",
    "label.pack()\n",
    "label.place(x=50, y=50, anchor = 'nw')\n",
    "\n",
    "# add a button\n",
    "button = tk.Button(root, text='Change the text', command=changeText)\n",
    "button.pack()\n",
    "\n",
    "# show the window and take focus\n",
    "root.focus_force()\n",
    "root.bind('<Escape>', lambda e: root.destroy())\n",
    "root.mainloop()"
   ]
  },
  {
   "cell_type": "code",
   "execution_count": null,
   "id": "852c4a2a",
   "metadata": {},
   "outputs": [],
   "source": []
  },
  {
   "cell_type": "code",
   "execution_count": null,
   "id": "6a9e12a7",
   "metadata": {},
   "outputs": [],
   "source": []
  },
  {
   "cell_type": "code",
   "execution_count": null,
   "id": "53715ef0",
   "metadata": {},
   "outputs": [],
   "source": []
  },
  {
   "cell_type": "code",
   "execution_count": null,
   "id": "e04b525f",
   "metadata": {},
   "outputs": [],
   "source": []
  },
  {
   "cell_type": "code",
   "execution_count": null,
   "id": "ba159171",
   "metadata": {},
   "outputs": [],
   "source": []
  },
  {
   "cell_type": "code",
   "execution_count": null,
   "id": "7fbded71",
   "metadata": {},
   "outputs": [],
   "source": []
  },
  {
   "cell_type": "code",
   "execution_count": 18,
   "id": "b967514c",
   "metadata": {},
   "outputs": [],
   "source": []
  },
  {
   "cell_type": "code",
   "execution_count": null,
   "id": "447e9151",
   "metadata": {},
   "outputs": [],
   "source": []
  },
  {
   "cell_type": "code",
   "execution_count": null,
   "id": "a50e04cc",
   "metadata": {},
   "outputs": [],
   "source": []
  }
 ],
 "metadata": {
  "kernelspec": {
   "display_name": "Python 3 (ipykernel)",
   "language": "python",
   "name": "python3"
  },
  "language_info": {
   "codemirror_mode": {
    "name": "ipython",
    "version": 3
   },
   "file_extension": ".py",
   "mimetype": "text/x-python",
   "name": "python",
   "nbconvert_exporter": "python",
   "pygments_lexer": "ipython3",
   "version": "3.10.6"
  }
 },
 "nbformat": 4,
 "nbformat_minor": 5
}
