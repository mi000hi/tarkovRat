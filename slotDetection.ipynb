{
 "cells": [
  {
   "cell_type": "code",
   "execution_count": null,
   "id": "847e22d3",
   "metadata": {},
   "outputs": [],
   "source": [
    "import tkinter as tk\n",
    "import pandas as pd\n",
    "import math\n",
    "import pandas as pd\n",
    "import numpy as np\n",
    "import cv2\n",
    "\n",
    "import pygetwindow as gw\n",
    "import pyautogui\n",
    "import threading\n",
    "import time\n",
    "\n",
    "from PIL import Image, ImageStat\n",
    "from matplotlib import pyplot as plt\n",
    "from os.path import exists"
   ]
  },
  {
   "cell_type": "markdown",
   "id": "1609ee91",
   "metadata": {},
   "source": [
    "# for inventory item detection"
   ]
  },
  {
   "cell_type": "code",
   "execution_count": null,
   "id": "3810b6f2",
   "metadata": {},
   "outputs": [],
   "source": [
    "def edge_detection(img_np):\n",
    "    img = cv2.cvtColor(img_np, cv2.COLOR_BGR2GRAY)\n",
    "#     img = cv2.blur(img, (3,3))\n",
    "    img = cv2.GaussianBlur(img, (3,3), 0)\n",
    "    img = cv2.Canny(img, threshold1=50, threshold2=200, apertureSize=5)\n",
    "#     img = cv2.blur(img, (2,2))\n",
    "    img = cv2.blur(img, (3,3))\n",
    "    return img\n",
    "\n",
    "def inventory_line_detection(img):\n",
    "    downscale = 2\n",
    "    img = cv2.resize(img, ((int) (img.shape[1]/downscale)\n",
    "                                     , (int) (img.shape[0]/downscale)))\n",
    "    \n",
    "    img_inventory_edge = edge_detection(img)\n",
    "    \n",
    "    img_horizontal = img_inventory_edge.copy()\n",
    "    img_vertical = img_inventory_edge.copy()\n",
    "\n",
    "    line_length = (int) (40/downscale)\n",
    "    horizontal_struct = cv2.getStructuringElement(cv2.MORPH_RECT, (line_length,1))\n",
    "    vertical_struct = cv2.getStructuringElement(cv2.MORPH_RECT, (1,line_length))\n",
    "\n",
    "    cv2.erode(img_horizontal, horizontal_struct, img_horizontal)\n",
    "    cv2.dilate(img_horizontal, horizontal_struct, img_horizontal)\n",
    "\n",
    "    cv2.erode(img_vertical, vertical_struct, img_vertical)\n",
    "    cv2.dilate(img_vertical, vertical_struct, img_vertical)\n",
    "\n",
    "    result = cv2.add(img_horizontal, img_vertical)\n",
    "    return result\n",
    "\n",
    "def find_slot_locations(inventory_filtered, slot_gray):\n",
    "    # scale down images\n",
    "    downscale = 2\n",
    "#     inv = cv2.resize(inventory_filtered, ((int) (inventory_filtered.shape[0]/downscale)\n",
    "#                                      , (int) (inventory_filtered.shape[1]/downscale)))\n",
    "    inv = inventory_filtered\n",
    "    slot = cv2.resize(slot_gray, ((int) (slot_gray.shape[1]/downscale)\n",
    "                                     , (int) (slot_gray.shape[0]/downscale)))\n",
    "    \n",
    "    matched_slots = cv2.matchTemplate(inv, slot, cv2.TM_CCORR_NORMED)\n",
    "    #matched_slots = inventory_filtered\n",
    "    \n",
    "    threshold = 0.6\n",
    "    #threshold = 100\n",
    "    slot_locations = []\n",
    "    slots_min_x = (int) (1920/3/downscale)\n",
    "    min_distance = (int) (60/downscale)\n",
    "    slot_locations_filtered = []\n",
    "    \n",
    "    for y in range(matched_slots.shape[0]):\n",
    "        for x in range(matched_slots.shape[1]):\n",
    "            if matched_slots[y][x] > threshold:\n",
    "                if x > slots_min_x:\n",
    "                    slot_locations.append((x,y))\n",
    "    \n",
    "    # filter number of locations\n",
    "    for x,y in slot_locations:\n",
    "        add_slot = True\n",
    "        for s in slot_locations_filtered:\n",
    "            if abs(s[0]-x) < min_distance and abs(s[1]-y) < min_distance:\n",
    "                add_slot = False\n",
    "                break\n",
    "        if add_slot == True:\n",
    "            slot_locations_filtered.append((x,y))\n",
    "    \n",
    "    # upscale slot locations\n",
    "    for i in range(len(slot_locations_filtered)):\n",
    "        x,y = slot_locations_filtered[i]\n",
    "        slot_locations_filtered[i] = (x*downscale, y*downscale)\n",
    "            \n",
    "    return slot_locations_filtered,matched_slots\n",
    "\n",
    "def draw_slots_on_image(img, slots):\n",
    "    img_with_slots = img.copy()\n",
    "    for x,y in slots:\n",
    "        img_with_slots = cv2.circle(img_with_slots, (x, y), radius=5, color=(255,0,0), thickness=-1)\n",
    "    return img_with_slots\n",
    "\n",
    "def get_items_from_inventory(inventory, slots):\n",
    "    global slot_size\n",
    "    \n",
    "    items = []\n",
    "    for s in slots:\n",
    "        items.append(inventory[s[1]:s[1]+slot_size, s[0]:s[0]+slot_size])\n",
    "        \n",
    "    return items"
   ]
  },
  {
   "cell_type": "markdown",
   "id": "53949ef1",
   "metadata": {},
   "source": [
    "# to predict the item image"
   ]
  },
  {
   "cell_type": "code",
   "execution_count": null,
   "id": "4dd448eb",
   "metadata": {},
   "outputs": [],
   "source": [
    "def load_icons_from_disk(verbose=False):\n",
    "    global all_items_df\n",
    "    \n",
    "    icons = []\n",
    "    for index,item in all_items_df.iterrows():\n",
    "        filename = path_grid_icons + item['id'] + filename_ending_grid_icon\n",
    "        if exists(filename):\n",
    "            icon = np.asarray(Image.open(filename))\n",
    "            icon = cv2.resize(icon, ((int) (icon.shape[1]*window_scale_factor)\n",
    "                                     , (int) (icon.shape[0]*window_scale_factor)))\n",
    "            icons.append(icon)\n",
    "        else:\n",
    "            icons.append([])\n",
    "            if verbose:\n",
    "                print(f\"File {filename} does not exist.\")\n",
    "    return icons\n",
    "\n",
    "def run_sift(img):\n",
    "    global sift\n",
    "    gray = cv2.cvtColor(img,cv2.COLOR_BGR2GRAY)\n",
    "#     edge = cv2.Canny(gray, threshold1=50, threshold2=50, apertureSize=5)\n",
    "#     gray = cv2.blur(gray, (2,2))\n",
    "    kp,des = sift.detectAndCompute(gray,None)\n",
    "    return kp,des\n",
    "\n",
    "def run_orb(img):\n",
    "    global orb\n",
    "    kp,des = orb.detectAndCompute(img, None)\n",
    "    return kp,des\n",
    "\n",
    "def run_surf(img):\n",
    "    global surf\n",
    "    kp,des = surf.detectAndCompute(img,None)\n",
    "    return kp,des\n",
    "    \n",
    "def create_all_descriptors():\n",
    "    global icons\n",
    "    descriptors = []\n",
    "    for icon in icons:\n",
    "        if len(icon) == 0:\n",
    "            descriptors.append(None)\n",
    "            continue\n",
    "        icon = icon[0:slot_size, 0:slot_size]\n",
    "        kp,des = run_sift(icon) #run_orb(icon) #run_sift(icon)\n",
    "        descriptors.append(des)\n",
    "    return descriptors\n",
    "\n",
    "def predict_icon(img):\n",
    "    global icons, bf, descriptors\n",
    "    distances = []\n",
    "\n",
    "    kp,des = run_sift(img) #run_orb(img) #run_sift(img)\n",
    "\n",
    "    for i in range(len(icons)):\n",
    "        if descriptors[i] is None:\n",
    "            distances.append(999999)\n",
    "            continue\n",
    "\n",
    "        matches = bf.match(des,descriptors[i])\n",
    "        matches = sorted(matches, key = lambda x:x.distance)\n",
    "        matches = matches[:30]\n",
    "        \n",
    "        if len(matches) == 0:\n",
    "            distances.append(999999)\n",
    "            continue\n",
    "        \n",
    "#         print(f'i: {i} -- {matches}')\n",
    "        distance = 0.0\n",
    "        for match in matches:\n",
    "            distance += match.distance/len(matches)\n",
    "            \n",
    "        distances.append(distance)\n",
    "\n",
    "    prediction = np.argmin(distances)\n",
    "    min_distance = min(distances)\n",
    "    \n",
    "#     print(f\"distance: {min_distance}\")\n",
    "    \n",
    "    # filter predictions\n",
    "#     threshold = 60000\n",
    "#     if min_distance > threshold:\n",
    "#         return -1,-1\n",
    "    \n",
    "    return prediction,min_distance\n",
    "\n",
    "def predict_all_icons(images):\n",
    "    predictions = []\n",
    "    distances = []\n",
    "    for item in images:\n",
    "        p,d = predict_icon(item)\n",
    "        predictions.append(p)\n",
    "        distances.append(d)\n",
    "    return predictions,distances"
   ]
  },
  {
   "cell_type": "markdown",
   "id": "1464adc9",
   "metadata": {},
   "source": [
    "# find items in inventory"
   ]
  },
  {
   "cell_type": "code",
   "execution_count": null,
   "id": "40f85da7",
   "metadata": {},
   "outputs": [],
   "source": [
    "# paths\n",
    "path_icons = './icons/'\n",
    "path_images = './images/'\n",
    "path_grid_icons = './grid_icons/'\n",
    "path_data = './data/'\n",
    "\n",
    "filename_ending_grid_icon = '-grid-image.jpg'\n",
    "\n",
    "matched_slots = []"
   ]
  },
  {
   "cell_type": "code",
   "execution_count": null,
   "id": "a954a1bb",
   "metadata": {},
   "outputs": [],
   "source": [
    "# get tarkov window\n",
    "window_title_tarkov = 'EscapeFromTarkov'\n",
    "window_tarkov = gw.getWindowsWithTitle(window_title_tarkov)[0]\n",
    "window_tarkov_position = window_tarkov.topleft\n",
    "window_tarkov_size = window_tarkov.size\n",
    "\n",
    "window_scale_factor = window_tarkov_size[1] / 1080.0\n",
    "slot_size = (int) (64*window_scale_factor) # in pixels, for FHD resolution"
   ]
  },
  {
   "cell_type": "code",
   "execution_count": null,
   "id": "c6dfd789",
   "metadata": {},
   "outputs": [],
   "source": [
    "# load inventory image\n",
    "# img_inventory = Image.open(path_images + 'inventar4.png')\n",
    "# img_inventory = np.asarray(img_inventory)\n",
    "screenshot = pyautogui.screenshot(region=(window_tarkov_position[0],window_tarkov_position[1]\n",
    "                                              , window_tarkov_size[0], window_tarkov_size[1]))\n",
    "img_inventory = np.array(screenshot)\n",
    "\n",
    "# filter inventory image\n",
    "t0 = time.time()\n",
    "inventory_filtered = inventory_line_detection(img_inventory)\n",
    "print(f'took {time.time()-t0} s')"
   ]
  },
  {
   "cell_type": "code",
   "execution_count": null,
   "id": "f001dfeb",
   "metadata": {},
   "outputs": [],
   "source": [
    "# load and filter slot reference image\n",
    "img_slot = Image.open(path_images + 'slot_empty.png')\n",
    "img_slot = np.asarray(img_slot)\n",
    "img_slot = cv2.resize(img_slot, ((int) (img_slot.shape[0]*window_scale_factor), (int) (img_slot.shape[1]*window_scale_factor)))\n",
    "img_slot_gray = cv2.cvtColor(img_slot, cv2.COLOR_BGR2GRAY)"
   ]
  },
  {
   "cell_type": "code",
   "execution_count": null,
   "id": "dd355a79",
   "metadata": {},
   "outputs": [],
   "source": [
    "# find slots in inventory\n",
    "t0 = time.time()\n",
    "slot_locations, matched_slots = find_slot_locations(inventory_filtered, img_slot_gray)\n",
    "print(f'took {time.time()-t0} s')\n",
    "\n",
    "# draw slots on image\n",
    "img_inventory = draw_slots_on_image(img_inventory, slot_locations)"
   ]
  },
  {
   "cell_type": "code",
   "execution_count": null,
   "id": "d86683a8",
   "metadata": {},
   "outputs": [],
   "source": [
    "# get item images from inventory\n",
    "item_images = get_items_from_inventory(img_inventory, slot_locations)"
   ]
  },
  {
   "cell_type": "code",
   "execution_count": null,
   "id": "4f76431b",
   "metadata": {},
   "outputs": [],
   "source": [
    "len(item_images)"
   ]
  },
  {
   "cell_type": "markdown",
   "id": "2baeafac",
   "metadata": {},
   "source": [
    "# predict items"
   ]
  },
  {
   "cell_type": "code",
   "execution_count": null,
   "id": "40abf011",
   "metadata": {},
   "outputs": [],
   "source": [
    "icons = []\n",
    "descriptors = []\n",
    "all_items_df = None\n",
    "predictions = []\n",
    "distances = []\n",
    "sift = cv2.SIFT_create()\n",
    "orb = cv2.ORB_create(nfeatures=100)\n",
    "#surf = cv2.xfeatures2d.SURF_create(400)\n",
    "# bf = cv2.BFMatcher(cv2.NORM_L1, crossCheck=False)\n",
    "bf = cv2.BFMatcher()\n",
    "\n",
    "# get descriptors of all items\n",
    "all_items_df = pd.read_csv(path_data + 'all_items.csv')\n",
    "icons = load_icons_from_disk()\n",
    "descriptors = create_all_descriptors()"
   ]
  },
  {
   "cell_type": "code",
   "execution_count": null,
   "id": "40bbeab7",
   "metadata": {},
   "outputs": [],
   "source": [
    "len(icons)"
   ]
  },
  {
   "cell_type": "code",
   "execution_count": null,
   "id": "a62e4c27",
   "metadata": {},
   "outputs": [],
   "source": [
    "# predict each item from inventory\n",
    "predictions,distances = predict_all_icons(item_images)\n",
    "predictions_df = pd.DataFrame({'slot_x': 0, 'slot_y': 0, 'predicted_item': predictions, 'distance': distances})"
   ]
  },
  {
   "cell_type": "code",
   "execution_count": null,
   "id": "7a77d0a6",
   "metadata": {},
   "outputs": [],
   "source": [
    "for i in range(len(predictions_df)):\n",
    "    predictions_df.loc[i,'slot_x'] = slot_locations[i][0]\n",
    "    predictions_df.loc[i,'slot_y'] = slot_locations[i][1]"
   ]
  },
  {
   "cell_type": "code",
   "execution_count": null,
   "id": "a823aff2",
   "metadata": {},
   "outputs": [],
   "source": [
    "# save predictions to file\n",
    "# predictions_df.to_csv(path_data + 'predictions_inventar4.csv', index=False)"
   ]
  },
  {
   "cell_type": "markdown",
   "id": "7ddbcab3",
   "metadata": {},
   "source": [
    "# debugging stuff"
   ]
  },
  {
   "cell_type": "code",
   "execution_count": null,
   "id": "421b4f7c",
   "metadata": {},
   "outputs": [],
   "source": [
    "# item_images"
   ]
  },
  {
   "cell_type": "code",
   "execution_count": null,
   "id": "342e07bc",
   "metadata": {},
   "outputs": [],
   "source": [
    "# threshold = 200000\n",
    "# predictions_filtered = []\n",
    "# for prediction in predictions:\n",
    "#     if prediction[1] > threshold:\n",
    "#         predictions_filtered.append((0, -1))\n",
    "#     else:\n",
    "#         predictions_filtered.append(prediction)"
   ]
  },
  {
   "cell_type": "code",
   "execution_count": null,
   "id": "c26fcbca",
   "metadata": {},
   "outputs": [],
   "source": [
    "predictions_here = predictions\n",
    "\n",
    "w = 10\n",
    "h = 10\n",
    "fig = plt.figure(figsize=(8, 8))\n",
    "columns = 10\n",
    "rows = 10\n",
    "for i in range(0,columns*rows,2):\n",
    "    img = item_images[(int) (i/2)].copy()\n",
    "    fig.add_subplot(rows, columns, i+1)\n",
    "    plt.imshow(img)\n",
    "    img = icons[predictions[(int) (i/2)]]\n",
    "    fig.add_subplot(rows, columns, i+2)\n",
    "    plt.imshow(img)\n",
    "plt.show()"
   ]
  },
  {
   "cell_type": "code",
   "execution_count": null,
   "id": "115062a8",
   "metadata": {
    "scrolled": false
   },
   "outputs": [],
   "source": [
    "w = 10\n",
    "h = 10\n",
    "fig = plt.figure(figsize=(8, 14))\n",
    "columns = 5\n",
    "rows = 10\n",
    "for i in range(0,columns*rows,1):\n",
    "#     if distances[(int) (i/2)]:\n",
    "#         continue\n",
    "    img1 = item_images[i].copy()\n",
    "    kp1,des1 = run_sift(img1)\n",
    "    \n",
    "    img2 = icons[predictions[i]].copy()\n",
    "    kp2,des2 = run_sift(img2)\n",
    "    \n",
    "    matches = bf.match(des1,des2)\n",
    "    matches = sorted(matches, key = lambda x:x.distance)\n",
    "    matches = matches[:5]\n",
    "                \n",
    "    img3 = cv2.drawMatches(img1, kp1, img2, kp2, matches, None, flags=cv2.DrawMatchesFlags_NOT_DRAW_SINGLE_POINTS)\n",
    "    \n",
    "    distance = (int) (distances[i])\n",
    "    if distance > 300:\n",
    "        continue\n",
    "        \n",
    "    fig.add_subplot(rows, columns, i+1, title=distance)\n",
    "    plt.imshow(img3)\n",
    "    \n",
    "plt.show()"
   ]
  },
  {
   "cell_type": "code",
   "execution_count": null,
   "id": "fb1f0997",
   "metadata": {},
   "outputs": [],
   "source": []
  },
  {
   "cell_type": "code",
   "execution_count": null,
   "id": "e53c45ce",
   "metadata": {},
   "outputs": [],
   "source": []
  },
  {
   "cell_type": "code",
   "execution_count": null,
   "id": "d3870090",
   "metadata": {},
   "outputs": [],
   "source": []
  },
  {
   "cell_type": "code",
   "execution_count": null,
   "id": "a5e469e8",
   "metadata": {},
   "outputs": [],
   "source": []
  },
  {
   "cell_type": "code",
   "execution_count": null,
   "id": "e03a869b",
   "metadata": {},
   "outputs": [],
   "source": []
  },
  {
   "cell_type": "code",
   "execution_count": null,
   "id": "1454365a",
   "metadata": {},
   "outputs": [],
   "source": [
    "def run_sift(img):\n",
    "    global sift\n",
    "    gray = cv2.cvtColor(img,cv2.COLOR_BGR2GRAY)\n",
    "#     edge = cv2.Canny(gray, threshold1=50, threshold2=50)\n",
    "#     gray = cv2.blur(gray, (3,3))\n",
    "    kp,des = sift.detectAndCompute(gray,None)\n",
    "    return kp,des"
   ]
  },
  {
   "cell_type": "code",
   "execution_count": null,
   "id": "86e50100",
   "metadata": {},
   "outputs": [],
   "source": [
    "i = 200\n",
    "img1 = icons[i].copy()\n",
    "img1 = cv2.resize(img1, ((int) (img1.shape[0]*window_scale_factor), (int) (img1.shape[1]*window_scale_factor)))\n",
    "kp1,des1 = run_sift(img1)\n",
    "img1 = cv2.drawKeypoints(img1,kp1,img1,flags=cv2.DRAW_MATCHES_FLAGS_DRAW_RICH_KEYPOINTS)\n",
    "\n",
    "Image.fromarray(img1)"
   ]
  },
  {
   "cell_type": "code",
   "execution_count": null,
   "id": "dabda9e3",
   "metadata": {
    "scrolled": false
   },
   "outputs": [],
   "source": [
    "i = 2\n",
    "img2 = item_images[i].copy()\n",
    "kp2,des2 = run_sift(img2)\n",
    "img2 = cv2.drawKeypoints(img2,kp2,img2,flags=cv2.DRAW_MATCHES_FLAGS_DRAW_RICH_KEYPOINTS)\n",
    "\n",
    "Image.fromarray(img2)"
   ]
  },
  {
   "cell_type": "code",
   "execution_count": null,
   "id": "09ef8488",
   "metadata": {
    "scrolled": true
   },
   "outputs": [],
   "source": [
    "matches = bf.match(des1,des2)\n",
    "# Apply ratio test\n",
    "# good = []\n",
    "# for m,n in matches:\n",
    "#     if m.distance < 0.75*n.distance:\n",
    "#         good.append([m])\n",
    "matches = sorted(matches, key = lambda x:x.distance)\n",
    "matches = matches[:20]\n",
    "                \n",
    "img3 = cv2.drawMatches(img1, kp1, img2, kp2, matches, None, flags=cv2.DrawMatchesFlags_NOT_DRAW_SINGLE_POINTS)\n",
    "Image.fromarray(img3)"
   ]
  },
  {
   "cell_type": "code",
   "execution_count": null,
   "id": "67b74510",
   "metadata": {
    "scrolled": true
   },
   "outputs": [],
   "source": [
    "distance = 0.0\n",
    "for match in matches:\n",
    "    distance += match.distance/len(matches)\n",
    "    \n",
    "print(distance)"
   ]
  },
  {
   "cell_type": "code",
   "execution_count": null,
   "id": "5dc95120",
   "metadata": {},
   "outputs": [],
   "source": [
    "predictions"
   ]
  },
  {
   "cell_type": "code",
   "execution_count": null,
   "id": "bd1d72ac",
   "metadata": {},
   "outputs": [],
   "source": [
    "Image.fromarray(inventory_filtered)"
   ]
  },
  {
   "cell_type": "code",
   "execution_count": null,
   "id": "dfa0dca8",
   "metadata": {
    "scrolled": false
   },
   "outputs": [],
   "source": [
    "# Image.fromarray(img_slot_np_edge)\n",
    "# Image.fromarray(res)\n",
    "# plt.imshow(res[3], cmap='gray')\n",
    "Image.fromarray(img_inventory)\n",
    "# Image.fromarray(hough)"
   ]
  },
  {
   "cell_type": "code",
   "execution_count": null,
   "id": "c4494182",
   "metadata": {},
   "outputs": [],
   "source": [
    "downscale = 2\n",
    "img = img_inventory.copy()\n",
    "img = cv2.resize(img, ((int) (img.shape[1]/downscale)\n",
    "                                 , (int) (img.shape[0]/downscale)))\n",
    "\n",
    "img_inventory_edge = edge_detection(img)\n",
    "\n",
    "img_horizontal = img_inventory_edge.copy()\n",
    "img_vertical = img_inventory_edge.copy()\n",
    "\n",
    "line_length = (int) (40/downscale)\n",
    "horizontal_struct = cv2.getStructuringElement(cv2.MORPH_RECT, (line_length,1))\n",
    "vertical_struct = cv2.getStructuringElement(cv2.MORPH_RECT, (1,line_length))\n",
    "\n",
    "cv2.erode(img_horizontal, horizontal_struct, img_horizontal)\n",
    "cv2.dilate(img_horizontal, horizontal_struct, img_horizontal)\n",
    "\n",
    "cv2.erode(img_vertical, vertical_struct, img_vertical)\n",
    "cv2.dilate(img_vertical, vertical_struct, img_vertical)\n",
    "\n",
    "result = cv2.add(img_horizontal, img_vertical)"
   ]
  },
  {
   "cell_type": "code",
   "execution_count": null,
   "id": "6f432d41",
   "metadata": {},
   "outputs": [],
   "source": [
    "img.shape"
   ]
  },
  {
   "cell_type": "code",
   "execution_count": null,
   "id": "88ca2a81",
   "metadata": {},
   "outputs": [],
   "source": [
    "Image.fromarray(result)"
   ]
  },
  {
   "cell_type": "code",
   "execution_count": null,
   "id": "9703e4ab",
   "metadata": {},
   "outputs": [],
   "source": []
  },
  {
   "cell_type": "code",
   "execution_count": null,
   "id": "1a22b80c",
   "metadata": {},
   "outputs": [],
   "source": []
  }
 ],
 "metadata": {
  "kernelspec": {
   "display_name": "Python 3 (ipykernel)",
   "language": "python",
   "name": "python3"
  },
  "language_info": {
   "codemirror_mode": {
    "name": "ipython",
    "version": 3
   },
   "file_extension": ".py",
   "mimetype": "text/x-python",
   "name": "python",
   "nbconvert_exporter": "python",
   "pygments_lexer": "ipython3",
   "version": "3.10.6"
  }
 },
 "nbformat": 4,
 "nbformat_minor": 5
}
